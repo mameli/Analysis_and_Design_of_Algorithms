{
 "cells": [
  {
   "cell_type": "markdown",
   "metadata": {
    "deletable": true,
    "editable": true
   },
   "source": [
    "# Progetto PAA\n",
    "Autore: Filippo Mameli - 6222254 - filippo.mameli@stud.unifi.it\n",
    "\n",
    "### Setup del progetto"
   ]
  },
  {
   "cell_type": "code",
   "execution_count": 1,
   "metadata": {
    "collapsed": false,
    "deletable": true,
    "editable": true
   },
   "outputs": [],
   "source": [
    "from sympy import *\n",
    "from sympy import Sum, factorial, oo\n",
    "from sympy.abc import i, j, k, m, n, x, t\n",
    "import sys\n",
    "init_printing()"
   ]
  },
  {
   "cell_type": "code",
   "execution_count": 2,
   "metadata": {
    "collapsed": false,
    "deletable": true,
    "editable": true
   },
   "outputs": [
    {
     "data": {
      "image/png": "[encoded data removed]",
      "text/latex": [
       "$$\\left( n \\mapsto \\frac{{\\binom{2 n}{n}}}{n + 1} \\right)$$"
      ],
      "text/plain": [
       "    ⎛2⋅n⎞\n",
       "    ⎜   ⎟\n",
       "    ⎝ n ⎠\n",
       "n ↦ ─────\n",
       "    n + 1"
      ]
     },
     "execution_count": 2,
     "metadata": {},
     "output_type": "execute_result"
    }
   ],
   "source": [
    "C = Function('C')\n",
    "n = symbols('n', integer=True)\n",
    "catalan_expr = 1 / (n + 1) * binomial(2 * n, n)\n",
    "CN = Lambda([n], catalan_expr)\n",
    "CN"
   ]
  },
  {
   "cell_type": "markdown",
   "metadata": {
    "collapsed": true,
    "deletable": true,
    "editable": true
   },
   "source": [
    "I primi 10 numeri di catalan sono:"
   ]
  },
  {
   "cell_type": "code",
   "execution_count": 3,
   "metadata": {
    "collapsed": false,
    "deletable": true,
    "editable": true
   },
   "outputs": [
    {
     "data": {
      "image/png": "[encoded data removed]",
      "text/latex": [
       "$$\\left [ 1, \\quad 1, \\quad 2, \\quad 5, \\quad 14, \\quad 42, \\quad 132, \\quad 429, \\quad 1430, \\quad 4862, \\quad 16796\\right ]$$"
      ],
      "text/plain": [
       "[1, 1, 2, 5, 14, 42, 132, 429, 1430, 4862, 16796]"
      ]
     },
     "execution_count": 3,
     "metadata": {},
     "output_type": "execute_result"
    }
   ],
   "source": [
    "[(CN(i).doit()) for i in range(0, 11)]"
   ]
  },
  {
   "cell_type": "markdown",
   "metadata": {
    "deletable": true,
    "editable": true
   },
   "source": [
    "### Coefficienti binomiali centrali\n",
    "Sappiamo che la funzione generatrice dei coefficienti binomiali centrali è data da:\n",
    "$$\\sum_{n=0}^{\\infty}\\binom{2n}{n}x^n = \\frac{1}{\\sqrt{1-4x}}$$\n",
    "Si può controllare infatti per i primi dieci elementi che questa relazione è vera"
   ]
  },
  {
   "cell_type": "code",
   "execution_count": 4,
   "metadata": {
    "collapsed": false,
    "deletable": true,
    "editable": true
   },
   "outputs": [
    {
     "data": {
      "image/png": "[encoded data removed]",
      "text/latex": [
       "$$\\left( n \\mapsto {\\binom{2 n}{n}} \\right)$$"
      ],
      "text/plain": [
       "    ⎛2⋅n⎞\n",
       "n ↦ ⎜   ⎟\n",
       "    ⎝ n ⎠"
      ]
     },
     "execution_count": 4,
     "metadata": {},
     "output_type": "execute_result"
    }
   ],
   "source": [
    "centralN = Lambda([n], binomial(2 * n, n))\n",
    "centralN"
   ]
  },
  {
   "cell_type": "code",
   "execution_count": 5,
   "metadata": {
    "collapsed": false,
    "deletable": true,
    "editable": true
   },
   "outputs": [
    {
     "data": {
      "image/png": "[encoded data removed]",
      "text/latex": [
       "$$\\left [ 1, \\quad 2, \\quad 6, \\quad 20, \\quad 70, \\quad 252, \\quad 924, \\quad 3432, \\quad 12870, \\quad 48620, \\quad 184756\\right ]$$"
      ],
      "text/plain": [
       "[1, 2, 6, 20, 70, 252, 924, 3432, 12870, 48620, 184756]"
      ]
     },
     "execution_count": 5,
     "metadata": {},
     "output_type": "execute_result"
    }
   ],
   "source": [
    "[(centralN(i).doit()) for i in range(0, 11)]"
   ]
  },
  {
   "cell_type": "code",
   "execution_count": 6,
   "metadata": {
    "collapsed": false,
    "deletable": true,
    "editable": true
   },
   "outputs": [
    {
     "data": {
      "image/png": "[encoded data removed]",
      "text/latex": [
       "$$\\left( n \\mapsto \\frac{1}{\\sqrt{- 4 x + 1}} \\right)$$"
      ],
      "text/plain": [
       "         1      \n",
       "n ↦ ────────────\n",
       "      __________\n",
       "    ╲╱ -4⋅x + 1 "
      ]
     },
     "execution_count": 6,
     "metadata": {},
     "output_type": "execute_result"
    }
   ],
   "source": [
    "x = symbols('x', integer=True)\n",
    "centralBinomialCoef_expr = Lambda([n],1 / (sqrt(1 - 4 * x)))\n",
    "centralBinomialCoef_expr"
   ]
  },
  {
   "cell_type": "code",
   "execution_count": 7,
   "metadata": {
    "collapsed": false,
    "deletable": true,
    "editable": true
   },
   "outputs": [
    {
     "data": {
      "image/png": "[encoded data removed]",
      "text/latex": [
       "$$1 + 2 x + 6 x^{2} + 20 x^{3} + 70 x^{4} + 252 x^{5} + 924 x^{6} + 3432 x^{7} + 12870 x^{8} + 48620 x^{9} + 184756 x^{10} + \\mathcal{O}\\left(x^{11}\\right)$$"
      ],
      "text/plain": [
       "             2       3       4        5        6         7          8         \n",
       "1 + 2⋅x + 6⋅x  + 20⋅x  + 70⋅x  + 252⋅x  + 924⋅x  + 3432⋅x  + 12870⋅x  + 48620⋅\n",
       "\n",
       " 9           10    ⎛ 11⎞\n",
       "x  + 184756⋅x   + O⎝x  ⎠"
      ]
     },
     "execution_count": 7,
     "metadata": {},
     "output_type": "execute_result"
    }
   ],
   "source": [
    "series(centralBinomialCoef_expr(x), x, n=11)"
   ]
  },
  {
   "cell_type": "markdown",
   "metadata": {
    "deletable": true,
    "editable": true
   },
   "source": [
    "### Numeri di Catalan\n",
    "Per i numeri di Catalan invece vale questa relazione:\n",
    "$$\\sum_{n=0}^{\\infty}C_nx^n =\\sum_{n=0}^{\\infty}\\frac{1}{n + 1}\\binom{2n}{n}x^n = \\frac{1-\\sqrt{1-4x}}{2x}$$\n",
    "Infatti:"
   ]
  },
  {
   "cell_type": "code",
   "execution_count": 8,
   "metadata": {
    "collapsed": false,
    "deletable": true,
    "editable": true
   },
   "outputs": [
    {
     "data": {
      "image/png": "[encoded data removed]",
      "text/latex": [
       "$$1 + x + 2 x^{2} + 5 x^{3} + 14 x^{4} + 42 x^{5} + 132 x^{6} + 429 x^{7} + 1430 x^{8} + 4862 x^{9} + 16796 x^{10} + \\mathcal{O}\\left(x^{11}\\right)$$"
      ],
      "text/plain": [
       "           2      3       4       5        6        7         8         9     \n",
       "1 + x + 2⋅x  + 5⋅x  + 14⋅x  + 42⋅x  + 132⋅x  + 429⋅x  + 1430⋅x  + 4862⋅x  + 16\n",
       "\n",
       "     10    ⎛ 11⎞\n",
       "796⋅x   + O⎝x  ⎠"
      ]
     },
     "execution_count": 8,
     "metadata": {},
     "output_type": "execute_result"
    }
   ],
   "source": [
    "catalan_expr = Lambda([n],(1 - sqrt(1 - 4 * x)) / (2*x))\n",
    "catalan_expr\n",
    "series(catalan_expr(x), x, n=11)"
   ]
  },
  {
   "cell_type": "markdown",
   "metadata": {
    "deletable": true,
    "editable": true
   },
   "source": [
    "Dalla funzione generatrice dei coefficienti binomiali, i numeri di Catalan e i numeri amonici\n",
    "sono state ricavate alcune interessanti serie come\n",
    "$\\sum_{n=1}^{\\infty}\\frac{1}{n^3}H_n = \\frac{\\pi^4}{72}$ e $\\sum_{n=1}^{\\infty}\\frac{1}{n^2}H_n^2 = \\frac{17\\pi^4}{360}$\n",
    "\n",
    "Per ragioni di calcolo si utilizza la seconda formula sviluppata nell'articolo cioe':\n",
    "$\\frac{5}{4}\\sum_{n=1}^{\\infty}\\frac{1}{n^4} = \\frac{\\pi^4}{72}$"
   ]
  },
  {
   "cell_type": "code",
   "execution_count": 9,
   "metadata": {
    "collapsed": false,
    "deletable": true,
    "editable": true
   },
   "outputs": [
    {
     "data": {
      "text/plain": [
       "True"
      ]
     },
     "execution_count": 9,
     "metadata": {},
     "output_type": "execute_result"
    }
   ],
   "source": [
    "h1 = Lambda([n], Sum(harmonic(n)*1/n**3, (n, 1, 100)))\n",
    "h1_simple = Lambda([n], zeta(4) * 5/4)\n",
    "(h1_simple(n).doit()) == (pi**4/72).doit()\n",
    "# h1(n).evalf() - (pi**4/72).doit()"
   ]
  },
  {
   "cell_type": "code",
   "execution_count": 10,
   "metadata": {
    "collapsed": false,
    "deletable": true,
    "editable": true
   },
   "outputs": [
    {
     "data": {
      "text/plain": [
       "True"
      ]
     },
     "execution_count": 10,
     "metadata": {},
     "output_type": "execute_result"
    }
   ],
   "source": [
    "h2 = Lambda([n], Sum(harmonic(n)**2*1/n**2, (n, 1, oo)))\n",
    "h2_simple = Lambda([n], zeta(4) * 17/4)\n",
    "(h2_simple(n).doit()) == (17*pi**4/360).doit()"
   ]
  },
  {
   "cell_type": "markdown",
   "metadata": {
    "deletable": true,
    "editable": true
   },
   "source": [
    "#### Formula 4\n",
    "$$\\sum_{k=0}^{n}\\binom{n}{k}^2H_k = \\binom{2n}{n}(2H_n - H_{2n})$$"
   ]
  },
  {
   "cell_type": "code",
   "execution_count": 11,
   "metadata": {
    "collapsed": false,
    "deletable": true,
    "editable": true
   },
   "outputs": [
    {
     "data": {
      "text/plain": [
       "[True, True, True, True, True, True, True, True, True, True]"
      ]
     },
     "execution_count": 11,
     "metadata": {},
     "output_type": "execute_result"
    }
   ],
   "source": [
    "h3 = Lambda([n], Sum(harmonic(k) * binomial(n,k)**2, (k, 1, n)))\n",
    "h3_expr = Lambda([n], binomial(2*n, n)*(2*harmonic(n) - harmonic(2*n)))\n",
    "[(h3(i).doit() == h3_expr(i).doit()) for i in range(0, 10)]"
   ]
  },
  {
   "cell_type": "markdown",
   "metadata": {
    "deletable": true,
    "editable": true
   },
   "source": [
    "#### Formula 5\n",
    "$$\\sum_{n=0}^{\\infty}\\frac{1}{8^n}\\binom{n}{k}H_n = 2\\sqrt2 \\ ln \\ (\\frac{1 +\\sqrt2}{2})$$"
   ]
  },
  {
   "cell_type": "code",
   "execution_count": 12,
   "metadata": {
    "collapsed": false,
    "deletable": true,
    "editable": true
   },
   "outputs": [
    {
     "data": {
      "text/plain": [
       "True"
      ]
     },
     "execution_count": 12,
     "metadata": {},
     "output_type": "execute_result"
    }
   ],
   "source": [
    "h4 = Lambda([n], Sum(harmonic(n) * binomial(2*n, n) * 1/ 8**n, (n, 0, oo)))\n",
    "h4_expr = 2 * sqrt(2) * ln((1 + sqrt(2)) / 2)\n",
    "h4(n).evalf() == h4_expr.evalf()"
   ]
  },
  {
   "cell_type": "markdown",
   "metadata": {
    "deletable": true,
    "editable": true
   },
   "source": [
    "#### Formula 6\n",
    "$$ h_n = 1 + \\frac{1}{3} + \\frac{1}{5} + \\dots + + \\frac{1}{2n - 1}  $$"
   ]
  },
  {
   "cell_type": "code",
   "execution_count": 13,
   "metadata": {
    "collapsed": false,
    "deletable": true,
    "editable": true,
    "scrolled": true
   },
   "outputs": [
    {
     "data": {
      "image/png": "[encoded data removed]",
      "text/latex": [
       "$$\\left( n \\mapsto \\sum_{k=1}^{n} \\frac{1}{2 k - 1} \\right)$$"
      ],
      "text/plain": [
       "      n          \n",
       "     ____        \n",
       "     ╲           \n",
       "      ╲      1   \n",
       "       ╲  ───────\n",
       "n ↦    ╱  2⋅k - 1\n",
       "      ╱          \n",
       "     ╱           \n",
       "     ‾‾‾‾        \n",
       "    k = 1        "
      ]
     },
     "execution_count": 13,
     "metadata": {},
     "output_type": "execute_result"
    }
   ],
   "source": [
    "h_n = Lambda([n], Sum(1/ (2*k - 1), (k, 1, n)))\n",
    "h_n"
   ]
  },
  {
   "cell_type": "markdown",
   "metadata": {
    "deletable": true,
    "editable": true
   },
   "source": [
    "#### Formula 7\n",
    "$\\sum_{n=1}^{\\infty} 8^{- n} {\\binom{2 n}{n}} \\operatorname{F}{\\left (n \\right )}h_n = \\frac{\\sqrt{10}}{10} \\log{\\left (2 \\right )} + \\frac{\\sqrt{2}}{2} \\log{\\left (\\frac{\\sqrt{5}}{2} + \\frac{3}{2} \\right )}$"
   ]
  },
  {
   "cell_type": "code",
   "execution_count": 14,
   "metadata": {
    "collapsed": false,
    "deletable": true,
    "editable": true
   },
   "outputs": [
    {
     "data": {
      "text/plain": [
       "True"
      ]
     },
     "execution_count": 14,
     "metadata": {},
     "output_type": "execute_result"
    }
   ],
   "source": [
    "h5 = Lambda([n], Sum(h_n(n) * binomial(2*n, n) * 1/ 8**n * fibonacci(n), (n, 1, 107)))\n",
    "h5_expr = 1/sqrt(10) * ln(2) + 1/sqrt(2) * ln((3 + sqrt(5))/ 2)\n",
    "h5(n).evalf().round(10) == h5_expr.evalf().round(10)"
   ]
  },
  {
   "cell_type": "markdown",
   "metadata": {
    "deletable": true,
    "editable": true
   },
   "source": [
    "#### Formula 8\n",
    "\n",
    "\\begin{equation}\n",
    "\\sum_{n=1}^\\infty\\,\\binom{2n}{n}(H_{2n-1} - H_n)\\frac{x^n}{n} = \\ln^2(C(x)).\n",
    "\\end{equation}"
   ]
  },
  {
   "cell_type": "code",
   "execution_count": 15,
   "metadata": {
    "collapsed": false,
    "deletable": true,
    "editable": true
   },
   "outputs": [
    {
     "data": {
      "image/png": "[encoded data removed]",
      "text/latex": [
       "$$\\left [ 0, \\quad 1, \\quad 3, \\quad \\frac{107}{12}, \\quad \\frac{55}{2}, \\quad \\frac{15797}{180}, \\quad \\frac{4319}{15}, \\quad \\frac{108175}{112}, \\quad \\frac{277075}{84}\\right ]$$"
      ],
      "text/plain": [
       "⎡         107        15797  4319  108175  277075⎤\n",
       "⎢0, 1, 3, ───, 55/2, ─────, ────, ──────, ──────⎥\n",
       "⎣          12         180    15    112      84  ⎦"
      ]
     },
     "execution_count": 15,
     "metadata": {},
     "output_type": "execute_result"
    }
   ],
   "source": [
    "h6 = Lambda([n], binomial(2*n, n) * (harmonic(2 * n - 1)- harmonic(n))/n)\n",
    "[(h6(i).doit()) for i in range(1, 10)]"
   ]
  },
  {
   "cell_type": "code",
   "execution_count": 16,
   "metadata": {
    "collapsed": false,
    "deletable": true,
    "editable": true
   },
   "outputs": [
    {
     "data": {
      "image/png": "[encoded data removed]",
      "text/latex": [
       "$$x^{2} + 3 x^{3} + \\frac{107 x^{4}}{12} + \\frac{55 x^{5}}{2} + \\frac{15797 x^{6}}{180} + \\frac{4319 x^{7}}{15} + \\frac{108175 x^{8}}{112} + \\frac{277075 x^{9}}{84} + \\mathcal{O}\\left(x^{10}\\right)$$"
      ],
      "text/plain": [
       "                 4       5          6         7           8           9       \n",
       " 2      3   107⋅x    55⋅x    15797⋅x    4319⋅x    108175⋅x    277075⋅x     ⎛ 1\n",
       "x  + 3⋅x  + ────── + ───── + ──────── + ─────── + ───────── + ───────── + O⎝x \n",
       "              12       2       180         15        112          84          \n",
       "\n",
       "  \n",
       "0⎞\n",
       " ⎠\n",
       "  "
      ]
     },
     "execution_count": 16,
     "metadata": {},
     "output_type": "execute_result"
    }
   ],
   "source": [
    "h6_expr = Lambda([n],(ln(catalan_expr(x)))**2)\n",
    "series(h6_expr(x), x, n=10)"
   ]
  },
  {
   "cell_type": "markdown",
   "metadata": {
    "deletable": true,
    "editable": true
   },
   "source": [
    "# The main theorems\n",
    "$$H_n = \\sum_{k=1}^n\\,\\frac{1}{k} = \\int_0^1\\,\\left(\\sum_{k=0}^{n-1}\\,t^k\\right)\\,dt = \\int_0^1\\,\\frac{1- t^n}{1-t}\\,dt,$$"
   ]
  },
  {
   "cell_type": "code",
   "execution_count": 17,
   "metadata": {
    "collapsed": false,
    "deletable": true,
    "editable": true
   },
   "outputs": [
    {
     "data": {
      "text/plain": [
       "[(0, True),\n",
       " (1, True),\n",
       " (3/2, True),\n",
       " (11/6, True),\n",
       " (25/12, True),\n",
       " (137/60, True),\n",
       " (49/20, True),\n",
       " (363/140, True),\n",
       " (761/280, True),\n",
       " (7129/2520, True),\n",
       " (7381/2520, True)]"
      ]
     },
     "execution_count": 17,
     "metadata": {},
     "output_type": "execute_result"
    }
   ],
   "source": [
    "harmonic(n)\n",
    "h7 = Lambda([n], Integral(Sum(x**k, (k, 0, n - 1)),(x, 0, 1)))\n",
    "h7_2 = Lambda([n], Integral((1 - t**n)/(1 - t),(t, 0, 1)))\n",
    "[(h7(i).doit(), h7(i).doit() == harmonic(i) == h7_2(i).doit()) for i in range(0, 11)]"
   ]
  },
  {
   "cell_type": "markdown",
   "metadata": {
    "collapsed": true,
    "deletable": true,
    "editable": true
   },
   "source": [
    "\\begin{eqnarray*}\n",
    "\\sum_{n=1}^\\infty\\,\\binom{2n}{n}H_n\\,x^n & = & \\sum_{n=1}^\\infty\\,\\binom{2n}{n}x^n\\int_0^1\\,\\frac{1- t^n}{1-t}\\,dt\\\\\n",
    "& = & \\int_0^1\\,\\frac{1}{1-t}\\,\\left(\\sum_{n=1}^\\infty\\,\\binom{2n}{n}\\,(x^n - (xt)^n)\\right)\\,dt\\\\\n",
    "& = & \\int_0^1\\,\\frac{1}{1-t}\\left(\\frac{1}{\\sqrt{1-4x}} - \\frac{1}{\\sqrt{1 -4xt}}\\right)\\,dt.\n",
    "\\end{eqnarray*}"
   ]
  },
  {
   "cell_type": "code",
   "execution_count": 139,
   "metadata": {
    "collapsed": false,
    "deletable": true,
    "editable": true
   },
   "outputs": [
    {
     "data": {
      "image/png": "[encoded data removed]",
      "text/latex": [
       "$$\\left( n \\mapsto \\frac{1}{2 \\sqrt{x} - 1} \\left(2 \\int_{0}^{1} - \\frac{\\sqrt{x}}{2 t \\sqrt{t x} - t - 2 \\sqrt{t x} + 1}\\, dt + 2 \\int_{0}^{1} \\frac{\\sqrt{t x}}{2 t \\sqrt{t x} - t - 2 \\sqrt{t x} + 1}\\, dt\\right) \\right)$$"
      ],
      "text/plain": [
       "      ⎛                                       1                               \n",
       "      ⎜1                                      ⌠                               \n",
       "      ⎜⌠                                      ⎮               _____           \n",
       "      ⎜⎮               -√x                    ⎮             ╲╱ t⋅x            \n",
       "    2⋅⎜⎮ ─────────────────────────────── dt + ⎮ ──────────────────────────────\n",
       "      ⎜⎮       _____           _____          ⎮       _____           _____   \n",
       "      ⎜⎮ 2⋅t⋅╲╱ t⋅x  - t - 2⋅╲╱ t⋅x  + 1      ⎮ 2⋅t⋅╲╱ t⋅x  - t - 2⋅╲╱ t⋅x  + \n",
       "      ⎜⌡                                      ⌡                               \n",
       "      ⎝0                                      0                               \n",
       "n ↦ ──────────────────────────────────────────────────────────────────────────\n",
       "                                        2⋅√x - 1                              \n",
       "\n",
       "    ⎞\n",
       "    ⎟\n",
       "    ⎟\n",
       "    ⎟\n",
       "─ dt⎟\n",
       "    ⎟\n",
       "1   ⎟\n",
       "    ⎟\n",
       "    ⎠\n",
       "─────\n",
       "     "
      ]
     },
     "execution_count": 139,
     "metadata": {},
     "output_type": "execute_result"
    }
   ],
   "source": [
    "h9 = Lambda([n], binomial(2*n, n)* harmonic(n))\n",
    "# h9_2 = Lambda([n], binomial(2*n, n)* Integral((1 - t**n)/(1 - t),(t, 0, 1)))\n",
    "# h9_3 = Lambda([n], Integral(1/(1 - t) * Sum(binomial(2*n, n), (n, 1, oo)), (t, 0, 1)))\n",
    "h9_4 = Lambda([n], integrate(1/(1 - t) * (1/(1 - sqrt(4*x)) - 1/(1 - sqrt(4*x*t))), (t, 0, 1)))\n",
    "h9_4.simplify()"
   ]
  },
  {
   "cell_type": "markdown",
   "metadata": {
    "deletable": true,
    "editable": true
   },
   "source": [
    "### Teorema 1\n",
    "Sia $H_n$ l'ennesimo numero armonico. Allora\n",
    "\\begin{equation} \n",
    "\\sum_{n=1}^\\infty\\,\\binom{2n}{n}H_n\\,x^n = \\frac{2}{\\sqrt{1-4x}}\\,\\ln\\left(\\frac{1+\\sqrt{1 -4x}}{2\\sqrt{1-4x}}\\right). \n",
    "\\end{equation}"
   ]
  },
  {
   "cell_type": "code",
   "execution_count": 32,
   "metadata": {
    "collapsed": false,
    "deletable": true,
    "editable": true
   },
   "outputs": [
    {
     "data": {
      "image/png": "[encoded data removed]",
      "text/latex": [
       "$$\\left [ 2, \\quad 9, \\quad \\frac{110}{3}, \\quad \\frac{875}{6}, \\quad \\frac{2877}{5}, \\quad \\frac{11319}{5}, \\quad \\frac{311454}{35}, \\quad \\frac{979407}{28}\\right ]$$"
      ],
      "text/plain": [
       "⎡                                     311454  979407⎤\n",
       "⎢2, 9, 110/3, 875/6, 2877/5, 11319/5, ──────, ──────⎥\n",
       "⎣                                       35      28  ⎦"
      ]
     },
     "execution_count": 32,
     "metadata": {},
     "output_type": "execute_result"
    }
   ],
   "source": [
    "h9 = Lambda([n], binomial(2*n, n)* harmonic(n))\n",
    "h_expr = Lambda([x], Integral(1/(1-t)*(1/sqrt(1-4*x)-1/sqrt(1-4*x*t)),(t, 0, 1)))\n",
    "[(h9(i).doit()) for i in range(1, 9)]"
   ]
  },
  {
   "cell_type": "code",
   "execution_count": 33,
   "metadata": {
    "collapsed": false,
    "deletable": true,
    "editable": true
   },
   "outputs": [
    {
     "data": {
      "image/png": "[encoded data removed]",
      "text/latex": [
       "$$2 x + 9 x^{2} + \\frac{110 x^{3}}{3} + \\frac{875 x^{4}}{6} + \\frac{2877 x^{5}}{5} + \\frac{11319 x^{6}}{5} + \\frac{311454 x^{7}}{35} + \\frac{979407 x^{8}}{28} + \\mathcal{O}\\left(x^{9}\\right)$$"
      ],
      "text/plain": [
       "                  3        4         5          6           7           8     \n",
       "         2   110⋅x    875⋅x    2877⋅x    11319⋅x    311454⋅x    979407⋅x     ⎛\n",
       "2⋅x + 9⋅x  + ────── + ────── + ─────── + ──────── + ───────── + ───────── + O⎝\n",
       "               3        6         5         5           35          28        \n",
       "\n",
       "   \n",
       " 9⎞\n",
       "x ⎠\n",
       "   "
      ]
     },
     "execution_count": 33,
     "metadata": {},
     "output_type": "execute_result"
    }
   ],
   "source": [
    "h9_expr = Lambda([n], 2/sqrt(1 - 4*x) * ln((1 + sqrt(1 - 4*x))/ (2*sqrt(1 - 4*x))))\n",
    "series(h9_expr(x), x, n=9)"
   ]
  },
  {
   "cell_type": "markdown",
   "metadata": {
    "deletable": true,
    "editable": true
   },
   "source": [
    "### Corollario 2\n",
    "Let $C_n$ be the $n$th Catalan number. Then\n",
    "\\begin{equation}  \n",
    "\\sum_{n=1}^\\infty\\,C_nH_n\\,x^{n+1} =  \\ln 2 + \\sqrt{1-4x}\\ln(2\\sqrt{1-4x}) - (1 + \\sqrt{1 -4x})\\ln(1+\\sqrt{1 -4x})). \n",
    "\\end{equation}\n"
   ]
  },
  {
   "cell_type": "code",
   "execution_count": 34,
   "metadata": {
    "collapsed": false,
    "deletable": true,
    "editable": true
   },
   "outputs": [
    {
     "data": {
      "image/png": "[encoded data removed]",
      "text/latex": [
       "$$\\left [ 1, \\quad 3, \\quad \\frac{55}{6}, \\quad \\frac{175}{6}, \\quad \\frac{959}{10}, \\quad \\frac{1617}{5}, \\quad \\frac{155727}{140}\\right ]$$"
      ],
      "text/plain": [
       "⎡                   959          155727⎤\n",
       "⎢1, 3, 55/6, 175/6, ───, 1617/5, ──────⎥\n",
       "⎣                    10           140  ⎦"
      ]
     },
     "execution_count": 34,
     "metadata": {},
     "output_type": "execute_result"
    }
   ],
   "source": [
    "h10 = Lambda([n], catalan(n) * harmonic(n))\n",
    "[(h10(i).doit()) for i in range(1, 8)]"
   ]
  },
  {
   "cell_type": "code",
   "execution_count": 35,
   "metadata": {
    "collapsed": false,
    "deletable": true,
    "editable": true
   },
   "outputs": [
    {
     "data": {
      "image/png": "[encoded data removed]",
      "text/latex": [
       "$$x^{2} + 3 x^{3} + \\frac{55 x^{4}}{6} + \\frac{175 x^{5}}{6} + \\frac{959 x^{6}}{10} + \\frac{1617 x^{7}}{5} + \\frac{155727 x^{8}}{140} + \\mathcal{O}\\left(x^{9}\\right)$$"
      ],
      "text/plain": [
       "                4        5        6         7           8        \n",
       " 2      3   55⋅x    175⋅x    959⋅x    1617⋅x    155727⋅x     ⎛ 9⎞\n",
       "x  + 3⋅x  + ───── + ────── + ────── + ─────── + ───────── + O⎝x ⎠\n",
       "              6       6        10        5         140           "
      ]
     },
     "execution_count": 35,
     "metadata": {},
     "output_type": "execute_result"
    }
   ],
   "source": [
    "h10_expr = Lambda([n], ln(2) + sqrt(1-4*x)*ln(2*sqrt(1-4*x))-(1 + sqrt(1 -4*x))*ln(1+sqrt(1 -4*x)))\n",
    "series(h10_expr(x), x, n=9)"
   ]
  },
  {
   "cell_type": "markdown",
   "metadata": {
    "deletable": true,
    "editable": true
   },
   "source": [
    "### Formula 11\n",
    "\\begin{equation}\n",
    "\\frac{1}{(1-x)^{m+1}}\\,\\ln\\frac{1}{1-x} = \\sum_{n=0}^\\infty\\,\\binom{m+n}{n}(H_{m+n} - H_m)x^n.\n",
    "\\end{equation}  \n",
    "Let $m = n$. Matching the coefficients of $x^n$ yields\n",
    "\\begin{equation}\n",
    "\\binom{2n}{n}(H_{2n} - H_n) = \\sum_{k=1}^n\\,\\frac{1}{k}\\binom{2n-k}{n}.\n",
    "\\end{equation}"
   ]
  },
  {
   "cell_type": "code",
   "execution_count": 71,
   "metadata": {
    "collapsed": false,
    "deletable": true,
    "editable": true
   },
   "outputs": [
    {
     "data": {
      "image/png": "[encoded data removed]",
      "text/latex": [
       "$$\\left [ \\frac{73}{3}\\right ]$$"
      ],
      "text/plain": [
       "[73/3]"
      ]
     },
     "execution_count": 71,
     "metadata": {},
     "output_type": "execute_result"
    }
   ],
   "source": [
    "h11_expr = Lambda([n, m], 1/(1 - x)**(m + 1)*ln(1/(1 - x)))\n",
    "h11 = Lambda([n, m], binomial(m+n, n)* (harmonic(m + n) - harmonic(m)))\n",
    "[(h11(3, 5).doit())]"
   ]
  },
  {
   "cell_type": "code",
   "execution_count": 72,
   "metadata": {
    "collapsed": false
   },
   "outputs": [
    {
     "data": {
      "image/png": "[encoded data removed]",
      "text/latex": [
       "$$x + \\frac{13 x^{2}}{2} + \\frac{73 x^{3}}{3} + \\mathcal{O}\\left(x^{4}\\right)$$"
      ],
      "text/plain": [
       "        2       3        \n",
       "    13⋅x    73⋅x     ⎛ 4⎞\n",
       "x + ───── + ───── + O⎝x ⎠\n",
       "      2       3          "
      ]
     },
     "execution_count": 72,
     "metadata": {},
     "output_type": "execute_result"
    }
   ],
   "source": [
    "series(h11_expr(3, 5), x , n=4)"
   ]
  },
  {
   "cell_type": "code",
   "execution_count": 81,
   "metadata": {
    "collapsed": false
   },
   "outputs": [
    {
     "data": {
      "image/png": "[encoded data removed]",
      "text/latex": [
       "$$\\left [ 1, \\quad \\frac{7}{2}, \\quad \\frac{37}{3}, \\quad \\frac{533}{12}, \\quad \\frac{1627}{10}, \\quad \\frac{18107}{30}, \\quad \\frac{237371}{105}\\right ]$$"
      ],
      "text/plain": [
       "⎡              533  1627  18107  237371⎤\n",
       "⎢1, 7/2, 37/3, ───, ────, ─────, ──────⎥\n",
       "⎣               12   10     30    105  ⎦"
      ]
     },
     "execution_count": 81,
     "metadata": {},
     "output_type": "execute_result"
    }
   ],
   "source": [
    "h12 = Lambda([n], binomial(2*n, n)* (harmonic(2*n) - harmonic(n)))\n",
    "h12_2 = Lambda([n], Sum(1/(k)*binomial(2*n - k, n), (k, 1, n)))\n",
    "[(h12(i).doit()) for i in range(1, 8)]         "
   ]
  },
  {
   "cell_type": "code",
   "execution_count": 83,
   "metadata": {
    "collapsed": false
   },
   "outputs": [
    {
     "data": {
      "image/png": "[encoded data removed]",
      "text/latex": [
       "$$\\left [ 1, \\quad \\frac{7}{2}, \\quad \\frac{37}{3}, \\quad \\frac{533}{12}, \\quad \\frac{1627}{10}, \\quad \\frac{18107}{30}, \\quad \\frac{237371}{105}\\right ]$$"
      ],
      "text/plain": [
       "⎡              533  1627  18107  237371⎤\n",
       "⎢1, 7/2, 37/3, ───, ────, ─────, ──────⎥\n",
       "⎣               12   10     30    105  ⎦"
      ]
     },
     "execution_count": 83,
     "metadata": {},
     "output_type": "execute_result"
    }
   ],
   "source": [
    "[(h12_2(i).doit()) for i in range(1, 8)] "
   ]
  },
  {
   "cell_type": "markdown",
   "metadata": {},
   "source": [
    "### Teorema 3"
   ]
  },
  {
   "cell_type": "code",
   "execution_count": 153,
   "metadata": {
    "collapsed": false
   },
   "outputs": [
    {
     "data": {
      "image/png": "[encoded data removed]",
      "text/latex": [
       "$$\\left [ 1, \\quad \\frac{7}{2}, \\quad \\frac{37}{3}, \\quad \\frac{533}{12}, \\quad \\frac{1627}{10}, \\quad \\frac{18107}{30}, \\quad \\frac{237371}{105}\\right ]$$"
      ],
      "text/plain": [
       "⎡              533  1627  18107  237371⎤\n",
       "⎢1, 7/2, 37/3, ───, ────, ─────, ──────⎥\n",
       "⎣               12   10     30    105  ⎦"
      ]
     },
     "execution_count": 153,
     "metadata": {},
     "output_type": "execute_result"
    }
   ],
   "source": [
    "h13 = Lambda([n], binomial(2*n, n)* (harmonic(2*n) - harmonic(n)))\n",
    "h13_1 = Lambda([n], -1/sqrt(1-4*x)*ln((1+sqrt(1-4*x))/2))\n",
    "h13_2 = Lambda([x], 1/sqrt(1-4*x)*ln(CN(x)))\n",
    "[(h13(i).doit()) for i in range(1, 8)] "
   ]
  },
  {
   "cell_type": "code",
   "execution_count": 143,
   "metadata": {
    "collapsed": false
   },
   "outputs": [
    {
     "data": {
      "image/png": "[encoded data removed]",
      "text/latex": [
       "$$x + \\frac{7 x^{2}}{2} + \\frac{37 x^{3}}{3} + \\frac{533 x^{4}}{12} + \\frac{1627 x^{5}}{10} + \\frac{18107 x^{6}}{30} + \\frac{237371 x^{7}}{105} + \\mathcal{O}\\left(x^{8}\\right)$$"
      ],
      "text/plain": [
       "       2       3        4         5          6           7        \n",
       "    7⋅x    37⋅x    533⋅x    1627⋅x    18107⋅x    237371⋅x     ⎛ 8⎞\n",
       "x + ──── + ───── + ────── + ─────── + ──────── + ───────── + O⎝x ⎠\n",
       "     2       3       12        10        30         105           "
      ]
     },
     "execution_count": 143,
     "metadata": {},
     "output_type": "execute_result"
    }
   ],
   "source": [
    "series(h13_1(x), x, n = 8)"
   ]
  },
  {
   "cell_type": "code",
   "execution_count": 159,
   "metadata": {
    "collapsed": false
   },
   "outputs": [
    {
     "data": {
      "image/png": "[encoded data removed]",
      "text/latex": [
       "$$- \\frac{\\sqrt{19} i}{19} \\log{\\left (42 \\right )}$$"
      ],
      "text/plain": [
       "-√19⋅ⅈ⋅log(42) \n",
       "───────────────\n",
       "       19      "
      ]
     },
     "execution_count": 159,
     "metadata": {},
     "output_type": "execute_result"
    }
   ],
   "source": []
  },
  {
   "cell_type": "code",
   "execution_count": null,
   "metadata": {
    "collapsed": true
   },
   "outputs": [],
   "source": []
  }
 ],
 "metadata": {
  "celltoolbar": "Raw Cell Format",
  "kernelspec": {
   "display_name": "Python 2",
   "language": "python",
   "name": "python2"
  },
  "language_info": {
   "codemirror_mode": {
    "name": "ipython",
    "version": 2
   },
   "file_extension": ".py",
   "mimetype": "text/x-python",
   "name": "python",
   "nbconvert_exporter": "python",
   "pygments_lexer": "ipython2",
   "version": "2.7.13"
  }
 },
 "nbformat": 4,
 "nbformat_minor": 2
}
