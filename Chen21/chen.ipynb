{
 "cells": [
  {
   "cell_type": "markdown",
   "metadata": {},
   "source": [
    "# Progetto PAA\n",
    "Autore: Filippo Mameli - 6222254 - filippo.mameli@stud.unifi.it\n",
    "\n",
    "### Setup del progetto"
   ]
  },
  {
   "cell_type": "code",
   "execution_count": 75,
   "metadata": {
    "collapsed": true
   },
   "outputs": [],
   "source": [
    "from sympy import *\n",
    "from sympy import Sum, factorial, oo\n",
    "from sympy.abc import i, k, m, n, x\n",
    "from sympy import sstr\n",
    "import sys\n",
    "import math\n",
    "init_printing()"
   ]
  },
  {
   "cell_type": "code",
   "execution_count": 2,
   "metadata": {
    "collapsed": false
   },
   "outputs": [
    {
     "data": {
      "image/png": "[encoded data removed]",
      "text/latex": [
       "$$\\left( n \\mapsto \\frac{{\\binom{2 n}{n}}}{n + 1} \\right)$$"
      ],
      "text/plain": [
       "    ⎛2⋅n⎞\n",
       "    ⎜   ⎟\n",
       "    ⎝ n ⎠\n",
       "n ↦ ─────\n",
       "    n + 1"
      ]
     },
     "execution_count": 2,
     "metadata": {},
     "output_type": "execute_result"
    }
   ],
   "source": [
    "C = Function('C')\n",
    "n = symbols('n', integer=True)\n",
    "catalan_expr = 1 / (n + 1) * binomial(2 * n, n)\n",
    "catalan_rec = Eq(C(n), catalan_expr)\n",
    "CN = Lambda([n], catalan_expr)\n",
    "CN"
   ]
  },
  {
   "cell_type": "markdown",
   "metadata": {
    "collapsed": true
   },
   "source": [
    "I primi 10 numeri di catalan sono:"
   ]
  },
  {
   "cell_type": "code",
   "execution_count": 3,
   "metadata": {
    "collapsed": false
   },
   "outputs": [
    {
     "data": {
      "image/png": "[encoded data removed]",
      "text/latex": [
       "$$\\left [ 1, \\quad 1, \\quad 2, \\quad 5, \\quad 14, \\quad 42, \\quad 132, \\quad 429, \\quad 1430, \\quad 4862, \\quad 16796\\right ]$$"
      ],
      "text/plain": [
       "[1, 1, 2, 5, 14, 42, 132, 429, 1430, 4862, 16796]"
      ]
     },
     "execution_count": 3,
     "metadata": {},
     "output_type": "execute_result"
    }
   ],
   "source": [
    "[(CN(i).doit()) for i in range(0, 11)]"
   ]
  },
  {
   "cell_type": "markdown",
   "metadata": {},
   "source": [
    "### Coefficienti binomiali centrali\n",
    "Sappiamo che la funzione generatrice dei coefficienti binomiali centrali è data da:\n",
    "$$\\sum_{n=0}^{\\infty}\\binom{2n}{n}x^n = \\frac{1}{\\sqrt{1-4x}}$$\n",
    "Si può controllare infatti per i primi dieci elementi che questa relazione è vera"
   ]
  },
  {
   "cell_type": "code",
   "execution_count": 4,
   "metadata": {
    "collapsed": false
   },
   "outputs": [
    {
     "data": {
      "image/png": "[encoded data removed]",
      "text/latex": [
       "$$\\left( n \\mapsto {\\binom{2 n}{n}} \\right)$$"
      ],
      "text/plain": [
       "    ⎛2⋅n⎞\n",
       "n ↦ ⎜   ⎟\n",
       "    ⎝ n ⎠"
      ]
     },
     "execution_count": 4,
     "metadata": {},
     "output_type": "execute_result"
    }
   ],
   "source": [
    "centralN = Lambda([n], binomial(2 * n, n))\n",
    "centralN"
   ]
  },
  {
   "cell_type": "code",
   "execution_count": 5,
   "metadata": {
    "collapsed": false
   },
   "outputs": [
    {
     "data": {
      "image/png": "[encoded data removed]",
      "text/latex": [
       "$$\\left [ 1, \\quad 2, \\quad 6, \\quad 20, \\quad 70, \\quad 252, \\quad 924, \\quad 3432, \\quad 12870, \\quad 48620, \\quad 184756\\right ]$$"
      ],
      "text/plain": [
       "[1, 2, 6, 20, 70, 252, 924, 3432, 12870, 48620, 184756]"
      ]
     },
     "execution_count": 5,
     "metadata": {},
     "output_type": "execute_result"
    }
   ],
   "source": [
    "[(centralN(i).doit()) for i in range(0, 11)]"
   ]
  },
  {
   "cell_type": "code",
   "execution_count": 6,
   "metadata": {
    "collapsed": false
   },
   "outputs": [
    {
     "data": {
      "image/png": "[encoded data removed]",
      "text/latex": [
       "$$\\left( n \\mapsto \\frac{1}{\\sqrt{- 4 x + 1}} \\right)$$"
      ],
      "text/plain": [
       "         1      \n",
       "n ↦ ────────────\n",
       "      __________\n",
       "    ╲╱ -4⋅x + 1 "
      ]
     },
     "execution_count": 6,
     "metadata": {},
     "output_type": "execute_result"
    }
   ],
   "source": [
    "x = symbols('x', integer=True)\n",
    "centralBinomialCoef_expr = Lambda([n],1 / (sqrt(1 - 4 * x)))\n",
    "centralBinomialCoef_expr"
   ]
  },
  {
   "cell_type": "code",
   "execution_count": 7,
   "metadata": {
    "collapsed": false
   },
   "outputs": [
    {
     "data": {
      "image/png": "[encoded data removed]",
      "text/latex": [
       "$$1 + 2 x + 6 x^{2} + 20 x^{3} + 70 x^{4} + 252 x^{5} + 924 x^{6} + 3432 x^{7} + 12870 x^{8} + 48620 x^{9} + 184756 x^{10} + \\mathcal{O}\\left(x^{11}\\right)$$"
      ],
      "text/plain": [
       "             2       3       4        5        6         7          8         \n",
       "1 + 2⋅x + 6⋅x  + 20⋅x  + 70⋅x  + 252⋅x  + 924⋅x  + 3432⋅x  + 12870⋅x  + 48620⋅\n",
       "\n",
       " 9           10    ⎛ 11⎞\n",
       "x  + 184756⋅x   + O⎝x  ⎠"
      ]
     },
     "execution_count": 7,
     "metadata": {},
     "output_type": "execute_result"
    }
   ],
   "source": [
    "series(centralBinomialCoef_expr(x), x, n=11)"
   ]
  },
  {
   "cell_type": "markdown",
   "metadata": {},
   "source": [
    "### Numeri di Catalan\n",
    "Per i numeri di Catalan invece vale questa relazione:\n",
    "$$\\sum_{n=0}^{\\infty}C_nx^n =\\sum_{n=0}^{\\infty}\\frac{1}{n + 1}\\binom{2n}{n}x^n = \\frac{1-\\sqrt{1-4x}}{2x}$$\n",
    "Infatti:"
   ]
  },
  {
   "cell_type": "code",
   "execution_count": 8,
   "metadata": {
    "collapsed": false
   },
   "outputs": [
    {
     "data": {
      "image/png": "[encoded data removed]",
      "text/latex": [
       "$$1 + x + 2 x^{2} + 5 x^{3} + 14 x^{4} + 42 x^{5} + 132 x^{6} + 429 x^{7} + 1430 x^{8} + 4862 x^{9} + 16796 x^{10} + \\mathcal{O}\\left(x^{11}\\right)$$"
      ],
      "text/plain": [
       "           2      3       4       5        6        7         8         9     \n",
       "1 + x + 2⋅x  + 5⋅x  + 14⋅x  + 42⋅x  + 132⋅x  + 429⋅x  + 1430⋅x  + 4862⋅x  + 16\n",
       "\n",
       "     10    ⎛ 11⎞\n",
       "796⋅x   + O⎝x  ⎠"
      ]
     },
     "execution_count": 8,
     "metadata": {},
     "output_type": "execute_result"
    }
   ],
   "source": [
    "catalan_expr = Lambda([n],(1 - sqrt(1 - 4 * x)) / (2*x))\n",
    "catalan_expr\n",
    "series(catalan_expr(x), x, n=11)"
   ]
  },
  {
   "cell_type": "markdown",
   "metadata": {},
   "source": [
    "Dalla funzione generatrice dei coefficienti binomiali, i numeri di Catalan e i numeri amonici\n",
    "sono state ricavate alcune interessanti serie come\n",
    "$\\sum_{n=1}^{\\infty}\\frac{1}{n^3}H_n = \\frac{\\pi^4}{72}$ e $\\sum_{n=1}^{\\infty}\\frac{1}{n^2}H_n^2 = \\frac{17\\pi^4}{360}$"
   ]
  },
  {
   "cell_type": "code",
   "execution_count": 106,
   "metadata": {
    "collapsed": false
   },
   "outputs": [
    {
     "data": {
      "image/png": "[encoded data removed]",
      "text/latex": [
       "$$\\frac{\\pi^{4}}{72}$$"
      ],
      "text/plain": [
       " 4\n",
       "π \n",
       "──\n",
       "72"
      ]
     },
     "execution_count": 106,
     "metadata": {},
     "output_type": "execute_result"
    }
   ],
   "source": [
    "harmonicN =  Lambda([n], Sum(1/k, (k, 1, n)))\n",
    "h1 = Lambda([n], Sum(1/n**3*harmonicN(n), (n, 1, oo)))\n",
    "pi**4/72"
   ]
  },
  {
   "cell_type": "code",
   "execution_count": null,
   "metadata": {
    "collapsed": true
   },
   "outputs": [],
   "source": []
  }
 ],
 "metadata": {
  "celltoolbar": "Raw Cell Format",
  "kernelspec": {
   "display_name": "Python 2",
   "language": "python",
   "name": "python2"
  },
  "language_info": {
   "codemirror_mode": {
    "name": "ipython",
    "version": 2
   },
   "file_extension": ".py",
   "mimetype": "text/x-python",
   "name": "python",
   "nbconvert_exporter": "python",
   "pygments_lexer": "ipython2",
   "version": "2.7.13"
  }
 },
 "nbformat": 4,
 "nbformat_minor": 2
}
