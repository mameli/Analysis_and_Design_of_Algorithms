{
 "cells": [
  {
   "cell_type": "markdown",
   "metadata": {
    "deletable": true,
    "editable": true
   },
   "source": [
    "# Progetto PAA\n",
    "Autore: Filippo Mameli - 6222254 - filippo.mameli@stud.unifi.it\n",
    "\n",
    "### Setup del progetto"
   ]
  },
  {
   "cell_type": "code",
   "execution_count": 1,
   "metadata": {
    "collapsed": false,
    "deletable": true,
    "editable": true
   },
   "outputs": [],
   "source": [
    "from sympy import *\n",
    "from sympy import Sum, factorial, oo, catalan, harmonic\n",
    "from sympy.abc import i, j, k, m, n, x, t\n",
    "import sys\n",
    "import matplotlib.pyplot as plt\n",
    "import matplotlib\n",
    "init_printing()"
   ]
  },
  {
   "cell_type": "markdown",
   "metadata": {
    "deletable": true,
    "editable": true
   },
   "source": [
    "# Introduzione\n",
    "I numeri di Catalan sono definiti come:"
   ]
  },
  {
   "cell_type": "code",
   "execution_count": 2,
   "metadata": {
    "collapsed": false,
    "deletable": true,
    "editable": true
   },
   "outputs": [
    {
     "data": {
      "image/png": "[encoded data removed]",
      "text/latex": [
       "$$\\left( n \\mapsto \\frac{{\\binom{2 n}{n}}}{n + 1} \\right)$$"
      ],
      "text/plain": [
       "    ⎛2⋅n⎞\n",
       "    ⎜   ⎟\n",
       "    ⎝ n ⎠\n",
       "n ↦ ─────\n",
       "    n + 1"
      ]
     },
     "execution_count": 2,
     "metadata": {},
     "output_type": "execute_result"
    }
   ],
   "source": [
    "CN = Function('C_n')\n",
    "n = symbols('n', integer=True)\n",
    "catalan_expr = 1 / (n + 1) * binomial(2 * n, n)\n",
    "CN = Lambda([n], catalan_expr)\n",
    "CN"
   ]
  },
  {
   "cell_type": "markdown",
   "metadata": {
    "collapsed": true,
    "deletable": true,
    "editable": true
   },
   "source": [
    "I primi 10 numeri di catalan sono:"
   ]
  },
  {
   "cell_type": "code",
   "execution_count": 3,
   "metadata": {
    "collapsed": false,
    "deletable": true,
    "editable": true
   },
   "outputs": [
    {
     "data": {
      "image/png": "[encoded data removed]",
      "text/latex": [
       "$$\\left [ 1, \\quad 1, \\quad 2, \\quad 5, \\quad 14, \\quad 42, \\quad 132, \\quad 429, \\quad 1430, \\quad 4862, \\quad 16796\\right ]$$"
      ],
      "text/plain": [
       "[1, 1, 2, 5, 14, 42, 132, 429, 1430, 4862, 16796]"
      ]
     },
     "execution_count": 3,
     "metadata": {},
     "output_type": "execute_result"
    }
   ],
   "source": [
    "[CN(i) for i in range(0, 11)]"
   ]
  },
  {
   "cell_type": "markdown",
   "metadata": {
    "deletable": true,
    "editable": true
   },
   "source": [
    "### Coefficienti binomiali centrali\n",
    "Sappiamo che la funzione generatrice dei coefficienti binomiali centrali è data da:\n",
    "$$\\sum_{n=0}^{\\infty}\\binom{2n}{n}x^n = \\frac{1}{\\sqrt{1-4x}}$$\n",
    "Si può controllare infatti per i primi dieci elementi che questa relazione è vera"
   ]
  },
  {
   "cell_type": "code",
   "execution_count": 4,
   "metadata": {
    "collapsed": false,
    "deletable": true,
    "editable": true
   },
   "outputs": [
    {
     "data": {
      "image/png": "[encoded data removed]",
      "text/latex": [
       "$$\\sum_{n=0}^{k} x^{n} {\\binom{2 n}{n}}$$"
      ],
      "text/plain": [
       "  k           \n",
       " ____         \n",
       " ╲            \n",
       "  ╲    n ⎛2⋅n⎞\n",
       "   ╲  x ⋅⎜   ⎟\n",
       "   ╱     ⎝ n ⎠\n",
       "  ╱           \n",
       " ╱            \n",
       " ‾‾‾‾         \n",
       "n = 0         "
      ]
     },
     "execution_count": 4,
     "metadata": {},
     "output_type": "execute_result"
    }
   ],
   "source": [
    "centralN = Sum(binomial(2 * n, n)*x**n, (n,0,k))\n",
    "centralN"
   ]
  },
  {
   "cell_type": "code",
   "execution_count": 5,
   "metadata": {
    "collapsed": false,
    "deletable": true,
    "editable": true
   },
   "outputs": [
    {
     "data": {
      "image/png": "[encoded data removed]",
      "text/latex": [
       "$$\\sum_{n=0}^{10} x^{n} {\\binom{2 n}{n}} = 184756 x^{10} + 48620 x^{9} + 12870 x^{8} + 3432 x^{7} + 924 x^{6} + 252 x^{5} + 70 x^{4} + 20 x^{3} + 6 x^{2} + 2 x + 1$$"
      ],
      "text/plain": [
       "  10                                                                          \n",
       " ____                                                                         \n",
       " ╲                                                                            \n",
       "  ╲    n ⎛2⋅n⎞                                                                \n",
       "   ╲  x ⋅⎜   ⎟           10          9          8         7        6        5 \n",
       "   ╱     ⎝ n ⎠ = 184756⋅x   + 48620⋅x  + 12870⋅x  + 3432⋅x  + 924⋅x  + 252⋅x  \n",
       "  ╱                                                                           \n",
       " ╱                                                                            \n",
       " ‾‾‾‾                                                                         \n",
       "n = 0                                                                         \n",
       "\n",
       "                                \n",
       "                                \n",
       "                                \n",
       "                                \n",
       "      4       3      2          \n",
       "+ 70⋅x  + 20⋅x  + 6⋅x  + 2⋅x + 1\n",
       "                                \n",
       "                                \n",
       "                                \n",
       "                                "
      ]
     },
     "execution_count": 5,
     "metadata": {},
     "output_type": "execute_result"
    }
   ],
   "source": [
    "expanded = centralN.subs({k:10})\n",
    "Eq(expanded, expanded.doit())"
   ]
  },
  {
   "cell_type": "code",
   "execution_count": 6,
   "metadata": {
    "collapsed": false,
    "deletable": true,
    "editable": true
   },
   "outputs": [
    {
     "data": {
      "image/png": "[encoded data removed]",
      "text/latex": [
       "$$\\left( n \\mapsto \\frac{1}{\\sqrt{- 4 x + 1}} \\right)$$"
      ],
      "text/plain": [
       "         1      \n",
       "n ↦ ────────────\n",
       "      __________\n",
       "    ╲╱ -4⋅x + 1 "
      ]
     },
     "execution_count": 6,
     "metadata": {},
     "output_type": "execute_result"
    }
   ],
   "source": [
    "x = symbols('x', integer=True)\n",
    "centralBinomialCoef_expr = Lambda([n],1 / (sqrt(1 - 4 * x)))\n",
    "centralBinomialCoef_expr"
   ]
  },
  {
   "cell_type": "code",
   "execution_count": 7,
   "metadata": {
    "collapsed": false,
    "deletable": true,
    "editable": true
   },
   "outputs": [
    {
     "data": {
      "image/png": "[encoded data removed]",
      "text/latex": [
       "$$1 + 2 x + 6 x^{2} + 20 x^{3} + 70 x^{4} + 252 x^{5} + 924 x^{6} + 3432 x^{7} + 12870 x^{8} + 48620 x^{9} + 184756 x^{10} + \\mathcal{O}\\left(x^{11}\\right)$$"
      ],
      "text/plain": [
       "             2       3       4        5        6         7          8         \n",
       "1 + 2⋅x + 6⋅x  + 20⋅x  + 70⋅x  + 252⋅x  + 924⋅x  + 3432⋅x  + 12870⋅x  + 48620⋅\n",
       "\n",
       " 9           10    ⎛ 11⎞\n",
       "x  + 184756⋅x   + O⎝x  ⎠"
      ]
     },
     "execution_count": 7,
     "metadata": {},
     "output_type": "execute_result"
    }
   ],
   "source": [
    "series(centralBinomialCoef_expr(x), x, n=11)"
   ]
  },
  {
   "cell_type": "markdown",
   "metadata": {
    "deletable": true,
    "editable": true
   },
   "source": [
    "### Numeri di Catalan\n",
    "Per i numeri di Catalan invece vale questa relazione:\n",
    "$$\\sum_{n=0}^{\\infty}C_nx^n =\\sum_{n=0}^{\\infty}\\frac{1}{n + 1}\\binom{2n}{n}x^n = \\frac{1-\\sqrt{1-4x}}{2x}$$\n",
    "Infatti:"
   ]
  },
  {
   "cell_type": "code",
   "execution_count": 8,
   "metadata": {
    "collapsed": false,
    "deletable": true,
    "editable": true
   },
   "outputs": [
    {
     "data": {
      "image/png": "[encoded data removed]",
      "text/latex": [
       "$$\\sum_{n=0}^{k} \\frac{x^{n} {\\binom{2 n}{n}}}{n + 1}$$"
      ],
      "text/plain": [
       "  k           \n",
       "_____         \n",
       "╲             \n",
       " ╲     n ⎛2⋅n⎞\n",
       "  ╲   x ⋅⎜   ⎟\n",
       "   ╲     ⎝ n ⎠\n",
       "   ╱  ────────\n",
       "  ╱    n + 1  \n",
       " ╱            \n",
       "╱             \n",
       "‾‾‾‾‾         \n",
       "n = 0         "
      ]
     },
     "execution_count": 8,
     "metadata": {},
     "output_type": "execute_result"
    }
   ],
   "source": [
    "Cx = Sum(CN(n)*x**n, (n,0,k))\n",
    "Cx"
   ]
  },
  {
   "cell_type": "code",
   "execution_count": 9,
   "metadata": {
    "collapsed": false,
    "deletable": true,
    "editable": true
   },
   "outputs": [
    {
     "data": {
      "image/png": "[encoded data removed]",
      "text/latex": [
       "$$\\sum_{n=0}^{5} \\frac{x^{n} {\\binom{2 n}{n}}}{n + 1} = 42 x^{5} + 14 x^{4} + 5 x^{3} + 2 x^{2} + x + 1$$"
      ],
      "text/plain": [
       "  5                                                 \n",
       "_____                                               \n",
       "╲                                                   \n",
       " ╲     n ⎛2⋅n⎞                                      \n",
       "  ╲   x ⋅⎜   ⎟                                      \n",
       "   ╲     ⎝ n ⎠       5       4      3      2        \n",
       "   ╱  ──────── = 42⋅x  + 14⋅x  + 5⋅x  + 2⋅x  + x + 1\n",
       "  ╱    n + 1                                        \n",
       " ╱                                                  \n",
       "╱                                                   \n",
       "‾‾‾‾‾                                               \n",
       "n = 0                                               "
      ]
     },
     "execution_count": 9,
     "metadata": {},
     "output_type": "execute_result"
    }
   ],
   "source": [
    "expanded = Cx.subs({k:5})\n",
    "Eq(expanded, expanded.doit())"
   ]
  },
  {
   "cell_type": "code",
   "execution_count": 10,
   "metadata": {
    "collapsed": false,
    "deletable": true,
    "editable": true
   },
   "outputs": [
    {
     "data": {
      "image/png": "[encoded data removed]",
      "text/latex": [
       "$$\\left( x \\mapsto \\frac{1}{2 x} \\left(- \\sqrt{- 4 x + 1} + 1\\right) \\right)$$"
      ],
      "text/plain": [
       "        __________    \n",
       "    - ╲╱ -4⋅x + 1  + 1\n",
       "x ↦ ──────────────────\n",
       "           2⋅x        "
      ]
     },
     "execution_count": 10,
     "metadata": {},
     "output_type": "execute_result"
    }
   ],
   "source": [
    "catalan_expr = Lambda([x],(1 - sqrt(1 - 4 * x)) / (2*x))\n",
    "catalan_expr"
   ]
  },
  {
   "cell_type": "code",
   "execution_count": 11,
   "metadata": {
    "collapsed": false,
    "deletable": true,
    "editable": true
   },
   "outputs": [
    {
     "data": {
      "image/png": "[encoded data removed]",
      "text/latex": [
       "$$1 + x + 2 x^{2} + 5 x^{3} + 14 x^{4} + 42 x^{5} + \\mathcal{O}\\left(x^{6}\\right)$$"
      ],
      "text/plain": [
       "           2      3       4       5    ⎛ 6⎞\n",
       "1 + x + 2⋅x  + 5⋅x  + 14⋅x  + 42⋅x  + O⎝x ⎠"
      ]
     },
     "execution_count": 11,
     "metadata": {},
     "output_type": "execute_result"
    }
   ],
   "source": [
    "series(catalan_expr(x), x, n=6)"
   ]
  },
  {
   "cell_type": "markdown",
   "metadata": {
    "deletable": true,
    "editable": true
   },
   "source": [
    "Dalla funzione generatrice dei coefficienti binomiali, i numeri di Catalan e i numeri amonici\n",
    "sono state ricavate alcune interessanti serie come\n",
    "$\\sum_{n=1}^{\\infty}\\frac{1}{n^3}H_n = \\frac{\\pi^4}{72}$ e $\\sum_{n=1}^{\\infty}\\frac{1}{n^2}H_n^2 = \\frac{17\\pi^4}{360}$\n",
    "\n",
    "In seguito si propongono alcuni risultati.\n",
    "\n",
    "$$\\sum_{n=1}^{\\infty}\\frac{1}{n^3}H_n = \\frac{\\pi^4}{72}$$\n",
    "Per verificare l'uguaglianza si utilizza la seconda formula sviluppata nell'articolo cioè:\n",
    "$\\sum_{n=1}^{\\infty}\\frac{1}{n^3}H_n = \\frac{5}{4}\\sum_{n=1}^{\\infty}\\frac{1}{n^4} = \\frac{\\pi^4}{72}$"
   ]
  },
  {
   "cell_type": "code",
   "execution_count": 12,
   "metadata": {
    "collapsed": false,
    "deletable": true,
    "editable": true
   },
   "outputs": [
    {
     "data": {
      "text/plain": [
       "True"
      ]
     },
     "execution_count": 12,
     "metadata": {},
     "output_type": "execute_result"
    }
   ],
   "source": [
    "h1 = Lambda([n], Sum(harmonic(n)*1/n**3, (n, 1, 100)))\n",
    "h1_simple = Lambda([n], zeta(4) * 5/4)\n",
    "(h1_simple(n).doit()) == (pi**4/72).doit()"
   ]
  },
  {
   "cell_type": "code",
   "execution_count": 13,
   "metadata": {
    "collapsed": false,
    "deletable": true,
    "editable": true
   },
   "outputs": [
    {
     "data": {
      "text/plain": [
       "True"
      ]
     },
     "execution_count": 13,
     "metadata": {},
     "output_type": "execute_result"
    }
   ],
   "source": [
    "h2 = Lambda([n], Sum(harmonic(n)**2*1/n**2, (n, 1, oo)))\n",
    "h2_simple = Lambda([n], zeta(4) * 17/4)\n",
    "(h2_simple(n).doit()) == (17*pi**4/360).doit()"
   ]
  },
  {
   "cell_type": "markdown",
   "metadata": {
    "deletable": true,
    "editable": true
   },
   "source": [
    "$$\\sum_{k=0}^{n}\\binom{n}{k}^2H_k = \\binom{2n}{n}(2H_n - H_{2n})$$"
   ]
  },
  {
   "cell_type": "code",
   "execution_count": 14,
   "metadata": {
    "collapsed": false,
    "deletable": true,
    "editable": true
   },
   "outputs": [
    {
     "data": {
      "text/plain": [
       "[True, True, True, True, True, True, True, True, True, True]"
      ]
     },
     "execution_count": 14,
     "metadata": {},
     "output_type": "execute_result"
    }
   ],
   "source": [
    "h3 = Lambda([n], Sum(harmonic(k) * binomial(n,k)**2, (k, 1, n)))\n",
    "h3_expr = Lambda([n], binomial(2*n, n)*(2*harmonic(n) - harmonic(2*n)))\n",
    "[(h3(i).doit() == h3_expr(i).doit()) for i in range(0, 10)]"
   ]
  },
  {
   "cell_type": "markdown",
   "metadata": {
    "deletable": true,
    "editable": true
   },
   "source": [
    "$$\\sum_{n=0}^{\\infty}\\frac{1}{8^n}\\binom{2n}{n}H_n = 2\\sqrt2 \\ ln \\ (\\frac{1 +\\sqrt2}{2})$$"
   ]
  },
  {
   "cell_type": "code",
   "execution_count": 15,
   "metadata": {
    "collapsed": false,
    "deletable": true,
    "editable": true
   },
   "outputs": [
    {
     "data": {
      "text/plain": [
       "True"
      ]
     },
     "execution_count": 15,
     "metadata": {},
     "output_type": "execute_result"
    }
   ],
   "source": [
    "h4 = Lambda([n], Sum(harmonic(n) * binomial(2*n, n) * 1/ 8**n, (n, 0, oo)))\n",
    "h4_expr = 2 * sqrt(2) * ln((1 + sqrt(2)) / 2)\n",
    "h4(n).evalf() == h4_expr.evalf()"
   ]
  },
  {
   "cell_type": "markdown",
   "metadata": {
    "deletable": true,
    "editable": true
   },
   "source": [
    "Manipolando C(x) si possono trovare altre serie interessanti che contengono $\\binom{2n}{n}(H_{2n} - H_n), C_n(H_{2n} - H_n)$ and $\\binom{2n}{n}h_n$ con $h_n$ definito come:\n",
    "$$ h_n = 1 + \\frac{1}{3} + \\frac{1}{5} + \\dots + + \\frac{1}{2n - 1}  $$"
   ]
  },
  {
   "cell_type": "code",
   "execution_count": 16,
   "metadata": {
    "collapsed": false,
    "deletable": true,
    "editable": true,
    "scrolled": true
   },
   "outputs": [
    {
     "data": {
      "image/png": "[encoded data removed]",
      "text/latex": [
       "$$\\left( n \\mapsto \\sum_{k=1}^{n} \\frac{1}{2 k - 1} \\right)$$"
      ],
      "text/plain": [
       "      n          \n",
       "     ____        \n",
       "     ╲           \n",
       "      ╲      1   \n",
       "       ╲  ───────\n",
       "n ↦    ╱  2⋅k - 1\n",
       "      ╱          \n",
       "     ╱           \n",
       "     ‾‾‾‾        \n",
       "    k = 1        "
      ]
     },
     "execution_count": 16,
     "metadata": {},
     "output_type": "execute_result"
    }
   ],
   "source": [
    "h_n = Lambda([n], Sum(1/ (2*k - 1), (k, 1, n)))\n",
    "h_n"
   ]
  },
  {
   "cell_type": "markdown",
   "metadata": {
    "deletable": true,
    "editable": true
   },
   "source": [
    "In particolare si ottengono le seguenti serie:\n",
    "\n",
    "$$\\sum_{n=1}^{\\infty} 8^{- n} {\\binom{2 n}{n}} \\operatorname{F}{\\left (n \\right )}h_n = \\frac{\\sqrt{10}}{10} \\log{\\left (2 \\right )} + \\frac{\\sqrt{2}}{2} \\log{\\left (\\frac{\\sqrt{5}}{2} + \\frac{3}{2} \\right )}$$\n",
    "\n",
    "Dove $F_n$ e' l'n-esimo numero di Fibonacci.\n",
    "\n",
    "\\begin{equation}\n",
    "\\sum_{n=1}^\\infty\\,\\binom{2n}{n}(H_{2n-1} - H_n)\\frac{x^n}{n} = \\ln^2(C(x)).\n",
    "\\end{equation}\n",
    "\n",
    "Per verificare le uguaglianze si utilizzerà dei plot per visualizzare l'andamento delle serie infinite.\n",
    "\n",
    "La linea blu del grafico mostra l'andamento di $\\sum_{n=1}^{\\infty} 8^{- n} {\\binom{2 n}{n}} \\operatorname{F}{\\left (n \\right )}h_n $ mentre la linea verde $\\frac{\\sqrt{10}}{10} \\log{\\left (2 \\right )} + \\frac{\\sqrt{2}}{2} \\log{\\left (\\frac{\\sqrt{5}}{2} + \\frac{3}{2} \\right )}$"
   ]
  },
  {
   "cell_type": "code",
   "execution_count": 17,
   "metadata": {
    "collapsed": false,
    "deletable": true,
    "editable": true
   },
   "outputs": [
    {
     "data": {
      "image/png": "[encoded data removed]",
      "text/plain": [
       "<matplotlib.figure.Figure at 0x117b0fa50>"
      ]
     },
     "metadata": {},
     "output_type": "display_data"
    }
   ],
   "source": [
    "%matplotlib inline\n",
    "N = symbols('N', integer = True)\n",
    "h5 = Lambda([n,N], Sum(h_n(n) * binomial(2*n, n) * 1/ 8**n * fibonacci(n), (n, 1, N)))\n",
    "h5_expr = 1/sqrt(10) * ln(2) + 1/sqrt(2) * ln((3 + sqrt(5))/ 2)\n",
    "plt.plot([h5_expr.evalf()] * 24, 'g')\n",
    "plt.plot([h5(n, N) for N in range(1, 25)])\n",
    "plt.show()"
   ]
  },
  {
   "cell_type": "markdown",
   "metadata": {
    "deletable": true,
    "editable": true
   },
   "source": [
    "\\begin{equation}\n",
    "\\sum_{n=1}^\\infty\\,\\binom{2n}{n}(H_{2n-1} - H_n)\\frac{x^n}{n} = \\ln^2(C(x)).\n",
    "\\end{equation}"
   ]
  },
  {
   "cell_type": "code",
   "execution_count": 18,
   "metadata": {
    "collapsed": false,
    "deletable": true,
    "editable": true
   },
   "outputs": [
    {
     "data": {
      "image/png": "[encoded data removed]",
      "text/latex": [
       "$$\\sum_{n=1}^{5} \\frac{x^{n}}{n} \\left(- \\operatorname{harmonic}{\\left (n \\right )} + \\operatorname{harmonic}{\\left (2 n - 1 \\right )}\\right) {\\binom{2 n}{n}} = \\frac{55 x^{5}}{2} + \\frac{107 x^{4}}{12} + 3 x^{3} + x^{2}$$"
      ],
      "text/plain": [
       "  5                                                                           \n",
       "_____                                                                         \n",
       "╲                                                                             \n",
       " ╲     n                                    ⎛2⋅n⎞                             \n",
       "  ╲   x ⋅(-harmonic(n) + harmonic(2⋅n - 1))⋅⎜   ⎟       5        4            \n",
       "   ╲                                        ⎝ n ⎠   55⋅x    107⋅x       3    2\n",
       "   ╱  ─────────────────────────────────────────── = ───── + ────── + 3⋅x  + x \n",
       "  ╱                        n                          2       12              \n",
       " ╱                                                                            \n",
       "╱                                                                             \n",
       "‾‾‾‾‾                                                                         \n",
       "n = 1                                                                         "
      ]
     },
     "execution_count": 18,
     "metadata": {},
     "output_type": "execute_result"
    }
   ],
   "source": [
    "h6 = Sum(binomial(2*n, n) * (harmonic(2 * n - 1)- harmonic(n))*x**n/n,(n, 1, k))\n",
    "expanded = h6.subs({k:5})\n",
    "Eq(expanded, expanded.doit())"
   ]
  },
  {
   "cell_type": "code",
   "execution_count": 19,
   "metadata": {
    "collapsed": false,
    "deletable": true,
    "editable": true
   },
   "outputs": [
    {
     "data": {
      "image/png": "[encoded data removed]",
      "text/latex": [
       "$$x^{2} + 3 x^{3} + \\frac{107 x^{4}}{12} + \\frac{55 x^{5}}{2} + \\mathcal{O}\\left(x^{6}\\right)$$"
      ],
      "text/plain": [
       "                 4       5        \n",
       " 2      3   107⋅x    55⋅x     ⎛ 6⎞\n",
       "x  + 3⋅x  + ────── + ───── + O⎝x ⎠\n",
       "              12       2          "
      ]
     },
     "execution_count": 19,
     "metadata": {},
     "output_type": "execute_result"
    }
   ],
   "source": [
    "h6_expr = Lambda([n],(ln(catalan_expr(x)))**2)\n",
    "series(h6_expr(x), x, n=6)"
   ]
  },
  {
   "cell_type": "markdown",
   "metadata": {
    "deletable": true,
    "editable": true
   },
   "source": [
    "# Teoremi principali\n",
    "Si comincia stabilendo la funzione generatrice di $\\binom{2n}{n}H_n$. Si conosce questa relazione:\n",
    "$$H_n = \\sum_{k=1}^n\\,\\frac{1}{k} = \\int_0^1\\,\\left(\\sum_{k=0}^{n-1}\\,t^k\\right)\\,dt = \\int_0^1\\,\\frac{1- t^n}{1-t}\\,dt,$$"
   ]
  },
  {
   "cell_type": "code",
   "execution_count": 20,
   "metadata": {
    "collapsed": false,
    "deletable": true,
    "editable": true
   },
   "outputs": [
    {
     "data": {
      "text/plain": [
       "[(0, True), (1, True), (3/2, True), (11/6, True), (25/12, True)]"
      ]
     },
     "execution_count": 20,
     "metadata": {},
     "output_type": "execute_result"
    }
   ],
   "source": [
    "harmonic(n)\n",
    "h7 = Lambda([n], Integral(Sum(x**k, (k, 0, n - 1)),(x, 0, 1)))\n",
    "h7_2 = Lambda([n], Integral((1 - t**n)/(1 - t),(t, 0, 1)))\n",
    "[(h7(i).doit(), h7(i).doit() == harmonic(i) == h7_2(i).doit()) for i in range(0, 5)]"
   ]
  },
  {
   "cell_type": "markdown",
   "metadata": {
    "collapsed": true,
    "deletable": true,
    "editable": true
   },
   "source": [
    "\\begin{eqnarray*}\n",
    "\\sum_{n=1}^\\infty\\,\\binom{2n}{n}H_n\\,x^n & = & \\sum_{n=1}^\\infty\\,\\binom{2n}{n}x^n\\int_0^1\\,\\frac{1- t^n}{1-t}\\,dt\\\\\n",
    "& = & \\int_0^1\\,\\frac{1}{1-t}\\,\\left(\\sum_{n=1}^\\infty\\,\\binom{2n}{n}\\,(x^n - (xt)^n)\\right)\\,dt\\\\\n",
    "& = & \\int_0^1\\,\\frac{1}{1-t}\\left(\\frac{1}{\\sqrt{1-4x}} - \\frac{1}{\\sqrt{1 -4xt}}\\right)\\,dt.\n",
    "\\end{eqnarray*}"
   ]
  },
  {
   "cell_type": "code",
   "execution_count": 25,
   "metadata": {
    "collapsed": false,
    "deletable": true,
    "editable": true
   },
   "outputs": [
    {
     "data": {
      "image/png": "[encoded data removed]",
      "text/latex": [
       "$$\\frac{1}{2 \\sqrt{x} - 1} \\left(2 \\int_{0}^{1} - \\frac{\\sqrt{x}}{2 t \\sqrt{t x} - t - 2 \\sqrt{t x} + 1}\\, dt + 2 \\int_{0}^{1} \\frac{\\sqrt{t x}}{2 t \\sqrt{t x} - t - 2 \\sqrt{t x} + 1}\\, dt\\right)$$"
      ],
      "text/plain": [
       "  ⎛                                       1                                   \n",
       "  ⎜1                                      ⌠                                   \n",
       "  ⎜⌠                                      ⎮               _____               \n",
       "  ⎜⎮               -√x                    ⎮             ╲╱ t⋅x                \n",
       "2⋅⎜⎮ ─────────────────────────────── dt + ⎮ ─────────────────────────────── dt\n",
       "  ⎜⎮       _____           _____          ⎮       _____           _____       \n",
       "  ⎜⎮ 2⋅t⋅╲╱ t⋅x  - t - 2⋅╲╱ t⋅x  + 1      ⎮ 2⋅t⋅╲╱ t⋅x  - t - 2⋅╲╱ t⋅x  + 1   \n",
       "  ⎜⌡                                      ⌡                                   \n",
       "  ⎝0                                      0                                   \n",
       "──────────────────────────────────────────────────────────────────────────────\n",
       "                                    2⋅√x - 1                                  \n",
       "\n",
       "⎞\n",
       "⎟\n",
       "⎟\n",
       "⎟\n",
       "⎟\n",
       "⎟\n",
       "⎟\n",
       "⎟\n",
       "⎠\n",
       "─\n",
       " "
      ]
     },
     "execution_count": 25,
     "metadata": {},
     "output_type": "execute_result"
    }
   ],
   "source": [
    "h9 = Lambda([n], binomial(2*n, n)* harmonic(n))\n",
    "h9_4 = integrate(1/(1 - t) * (1/(1 - sqrt(4*x)) - 1/(1 - sqrt(4*x*t))), (t,0,1))\n",
    "h9_4"
   ]
  },
  {
   "cell_type": "markdown",
   "metadata": {
    "deletable": true,
    "editable": true
   },
   "source": [
    "### Teorema 1\n",
    "Sia $H_n$ l'n-esimo numero armonico. Allora\n",
    "\\begin{equation} \n",
    "\\sum_{n=1}^\\infty\\,\\binom{2n}{n}H_n\\,x^n = \\frac{2}{\\sqrt{1-4x}}\\,\\ln\\left(\\frac{1+\\sqrt{1 -4x}}{2\\sqrt{1-4x}}\\right). \n",
    "\\end{equation}"
   ]
  },
  {
   "cell_type": "code",
   "execution_count": 22,
   "metadata": {
    "collapsed": false,
    "deletable": true,
    "editable": true
   },
   "outputs": [
    {
     "data": {
      "image/png": "[encoded data removed]",
      "text/latex": [
       "$$\\sum_{n=1}^{5} x^{n} {\\binom{2 n}{n}} \\operatorname{harmonic}{\\left (n \\right )} = \\frac{2877 x^{5}}{5} + \\frac{875 x^{4}}{6} + \\frac{110 x^{3}}{3} + 9 x^{2} + 2 x$$"
      ],
      "text/plain": [
       "  5                                                                \n",
       " ____                                                              \n",
       " ╲                                                                 \n",
       "  ╲    n ⎛2⋅n⎞                     5        4        3             \n",
       "   ╲  x ⋅⎜   ⎟⋅harmonic(n)   2877⋅x    875⋅x    110⋅x       2      \n",
       "   ╱     ⎝ n ⎠             = ─────── + ────── + ────── + 9⋅x  + 2⋅x\n",
       "  ╱                             5        6        3                \n",
       " ╱                                                                 \n",
       " ‾‾‾‾                                                              \n",
       "n = 1                                                              "
      ]
     },
     "execution_count": 22,
     "metadata": {},
     "output_type": "execute_result"
    }
   ],
   "source": [
    "h9 = Sum(binomial(2*n, n)* harmonic(n)*x**n,(n,1,k))\n",
    "h9_expr = Lambda([n], 2/sqrt(1 - 4*x) * ln((1 + sqrt(1 - 4*x))/ (2*sqrt(1 - 4*x))))\n",
    "expanded = h9.subs({k:5})\n",
    "Eq(expanded, expanded.doit())"
   ]
  },
  {
   "cell_type": "code",
   "execution_count": 23,
   "metadata": {
    "collapsed": false,
    "deletable": true,
    "editable": true
   },
   "outputs": [
    {
     "data": {
      "image/png": "[encoded data removed]",
      "text/latex": [
       "$$2 x + 9 x^{2} + \\frac{110 x^{3}}{3} + \\frac{875 x^{4}}{6} + \\frac{2877 x^{5}}{5} + \\mathcal{O}\\left(x^{6}\\right)$$"
      ],
      "text/plain": [
       "                  3        4         5        \n",
       "         2   110⋅x    875⋅x    2877⋅x     ⎛ 6⎞\n",
       "2⋅x + 9⋅x  + ────── + ────── + ─────── + O⎝x ⎠\n",
       "               3        6         5           "
      ]
     },
     "execution_count": 23,
     "metadata": {},
     "output_type": "execute_result"
    }
   ],
   "source": [
    "series(h9_expr(x), x, n=6)"
   ]
  },
  {
   "cell_type": "markdown",
   "metadata": {
    "deletable": true,
    "editable": true
   },
   "source": [
    "Come immediata conseguenza del teorema 1, integrando entrambe le parti rispetto a x si ottiene il corrollario 2:\n",
    "### Corollario 2\n",
    "Sia $C_n$ l'n-esimo numero di Catalan. Allora\n",
    "\\begin{equation}  \n",
    "\\sum_{n=1}^\\infty\\,C_nH_n\\,x^{n+1} =  \\ln 2 + \\sqrt{1-4x}\\ln(2\\sqrt{1-4x}) - (1 + \\sqrt{1 -4x})\\ln(1+\\sqrt{1 -4x})). \n",
    "\\end{equation}\n"
   ]
  },
  {
   "cell_type": "code",
   "execution_count": null,
   "metadata": {
    "collapsed": false,
    "deletable": true,
    "editable": true
   },
   "outputs": [],
   "source": [
    "h10 = Sum(catalan(n) * harmonic(n)*x**(n+1),(n,1,k))\n",
    "h10_expr = Lambda([n], ln(2) + sqrt(1-4*x)*ln(2*sqrt(1-4*x))-(1 + sqrt(1 -4*x))*ln(1+sqrt(1 -4*x)))\n",
    "expanded = h10.subs({k:5})\n",
    "Eq(expanded, expanded.doit())"
   ]
  },
  {
   "cell_type": "code",
   "execution_count": null,
   "metadata": {
    "collapsed": false,
    "deletable": true,
    "editable": true
   },
   "outputs": [],
   "source": [
    "series(h10_expr(x), x, n=6)"
   ]
  },
  {
   "cell_type": "markdown",
   "metadata": {
    "deletable": true,
    "editable": true
   },
   "source": [
    "\\begin{equation}\n",
    "\\frac{1}{(1-x)^{m+1}}\\,\\ln\\frac{1}{1-x} = \\sum_{n=0}^\\infty\\,\\binom{m+n}{n}(H_{m+n} - H_m)x^n.\n",
    "\\end{equation}  \n",
    "\n",
    "Il risultato viene testato con $m=3$ come esempio"
   ]
  },
  {
   "cell_type": "code",
   "execution_count": 26,
   "metadata": {
    "collapsed": false,
    "deletable": true,
    "editable": true
   },
   "outputs": [
    {
     "data": {
      "image/png": "[encoded data removed]",
      "text/latex": [
       "$$\\sum_{n=0}^{5} x^{n} \\left(\\operatorname{harmonic}{\\left (n + 3 \\right )} - \\frac{11}{6}\\right) {\\binom{n + 3}{n}} = \\frac{743 x^{5}}{15} + \\frac{319 x^{4}}{12} + \\frac{37 x^{3}}{3} + \\frac{9 x^{2}}{2} + x$$"
      ],
      "text/plain": [
       "  5                                                                           \n",
       " ____                                                                         \n",
       " ╲                                                                            \n",
       "  ╲    n                          ⎛n + 3⎞        5        4       3      2    \n",
       "   ╲  x ⋅(harmonic(n + 3) - 11/6)⋅⎜     ⎟   743⋅x    319⋅x    37⋅x    9⋅x     \n",
       "   ╱                              ⎝  n  ⎠ = ────── + ────── + ───── + ──── + x\n",
       "  ╱                                           15       12       3      2      \n",
       " ╱                                                                            \n",
       " ‾‾‾‾                                                                         \n",
       "n = 0                                                                         "
      ]
     },
     "execution_count": 26,
     "metadata": {},
     "output_type": "execute_result"
    }
   ],
   "source": [
    "h11_expr = Lambda([m], 1/(1 - x)**(m + 1)*ln(1/(1 - x)))\n",
    "h11 = Sum(binomial(m+n, n)* (harmonic(m + n) - harmonic(m))*x**n,(n,0,k))\n",
    "expanded = h11.subs({m:3,k:5})\n",
    "Eq(expanded, expanded.doit())"
   ]
  },
  {
   "cell_type": "code",
   "execution_count": 27,
   "metadata": {
    "collapsed": false,
    "deletable": true,
    "editable": true
   },
   "outputs": [
    {
     "data": {
      "image/png": "[encoded data removed]",
      "text/latex": [
       "$$x + \\frac{9 x^{2}}{2} + \\frac{37 x^{3}}{3} + \\frac{319 x^{4}}{12} + \\frac{743 x^{5}}{15} + \\mathcal{O}\\left(x^{6}\\right)$$"
      ],
      "text/plain": [
       "       2       3        4        5        \n",
       "    9⋅x    37⋅x    319⋅x    743⋅x     ⎛ 6⎞\n",
       "x + ──── + ───── + ────── + ────── + O⎝x ⎠\n",
       "     2       3       12       15          "
      ]
     },
     "execution_count": 27,
     "metadata": {},
     "output_type": "execute_result"
    }
   ],
   "source": [
    "series(h11_expr(3), x , n=6)"
   ]
  },
  {
   "cell_type": "markdown",
   "metadata": {
    "deletable": true,
    "editable": true
   },
   "source": [
    "Sia $m = n$. Allora\n",
    "\\begin{equation}\n",
    "\\binom{2n}{n}(H_{2n} - H_n) = \\sum_{k=1}^n\\,\\frac{1}{k}\\binom{2n-k}{n}.\n",
    "\\end{equation}"
   ]
  },
  {
   "cell_type": "code",
   "execution_count": 28,
   "metadata": {
    "collapsed": false,
    "deletable": true,
    "editable": true
   },
   "outputs": [
    {
     "data": {
      "image/png": "[encoded data removed]",
      "text/latex": [
       "$$\\left [ 1, \\quad \\frac{7}{2}, \\quad \\frac{37}{3}, \\quad \\frac{533}{12}, \\quad \\frac{1627}{10}, \\quad \\frac{18107}{30}, \\quad \\frac{237371}{105}\\right ]$$"
      ],
      "text/plain": [
       "⎡              533  1627  18107  237371⎤\n",
       "⎢1, 7/2, 37/3, ───, ────, ─────, ──────⎥\n",
       "⎣               12   10     30    105  ⎦"
      ]
     },
     "execution_count": 28,
     "metadata": {},
     "output_type": "execute_result"
    }
   ],
   "source": [
    "h12 = Lambda([n], binomial(2*n, n)* (harmonic(2*n) - harmonic(n)))\n",
    "h12_2 = Lambda([n], Sum(1/(k)*binomial(2*n - k, n), (k, 1, n)))\n",
    "[(h12(i).doit()) for i in range(1, 8)]         "
   ]
  },
  {
   "cell_type": "code",
   "execution_count": 29,
   "metadata": {
    "collapsed": false,
    "deletable": true,
    "editable": true
   },
   "outputs": [
    {
     "data": {
      "image/png": "[encoded data removed]",
      "text/latex": [
       "$$\\left [ 1, \\quad \\frac{7}{2}, \\quad \\frac{37}{3}, \\quad \\frac{533}{12}, \\quad \\frac{1627}{10}, \\quad \\frac{18107}{30}, \\quad \\frac{237371}{105}\\right ]$$"
      ],
      "text/plain": [
       "⎡              533  1627  18107  237371⎤\n",
       "⎢1, 7/2, 37/3, ───, ────, ─────, ──────⎥\n",
       "⎣               12   10     30    105  ⎦"
      ]
     },
     "execution_count": 29,
     "metadata": {},
     "output_type": "execute_result"
    }
   ],
   "source": [
    "[(h12_2(i).doit()) for i in range(1, 8)] "
   ]
  },
  {
   "cell_type": "markdown",
   "metadata": {
    "deletable": true,
    "editable": true
   },
   "source": [
    "### Teorema 3\n",
    "Sia $H_n$ l'n-esimo numero armonico. Allora\n",
    "\\begin{equation}\n",
    "\\sum_{n=1}^\\infty\\,\\binom{2n}{n}(H_{2n} - H_n)\\,x^n = - \\frac{1}{\\sqrt{1-4x}}\\,\\ln\\left(\\frac{1+\\sqrt{1 -4x}}{2}\\right) = \\frac{1}{\\sqrt{1 -4x}}\\ln C(x), \\\n",
    "\\end{equation}\n",
    "\n",
    "dove $C(x)$ è la funzione generatrice dei numeri di Catalan."
   ]
  },
  {
   "cell_type": "code",
   "execution_count": 30,
   "metadata": {
    "collapsed": false,
    "deletable": true,
    "editable": true
   },
   "outputs": [
    {
     "data": {
      "image/png": "[encoded data removed]",
      "text/latex": [
       "$$\\sum_{n=1}^{5} x^{n} \\left(- \\operatorname{harmonic}{\\left (n \\right )} + \\operatorname{harmonic}{\\left (2 n \\right )}\\right) {\\binom{2 n}{n}} = \\frac{1627 x^{5}}{10} + \\frac{533 x^{4}}{12} + \\frac{37 x^{3}}{3} + \\frac{7 x^{2}}{2} + x$$"
      ],
      "text/plain": [
       "  5                                                                           \n",
       " ____                                                                         \n",
       " ╲                                                                            \n",
       "  ╲    n                                ⎛2⋅n⎞         5        4       3      \n",
       "   ╲  x ⋅(-harmonic(n) + harmonic(2⋅n))⋅⎜   ⎟   1627⋅x    533⋅x    37⋅x    7⋅x\n",
       "   ╱                                    ⎝ n ⎠ = ─────── + ────── + ───── + ───\n",
       "  ╱                                                10       12       3      2 \n",
       " ╱                                                                            \n",
       " ‾‾‾‾                                                                         \n",
       "n = 1                                                                         \n",
       "\n",
       "     \n",
       "     \n",
       "     \n",
       "2    \n",
       "     \n",
       "─ + x\n",
       "     \n",
       "     \n",
       "     \n",
       "     "
      ]
     },
     "execution_count": 30,
     "metadata": {},
     "output_type": "execute_result"
    }
   ],
   "source": [
    "h13 = Sum(binomial(2*n, n)* (harmonic(2*n) - harmonic(n))*x**n, (n,1,k))\n",
    "h13_1 = Lambda([n], -1/sqrt(1-4*x)*ln((1+sqrt(1-4*x))/2))\n",
    "h13_2 = Lambda([x], 1/sqrt(1-4*x)*ln(CN(x)))\n",
    "expanded = h13.subs({k:5})\n",
    "Eq(expanded, expanded.doit())"
   ]
  },
  {
   "cell_type": "code",
   "execution_count": 31,
   "metadata": {
    "collapsed": false,
    "deletable": true,
    "editable": true
   },
   "outputs": [
    {
     "data": {
      "image/png": "[encoded data removed]",
      "text/latex": [
       "$$x + \\frac{7 x^{2}}{2} + \\frac{37 x^{3}}{3} + \\frac{533 x^{4}}{12} + \\frac{1627 x^{5}}{10} + \\mathcal{O}\\left(x^{6}\\right)$$"
      ],
      "text/plain": [
       "       2       3        4         5        \n",
       "    7⋅x    37⋅x    533⋅x    1627⋅x     ⎛ 6⎞\n",
       "x + ──── + ───── + ────── + ─────── + O⎝x ⎠\n",
       "     2       3       12        10          "
      ]
     },
     "execution_count": 31,
     "metadata": {},
     "output_type": "execute_result"
    }
   ],
   "source": [
    "series(h13_1(x), x, n = 6)"
   ]
  },
  {
   "cell_type": "markdown",
   "metadata": {
    "deletable": true,
    "editable": true
   },
   "source": [
    "Dato che\n",
    "\n",
    "$$\\sum_{m=0}^\\infty\\,\\binom{2m + k}{m}t^m = \\frac{1}{\\sqrt{1- 4t}}\\,\\left(\\frac{1 - \\sqrt{1-4t}}{2t}\\right)^k = \\frac{C^k(t)}{\\sqrt{1 - 4t}}$$"
   ]
  },
  {
   "cell_type": "code",
   "execution_count": 32,
   "metadata": {
    "collapsed": false,
    "deletable": true,
    "editable": true
   },
   "outputs": [
    {
     "data": {
      "image/png": "[encoded data removed]",
      "text/latex": [
       "$$\\sum_{m=0}^{5} t^{m} {\\binom{2 m + 3}{m}} = 1287 t^{5} + 330 t^{4} + 84 t^{3} + 21 t^{2} + 5 t + 1$$"
      ],
      "text/plain": [
       "  5                                                            \n",
       " ____                                                          \n",
       " ╲                                                             \n",
       "  ╲    m ⎛2⋅m + 3⎞                                             \n",
       "   ╲  t ⋅⎜       ⎟         5        4       3       2          \n",
       "   ╱     ⎝   m   ⎠ = 1287⋅t  + 330⋅t  + 84⋅t  + 21⋅t  + 5⋅t + 1\n",
       "  ╱                                                            \n",
       " ╱                                                             \n",
       " ‾‾‾‾                                                          \n",
       "m = 0                                                          "
      ]
     },
     "execution_count": 32,
     "metadata": {},
     "output_type": "execute_result"
    }
   ],
   "source": [
    "t = symbols('t', integer = True)\n",
    "h13_p0 = Sum(binomial(2*m + k, m)* t**m, (m, 0, N))\n",
    "h13_p0E = Lambda([t], 1/sqrt(1-4*t)*((1 - sqrt(1-4*t))/(2*t))**k)\n",
    "expanded = h13_p0.subs({N:5,k:3})\n",
    "Eq(expanded, expanded.doit())"
   ]
  },
  {
   "cell_type": "code",
   "execution_count": 33,
   "metadata": {
    "collapsed": false,
    "deletable": true,
    "editable": true
   },
   "outputs": [
    {
     "data": {
      "image/png": "[encoded data removed]",
      "text/latex": [
       "$$1 + 5 t + 21 t^{2} + 84 t^{3} + 330 t^{4} + 1287 t^{5} + \\mathcal{O}\\left(t^{6}\\right)$$"
      ],
      "text/plain": [
       "              2       3        4         5    ⎛ 6⎞\n",
       "1 + 5⋅t + 21⋅t  + 84⋅t  + 330⋅t  + 1287⋅t  + O⎝t ⎠"
      ]
     },
     "execution_count": 33,
     "metadata": {},
     "output_type": "execute_result"
    }
   ],
   "source": [
    "expanded = series(h13_p0E(t), t, n = 6)\n",
    "expanded.subs({k:3})"
   ]
  },
  {
   "cell_type": "markdown",
   "metadata": {
    "deletable": true,
    "editable": true
   },
   "source": [
    "e inoltre che $-\\ln(1- t) = \\sum_{k=1}^\\infty\\,\\frac{1}{k}t^k$, si trova:\n",
    "\\begin{eqnarray*}\n",
    "\\sum_{n=1}^\\infty\\,\\binom{2n}{n}(H_{2n} - H_n)\\,x^n & = &\\frac{1}{\\sqrt{1- 4x}}\\,\\sum_{k=1}^\\infty\\,\\frac{1}{k}\\,\\left(\\frac{1 - \\sqrt{1-4x}}{2}\\right)^k\\\\\n",
    "& = & - \\frac{1}{\\sqrt{1-4x}}\\,\\ln\\left(\\frac{1+\\sqrt{1 -4x}}{2}\\right)\\\\\n",
    "& = & \\frac{1}{\\sqrt{1-4x}}\\,\\ln C(x).\n",
    "\\end{eqnarray*}"
   ]
  },
  {
   "cell_type": "markdown",
   "metadata": {
    "deletable": true,
    "editable": true
   },
   "source": [
    "Integrando entrambe le parti rispetto a x si ottiene una sequenza per $C_n(H_{2n} - H_n)$.\n",
    "### Corollario 4\n",
    "Sia $C_n$ l'$n$-esimo numero di Catalan. Allora:\n",
    "\\begin{equation} \n",
    " \\sum_{n=1}^\\infty\\,C_n(H_{2n} - H_n)\\,x^n =  \\frac{1}{2x}\\left[(1-\\sqrt{1-4x}) + (1 + \\sqrt{1 -4x})\\ln\\left(\\frac{1+\\sqrt{1 -4x}}{2}\\right)\\right]. \\end{equation}"
   ]
  },
  {
   "cell_type": "code",
   "execution_count": 34,
   "metadata": {
    "collapsed": false,
    "deletable": true,
    "editable": true
   },
   "outputs": [
    {
     "data": {
      "image/png": "[encoded data removed]",
      "text/latex": [
       "$$\\sum_{n=1}^{5} x^{n} \\left(- \\operatorname{harmonic}{\\left (n \\right )} + \\operatorname{harmonic}{\\left (2 n \\right )}\\right) C_{n} = \\frac{1627 x^{5}}{60} + \\frac{533 x^{4}}{60} + \\frac{37 x^{3}}{12} + \\frac{7 x^{2}}{6} + \\frac{x}{2}$$"
      ],
      "text/plain": [
       "  5                                                                           \n",
       " ____                                                                         \n",
       " ╲                                                                            \n",
       "  ╲    n                                           5        4       3      2  \n",
       "   ╲  x ⋅(-harmonic(n) + harmonic(2⋅n))⋅C    1627⋅x    533⋅x    37⋅x    7⋅x   \n",
       "   ╱                                     n = ─────── + ────── + ───── + ──── +\n",
       "  ╱                                             60       60       12     6    \n",
       " ╱                                                                            \n",
       " ‾‾‾‾                                                                         \n",
       "n = 1                                                                         \n",
       "\n",
       "  \n",
       "  \n",
       "  \n",
       "  \n",
       " x\n",
       " ─\n",
       " 2\n",
       "  \n",
       "  \n",
       "  "
      ]
     },
     "execution_count": 34,
     "metadata": {},
     "output_type": "execute_result"
    }
   ],
   "source": [
    "h14 = Sum(catalan(n)*(harmonic(2*n) - harmonic(n))*x**n, (n,1,k))\n",
    "h14_expr = Lambda([x], 1/(2*x) *((1-sqrt(1-4*x)) + (1 + sqrt(1 - 4*x)) * ln((1+sqrt(1-4*x))/2)))\n",
    "expanded = h14.subs({k:5})\n",
    "Eq(expanded, expanded.doit())"
   ]
  },
  {
   "cell_type": "code",
   "execution_count": 35,
   "metadata": {
    "collapsed": false,
    "deletable": true,
    "editable": true
   },
   "outputs": [
    {
     "data": {
      "image/png": "[encoded data removed]",
      "text/latex": [
       "$$\\frac{x}{2} + \\frac{7 x^{2}}{6} + \\frac{37 x^{3}}{12} + \\frac{533 x^{4}}{60} + \\frac{1627 x^{5}}{60} + \\mathcal{O}\\left(x^{6}\\right)$$"
      ],
      "text/plain": [
       "       2       3        4         5        \n",
       "x   7⋅x    37⋅x    533⋅x    1627⋅x     ⎛ 6⎞\n",
       "─ + ──── + ───── + ────── + ─────── + O⎝x ⎠\n",
       "2    6       12      60        60          "
      ]
     },
     "execution_count": 35,
     "metadata": {},
     "output_type": "execute_result"
    }
   ],
   "source": [
    "series(h14_expr(x).doit(), x, n = 6)"
   ]
  },
  {
   "cell_type": "markdown",
   "metadata": {
    "deletable": true,
    "editable": true
   },
   "source": [
    "Dividento entrambe le parti per $x$ e integrando da $0$ a $x$, si trova che\n",
    "$$\\sum_{n=1}^\\infty\\,\\binom{2n}{n}\\,\\frac{x^n}{n} = -2 \\ln\\left(\\frac{1+\\sqrt{1- 4x}}{2}\\right) = 2\\ln C(x).$$"
   ]
  },
  {
   "cell_type": "code",
   "execution_count": 36,
   "metadata": {
    "collapsed": false,
    "deletable": true,
    "editable": true
   },
   "outputs": [
    {
     "data": {
      "image/png": "[encoded data removed]",
      "text/latex": [
       "$$\\sum_{n=1}^{5} \\frac{x^{n}}{n} {\\binom{2 n}{n}} = \\frac{252 x^{5}}{5} + \\frac{35 x^{4}}{2} + \\frac{20 x^{3}}{3} + 3 x^{2} + 2 x$$"
      ],
      "text/plain": [
       "  5                                                 \n",
       "_____                                               \n",
       "╲                                                   \n",
       " ╲     n ⎛2⋅n⎞                                      \n",
       "  ╲   x ⋅⎜   ⎟        5       4       3             \n",
       "   ╲     ⎝ n ⎠   252⋅x    35⋅x    20⋅x       2      \n",
       "   ╱  ──────── = ────── + ───── + ───── + 3⋅x  + 2⋅x\n",
       "  ╱      n         5        2       3               \n",
       " ╱                                                  \n",
       "╱                                                   \n",
       "‾‾‾‾‾                                               \n",
       "n = 1                                               "
      ]
     },
     "execution_count": 36,
     "metadata": {},
     "output_type": "execute_result"
    }
   ],
   "source": [
    "h15 = Sum(binomial(2*n, n)*x**n/n, (n,1,k))\n",
    "h15_expr = Lambda([x], -2* ln((1+sqrt(1-4*x))/2))\n",
    "expanded = h15.subs({k:5})\n",
    "Eq(expanded, expanded.doit())"
   ]
  },
  {
   "cell_type": "code",
   "execution_count": 37,
   "metadata": {
    "collapsed": false,
    "deletable": true,
    "editable": true
   },
   "outputs": [
    {
     "data": {
      "image/png": "[encoded data removed]",
      "text/latex": [
       "$$2 x + 3 x^{2} + \\frac{20 x^{3}}{3} + \\frac{35 x^{4}}{2} + \\frac{252 x^{5}}{5} + \\mathcal{O}\\left(x^{6}\\right)$$"
      ],
      "text/plain": [
       "                 3       4        5        \n",
       "         2   20⋅x    35⋅x    252⋅x     ⎛ 6⎞\n",
       "2⋅x + 3⋅x  + ───── + ───── + ────── + O⎝x ⎠\n",
       "               3       2       5           "
      ]
     },
     "execution_count": 37,
     "metadata": {},
     "output_type": "execute_result"
    }
   ],
   "source": [
    "series(h15_expr(x).doit(), x, n = 6)"
   ]
  },
  {
   "cell_type": "markdown",
   "metadata": {
    "collapsed": true,
    "deletable": true,
    "editable": true
   },
   "source": [
    "# INTEGRALE\n",
    "Ripetendo il processo si ha\n",
    "\\begin{equation}\n",
    "\\sum_{n=1}^\\infty\\,\\binom{2n}{n}(H_{2n} - H_n)\\,\\frac{x^n}{n} = - \\int_0^x\\,\\frac{1}{t\\sqrt{1-4t}}\\,\\ln\\left(\\frac{1+\\sqrt{1 -4t}}{2}\\right)\\,dt.\n",
    "\\end{equation}"
   ]
  },
  {
   "cell_type": "code",
   "execution_count": 38,
   "metadata": {
    "collapsed": false,
    "deletable": true,
    "editable": true
   },
   "outputs": [
    {
     "data": {
      "image/png": "[encoded data removed]",
      "text/latex": [
       "$$\\sum_{n=1}^{5} \\frac{x^{n}}{n} \\left(- \\operatorname{harmonic}{\\left (n \\right )} + \\operatorname{harmonic}{\\left (2 n \\right )}\\right) {\\binom{2 n}{n}} = \\frac{1627 x^{5}}{50} + \\frac{533 x^{4}}{48} + \\frac{37 x^{3}}{9} + \\frac{7 x^{2}}{4} + x$$"
      ],
      "text/plain": [
       "  5                                                                           \n",
       "_____                                                                         \n",
       "╲                                                                             \n",
       " ╲     n                                ⎛2⋅n⎞                                 \n",
       "  ╲   x ⋅(-harmonic(n) + harmonic(2⋅n))⋅⎜   ⎟         5        4       3      \n",
       "   ╲                                    ⎝ n ⎠   1627⋅x    533⋅x    37⋅x    7⋅x\n",
       "   ╱  ─────────────────────────────────────── = ─────── + ────── + ───── + ───\n",
       "  ╱                      n                         50       48       9      4 \n",
       " ╱                                                                            \n",
       "╱                                                                             \n",
       "‾‾‾‾‾                                                                         \n",
       "n = 1                                                                         \n",
       "\n",
       "     \n",
       "     \n",
       "     \n",
       "     \n",
       "2    \n",
       "     \n",
       "─ + x\n",
       "     \n",
       "     \n",
       "     \n",
       "     \n",
       "     "
      ]
     },
     "execution_count": 38,
     "metadata": {},
     "output_type": "execute_result"
    }
   ],
   "source": [
    "h16 = Sum(binomial(2*n, n)*(harmonic(2*n) - harmonic(n))*x**n/n, (n,1,k))\n",
    "h16_expr = Lambda([t], -Integral(1/(t*sqrt(1-4*t))*ln((1+ sqrt(1-4*t))/2),(t,0,x)))\n",
    "expanded = h16.subs({k:5})\n",
    "Eq(expanded, expanded.doit())"
   ]
  },
  {
   "cell_type": "code",
   "execution_count": 39,
   "metadata": {
    "collapsed": false,
    "deletable": true,
    "editable": true
   },
   "outputs": [
    {
     "data": {
      "image/png": "[encoded data removed]",
      "text/latex": [
       "$$\\left( t \\mapsto - \\int_{0}^{x} \\frac{\\log{\\left (\\frac{1}{2} \\sqrt{- 4 t + 1} + \\frac{1}{2} \\right )}}{t \\sqrt{- 4 t + 1}}\\, dt \\right)$$"
      ],
      "text/plain": [
       "     x                         \n",
       "     ⌠                         \n",
       "     ⎮    ⎛  __________    ⎞   \n",
       "     ⎮    ⎜╲╱ -4⋅t + 1    1⎟   \n",
       "     ⎮ log⎜──────────── + ─⎟   \n",
       "     ⎮    ⎝     2         2⎠   \n",
       "t ↦ -⎮ ───────────────────── dt\n",
       "     ⎮         __________      \n",
       "     ⎮     t⋅╲╱ -4⋅t + 1       \n",
       "     ⌡                         \n",
       "     0                         "
      ]
     },
     "execution_count": 39,
     "metadata": {},
     "output_type": "execute_result"
    }
   ],
   "source": [
    "h16_expr"
   ]
  },
  {
   "cell_type": "markdown",
   "metadata": {
    "deletable": true,
    "editable": true
   },
   "source": [
    "Dato che $H_{2n} = H_{2n-1} + \\frac{1}{2n}$, combinando i risultati si ottiene:\n",
    "\\begin{eqnarray*}\n",
    "\\sum_{n=1}^\\infty\\,\\binom{2n}{n}(H_{2n-1} - H_n)\\frac{x^{n}}{n} & = & \\sum_{n=1}^\\infty\\,\\binom{2n}{n}(H_{2n} - H_n)\\frac{x^{n}}{n} - \\frac{1}{2}\\sum_{n=1}^\\infty\\,\\binom{2n}{n}\\frac{x^{n}}{n^2}\\\\\n",
    "& = & \\int_0^x\\,\\left(\\frac{1}{t} - \\frac{1}{t\\sqrt{1-4t}}\\right)\\ln\\left(\\frac{1+\\sqrt{1 -4t}}{2}\\right)dt\\\\\n",
    "& = & \\int_0^x\\,\\,2\\ln\\left(\\frac{1+\\sqrt{1 -4t}}{2}\\right)\\,\\left(\\ln\\left(\\frac{1+\\sqrt{1 -4t}}{2}\\right)\\right)'dt\\\\\n",
    "& =& \\ln^2\\left(\\frac{1+\\sqrt{1 -4x}}{2}\\right),\n",
    "\\end{eqnarray*}"
   ]
  },
  {
   "cell_type": "code",
   "execution_count": 40,
   "metadata": {
    "collapsed": false,
    "deletable": true,
    "editable": true
   },
   "outputs": [
    {
     "data": {
      "image/png": "[encoded data removed]",
      "text/latex": [
       "$$\\sum_{n=1}^{5} \\frac{x^{n}}{n} \\left(- \\operatorname{harmonic}{\\left (n \\right )} + \\operatorname{harmonic}{\\left (2 n - 1 \\right )}\\right) {\\binom{2 n}{n}} = \\frac{55 x^{5}}{2} + \\frac{107 x^{4}}{12} + 3 x^{3} + x^{2}$$"
      ],
      "text/plain": [
       "  5                                                                           \n",
       "_____                                                                         \n",
       "╲                                                                             \n",
       " ╲     n                                    ⎛2⋅n⎞                             \n",
       "  ╲   x ⋅(-harmonic(n) + harmonic(2⋅n - 1))⋅⎜   ⎟       5        4            \n",
       "   ╲                                        ⎝ n ⎠   55⋅x    107⋅x       3    2\n",
       "   ╱  ─────────────────────────────────────────── = ───── + ────── + 3⋅x  + x \n",
       "  ╱                        n                          2       12              \n",
       " ╱                                                                            \n",
       "╱                                                                             \n",
       "‾‾‾‾‾                                                                         \n",
       "n = 1                                                                         "
      ]
     },
     "execution_count": 40,
     "metadata": {},
     "output_type": "execute_result"
    }
   ],
   "source": [
    "h16 = Sum(binomial(2*n, n)*(harmonic(2*n-1) - harmonic(n))*x**n/n, (n,1,k))\n",
    "h16_expr = Lambda([x], ln((1+sqrt(1-4*x))/2)**2)\n",
    "expanded = h16.subs({k:5})\n",
    "Eq(expanded, expanded.doit())"
   ]
  },
  {
   "cell_type": "code",
   "execution_count": 41,
   "metadata": {
    "collapsed": false,
    "deletable": true,
    "editable": true
   },
   "outputs": [
    {
     "data": {
      "image/png": "[encoded data removed]",
      "text/latex": [
       "$$x^{2} + 3 x^{3} + \\frac{107 x^{4}}{12} + \\frac{55 x^{5}}{2} + \\mathcal{O}\\left(x^{6}\\right)$$"
      ],
      "text/plain": [
       "                 4       5        \n",
       " 2      3   107⋅x    55⋅x     ⎛ 6⎞\n",
       "x  + 3⋅x  + ────── + ───── + O⎝x ⎠\n",
       "              12       2          "
      ]
     },
     "execution_count": 41,
     "metadata": {},
     "output_type": "execute_result"
    }
   ],
   "source": [
    "series(h16_expr(x).doit(), x, n = 6)"
   ]
  },
  {
   "cell_type": "markdown",
   "metadata": {
    "deletable": true,
    "editable": true
   },
   "source": [
    "### Teorema 5\n",
    "\\begin{equation}     \n",
    "\\sum_{n=1}^\\infty\\,\\binom{2n}{n}(H_{2n-1} - H_n)\\frac{x^{n}}{n} = \\ln^2C(x).\n",
    "\\end{equation}"
   ]
  },
  {
   "cell_type": "code",
   "execution_count": null,
   "metadata": {
    "collapsed": false,
    "deletable": true,
    "editable": true
   },
   "outputs": [],
   "source": [
    "Cx = Lambda([x],(1 - sqrt(1 - 4 * x)) / (2*x))\n",
    "h17 = Sum( binomial(2*n, n)*(harmonic(2*n - 1) - harmonic(n))*x**n/n, (n,1,k))\n",
    "h17_expr = Lambda([x], ln(Cx(x))**2)\n",
    "expanded = h17.subs({k:5})\n",
    "Eq(expanded, expanded.doit())"
   ]
  },
  {
   "cell_type": "code",
   "execution_count": null,
   "metadata": {
    "collapsed": false,
    "deletable": true,
    "editable": true
   },
   "outputs": [],
   "source": [
    "series(h17_expr(x).doit(), x, n = 6)"
   ]
  },
  {
   "cell_type": "markdown",
   "metadata": {
    "deletable": true,
    "editable": true
   },
   "source": [
    "### Teorema 6\n",
    "\\begin{equation}  \n",
    "\\sum_{n=1}^\\infty\\,\\binom{2n}{n}H_{2n}\\,x^n =  \\frac{1}{\\sqrt{1-4x}}\\left[\\ln\\left(\\frac{1+\\sqrt{1 -4x}}{2}\\right) -2\\ln\\sqrt{1-4x}\\right].\n",
    "\\end{equation}"
   ]
  },
  {
   "cell_type": "code",
   "execution_count": null,
   "metadata": {
    "collapsed": false,
    "deletable": true,
    "editable": true
   },
   "outputs": [],
   "source": [
    "h18 = Sum(binomial(2*n, n)*harmonic(2*n)*x**n,(n,1,k))\n",
    "expanded = h18.subs({k:5})\n",
    "Eq(expanded, expanded.doit())"
   ]
  },
  {
   "cell_type": "code",
   "execution_count": null,
   "metadata": {
    "collapsed": false,
    "deletable": true,
    "editable": true
   },
   "outputs": [],
   "source": [
    "h18_expr = Lambda([n], 1/(sqrt(1-4*x))*(ln((1+sqrt(1-4*x))/2) - 2*ln(sqrt(1-4*x))))\n",
    "series(h18_expr(x).doit(), x, n = 6)"
   ]
  },
  {
   "cell_type": "markdown",
   "metadata": {
    "deletable": true,
    "editable": true
   },
   "source": [
    "### Corollario 7\n",
    "\\begin{equation}  \n",
    "\\sum_{n=1}^\\infty\\,C_nH_{2n}\\,x^n =  \\frac{1}{2x}\\left[(1-\\sqrt{1-4x}) - (1 + \\sqrt{1 -4x})\\ln(1+\\sqrt{1 -4x}) + \\ln 2 + \\sqrt{1-4x}\\ln(2-8x)\\right]. \n",
    "\\end{equation}"
   ]
  },
  {
   "cell_type": "code",
   "execution_count": null,
   "metadata": {
    "collapsed": false,
    "deletable": true,
    "editable": true
   },
   "outputs": [],
   "source": [
    "h19 = Sum(catalan(n)*harmonic(2*n)*x**n,(n,1,k))\n",
    "expanded = h19.subs({k:5})\n",
    "Eq(expanded, expanded.doit())"
   ]
  },
  {
   "cell_type": "code",
   "execution_count": null,
   "metadata": {
    "collapsed": false,
    "deletable": true,
    "editable": true
   },
   "outputs": [],
   "source": [
    "h19_expr = Lambda([n], 1/(2*x)*((1-sqrt(1-4*x))-(1+sqrt(1-4*x))*ln(1+sqrt(1-4*x))+ln(2)+sqrt(1-4*x)*ln(2-8*x)))\n",
    "series(h19_expr(x).doit(), x, n = 6)"
   ]
  },
  {
   "cell_type": "markdown",
   "metadata": {
    "deletable": true,
    "editable": true
   },
   "source": [
    "### Teorema 8\n",
    "\\begin{equation}  \n",
    "\\sum_{n=1}^\\infty\\,\\binom{2n}{n}h_n\\,x^n =  -\\,\\frac{1}{\\sqrt{1-4x}}\\ln\\sqrt{1-4x}. \n",
    "\\end{equation}"
   ]
  },
  {
   "cell_type": "code",
   "execution_count": null,
   "metadata": {
    "collapsed": false,
    "deletable": true,
    "editable": true
   },
   "outputs": [],
   "source": [
    "h20 = Sum( binomial(2*n, n)*h_n(n)*x**n, (n,1,k))\n",
    "expanded = h20.subs({k:5})\n",
    "Eq(expanded, expanded.doit())"
   ]
  },
  {
   "cell_type": "code",
   "execution_count": null,
   "metadata": {
    "collapsed": false,
    "deletable": true,
    "editable": true
   },
   "outputs": [],
   "source": [
    "h20_expr = Lambda([n], -1/(sqrt(1-4*x))*ln(sqrt(1-4*x)))\n",
    "series(h20_expr(x).doit(), x, n = 6)"
   ]
  },
  {
   "cell_type": "markdown",
   "metadata": {
    "deletable": true,
    "editable": true
   },
   "source": [
    "### Corollario 9\n",
    "\\begin{equation} \n",
    "\\sum_{n=1}^\\infty\\,C_nh_{n}\\,x^n =  \\frac{1}{2x}\\left(1-\\sqrt{1-4x} + \\sqrt{1-4x}\\ln\\sqrt{1-4x}\\right).\n",
    "\\end{equation}"
   ]
  },
  {
   "cell_type": "code",
   "execution_count": null,
   "metadata": {
    "collapsed": false,
    "deletable": true,
    "editable": true
   },
   "outputs": [],
   "source": [
    "h21 = Sum( catalan(n)*h_n(n)*x**n,(n,1,k))\n",
    "expanded = h21.subs({k:5})\n",
    "Eq(expanded, expanded.doit())"
   ]
  },
  {
   "cell_type": "code",
   "execution_count": null,
   "metadata": {
    "collapsed": false,
    "deletable": true,
    "editable": true
   },
   "outputs": [],
   "source": [
    "h21_expr = Lambda([n], 1/(2*x)*(1-sqrt(1-4*x)+sqrt(1-4*x)*ln(sqrt(1-4*x))))\n",
    "series(h21_expr(x).doit(), x, n = 6)"
   ]
  },
  {
   "cell_type": "markdown",
   "metadata": {
    "deletable": true,
    "editable": true
   },
   "source": [
    "# Interesting series\n",
    "\n",
    "\\begin{eqnarray*}\n",
    "\\sum_{n=1}^\\infty\\,\\frac{(-1)^n}{4^n}\\,\\binom{2n}{n}H_n& = & \\sqrt{2}\\ln\\left(\\frac{2 + \\sqrt{2}}{4}\\right)\n",
    "\\end{eqnarray*}\n",
    "\n",
    "Converge molto lentamente"
   ]
  },
  {
   "cell_type": "code",
   "execution_count": null,
   "metadata": {
    "collapsed": false,
    "deletable": true,
    "editable": true
   },
   "outputs": [],
   "source": [
    "%matplotlib inline\n",
    "N = symbols('N', integer = True)\n",
    "s1 = Lambda([n, N], Sum((-1)**n/4**n*binomial(2*n,n)*harmonic(n), (n, 1, N)))\n",
    "s1_expr = sqrt(2)*ln((2+sqrt(2))/4)\n",
    "plt.plot([s1_expr.evalf()]*105, 'g')\n",
    "plt.plot([s1(n, N) for N in range(1, 105)])\n",
    "plt.draw()"
   ]
  },
  {
   "cell_type": "markdown",
   "metadata": {
    "deletable": true,
    "editable": true
   },
   "source": [
    "\\begin{eqnarray*}\n",
    "\\sum_{n=1}^\\infty\\,\\frac{1}{8^n}\\,\\binom{2n}{n}H_n & = & 2\\sqrt{2}\\ln\\left(\\frac{1 + \\sqrt{2}}{2}\\right),\\\\\n",
    "\\end{eqnarray*}"
   ]
  },
  {
   "cell_type": "code",
   "execution_count": null,
   "metadata": {
    "collapsed": false,
    "deletable": true,
    "editable": true
   },
   "outputs": [],
   "source": [
    "%matplotlib inline\n",
    "N = symbols('N', integer = True)\n",
    "s2 = Lambda([n, N], Sum( 1/8**n*binomial(2*n,n)*harmonic(n), (n, 1, N)))\n",
    "s2_expr = 2*sqrt(2)*ln((1+sqrt(2))/2)\n",
    "plt.plot([s2_expr.evalf()]*24, 'g')\n",
    "plt.plot([s2(n, N) for N in range(0, 24)])\n",
    "plt.show()"
   ]
  },
  {
   "cell_type": "markdown",
   "metadata": {
    "deletable": true,
    "editable": true
   },
   "source": [
    "$$\n",
    "\\sum_{n=1}^\\infty\\,\\frac{1}{4^n(n+1)}\\,\\binom{2n}{n}H_n = \\sum_{n=1}^\\infty\\,\\frac{1}{4^n}\\,C_nH_n = 4\\ln 2,\n",
    "$$"
   ]
  },
  {
   "cell_type": "code",
   "execution_count": null,
   "metadata": {
    "collapsed": false,
    "deletable": true,
    "editable": true
   },
   "outputs": [],
   "source": [
    "%matplotlib inline\n",
    "N = symbols('N', integer = True)\n",
    "s3 = Lambda([n, N], Sum( 1/4**n*catalan(n)*harmonic(n), (n, 1, N)))\n",
    "s3_expr = 4*ln(2)\n",
    "plt.plot([s3_expr.evalf()]*105, 'g')\n",
    "plt.plot([s3(n, N) for N in range(1, 105)])\n",
    "plt.show()"
   ]
  },
  {
   "cell_type": "markdown",
   "metadata": {
    "deletable": true,
    "editable": true
   },
   "source": [
    "$$\n",
    "\\sum_{n=1}^\\infty\\,\\frac{(-1)^{n+1}}{4^n(n+1)}\\,\\binom{2n}{n}H_n = \\sum_{n=1}^\\infty\\,\\frac{(-1)^{n+1}}{4^n}\\,C_nH_n = (4+6\\sqrt{2})\\ln 2  - 4(1+\\sqrt{2})\\ln(1 + \\sqrt{2}). \n",
    "$$"
   ]
  },
  {
   "cell_type": "code",
   "execution_count": null,
   "metadata": {
    "collapsed": false,
    "deletable": true,
    "editable": true
   },
   "outputs": [],
   "source": [
    "%matplotlib inline\n",
    "N = symbols('N', integer = True)\n",
    "s4 = Lambda([n, N], Sum( (-1)**(n+1)/4**n*catalan(n)*harmonic(n), (n, 1, N)))\n",
    "s4_expr = (4+6*sqrt(2))*ln(2)- 4*(1+sqrt(2))*ln(1+sqrt(2))\n",
    "plt.plot([s4_expr.evalf()]*105, 'g')\n",
    "plt.plot([s4(n, N) for N in range(1, 105)])\n",
    "plt.show()"
   ]
  },
  {
   "cell_type": "markdown",
   "metadata": {
    "deletable": true,
    "editable": true
   },
   "source": [
    "\\begin{eqnarray*}\n",
    "\\sum_{n=1}^\\infty\\,\\frac{1}{8^n}\\,\\binom{2n}{n}(H_{2n} - H_n) & = & \\sqrt{2}\\ln(4 - 2\\sqrt{2})\n",
    "\\end{eqnarray*}"
   ]
  },
  {
   "cell_type": "code",
   "execution_count": null,
   "metadata": {
    "collapsed": false,
    "deletable": true,
    "editable": true
   },
   "outputs": [],
   "source": [
    "%matplotlib inline\n",
    "N = symbols('N', integer = True)\n",
    "s5 = Lambda([n, N], Sum( 1/8**n*binomial(2*n, n)*(harmonic(2*n) - harmonic(n)), (n, 1, N)))\n",
    "s5_expr = sqrt(2) * ln(4-2*sqrt(2))\n",
    "plt.plot([s5_expr.evalf()]*23, 'g')\n",
    "plt.plot([s5(n, N) for N in range(1, 24)])\n",
    "plt.show()"
   ]
  },
  {
   "cell_type": "markdown",
   "metadata": {
    "deletable": true,
    "editable": true
   },
   "source": [
    "\\begin{eqnarray*}\n",
    "\\sum_{n=1}^\\infty\\,\\frac{1}{4^n}\\,C_nh_{n} & = & 2\n",
    "\\end{eqnarray*}"
   ]
  },
  {
   "cell_type": "code",
   "execution_count": null,
   "metadata": {
    "collapsed": false,
    "deletable": true,
    "editable": true
   },
   "outputs": [],
   "source": [
    "%matplotlib inline\n",
    "N = symbols('N', integer = True)\n",
    "s6 = Lambda([n, N], Sum( 1/8**n * binomial(2*n, n)*harmonic(2*n), (n, 1, N)))\n",
    "s6_expr = sqrt(2)/2 * ln((3+2*sqrt(2))/2)\n",
    "plt.plot([s6_expr.evalf()]*23, 'g')\n",
    "plt.plot([s6(n, N) for N in range(1, 24)])\n",
    "plt.show()"
   ]
  },
  {
   "cell_type": "markdown",
   "metadata": {
    "deletable": true,
    "editable": true
   },
   "source": [
    "In particular, letting $x = (1+ \\sqrt{5})/16$ and $ x = (1-\\sqrt{5})/16$ , respectively, in view of the fact that\n",
    "$$\\sqrt{3 \\pm\\sqrt{5}} = \\frac{\\sqrt{2}}{2}\\,(\\sqrt{5} \\pm 1)$$\n",
    "and Binet's formula\n",
    "$$F_n = \\frac{1}{\\sqrt{5}}\\left[\\left(\\frac{1+\\sqrt{5}}{2}\\right)^n - \\left(\\frac{1-\\sqrt{5}}{2}\\right)^n\\right],$$\n",
    "we find that\n",
    "$$\\sum_{n=1}^\\infty\\,\\frac{1}{8^n}\\binom{2n}{n}h_nF_n = \\frac{1}{\\sqrt{10}}\\,\\ln 2 + \\frac{1}{\\sqrt{2}}\\ln\\left(\\frac{3 + \\sqrt{5}}{2}\\right),$$"
   ]
  },
  {
   "cell_type": "code",
   "execution_count": null,
   "metadata": {
    "collapsed": false,
    "deletable": true,
    "editable": true
   },
   "outputs": [],
   "source": [
    "%matplotlib inline\n",
    "N = symbols('N', integer = True)\n",
    "FN = Lambda([n], 1/sqrt(5)*(((1+sqrt(5))/2)**n - ((1-sqrt(5))/2)**n))\n",
    "s7 = Lambda([n, N], Sum( 1/8**n * binomial(2*n, n)*h_n(n)*FN(n), (n, 1, N)))\n",
    "s7_expr = 1/sqrt(10) * ln(2) + 1/sqrt(2)*ln((3+sqrt(5))/2)\n",
    "plt.plot([s7_expr.evalf()]*30, 'g')\n",
    "plt.plot([s7(n, N) for N in range(1, 31)])\n",
    "plt.show()"
   ]
  },
  {
   "cell_type": "markdown",
   "metadata": {
    "deletable": true,
    "editable": true
   },
   "source": [
    "$$\\sum_{n=1}^\\infty\\,n{2n \\choose n}h_nx^n = \\frac{2x}{(1-4x)^{3/2}} - \\frac{x\\ln(1-4x)}{(1-4x)^{3/2}}.$$"
   ]
  },
  {
   "cell_type": "code",
   "execution_count": null,
   "metadata": {
    "collapsed": false,
    "deletable": true,
    "editable": true
   },
   "outputs": [],
   "source": [
    "s8 = Sum(n*binomial(2*n,n)*h_n(n)*x**n, (n, 1, k))\n",
    "s8_expr = Lambda([n], 2*x/(1-4*x)**(3./2) - x*ln(1-4*x)/(1-4*x)**(3./2))\n",
    "expanded = s8.subs({k:10})\n",
    "Eq(expanded, expanded.doit())"
   ]
  },
  {
   "cell_type": "code",
   "execution_count": null,
   "metadata": {
    "collapsed": false,
    "deletable": true,
    "editable": true
   },
   "outputs": [],
   "source": [
    "series(s8_expr(x), x, n=10)"
   ]
  },
  {
   "cell_type": "markdown",
   "metadata": {
    "deletable": true,
    "editable": true
   },
   "source": [
    "If we set $x = 1/8$, we get\n",
    "$$\\sum_{n=1}^\\infty\\,\\frac{n}{8^n}{2n \\choose n}h_n = \\frac{1}{2}\\sqrt{2} +\\frac{1}{4}\\sqrt{2} \\ln 2.$$"
   ]
  },
  {
   "cell_type": "code",
   "execution_count": null,
   "metadata": {
    "collapsed": false,
    "deletable": true,
    "editable": true
   },
   "outputs": [],
   "source": [
    "%matplotlib inline\n",
    "N = symbols('N', integer = True)\n",
    "s9 = Lambda([n, N], Sum( n/8**n*binomial(2*n,n)*h_n(n), (n, 1, N)))\n",
    "s9_expr = 1./2* sqrt(2) + 1./4*sqrt(2)*ln(2)\n",
    "plt.plot([s9_expr.evalf()]*23, 'g')\n",
    "plt.plot([s9(n, N) for N in range(1, 24)])\n",
    "plt.show()"
   ]
  },
  {
   "cell_type": "markdown",
   "metadata": {
    "collapsed": false,
    "deletable": true,
    "editable": true
   },
   "source": [
    "\\begin{equation} \n",
    "\\sum_{n=1}^\\infty\\,\\binom{2n}{n}H_n\\,x^n = \\frac{2}{\\sqrt{1-4x}}\\,\\ln\\left(\\frac{1+\\sqrt{1 -4x}}{2\\sqrt{1-4x}}\\right). \n",
    "\\end{equation}\n",
    "Trasformando $x = \\frac{1}{4}\\sin^2t$\n",
    "\\begin{equation}\n",
    "\\sum_{n=1}^\\infty\\,\\frac{1}{4^n}\\,\\binom{2n}{n}H_n\\sin^{2n}t = \\frac{2}{\\cos t}\\,\\ln\\left(\\frac{1 + \\cos t}{2\\cos t}\\right),\n",
    "\\end{equation}\n",
    "\n",
    "# ------------Non torna------------"
   ]
  },
  {
   "cell_type": "code",
   "execution_count": null,
   "metadata": {
    "collapsed": false,
    "deletable": true,
    "editable": true
   },
   "outputs": [],
   "source": [
    "s10 = Sum(1/4**n*binomial(2*n,n)*harmonic(n)*sin(t)**(2*n),(n,1,k))\n",
    "s10_expr = Lambda([t], 2/cos(t)*ln((1+cos(t))/(2*cos(t))))\n",
    "# [(s10(i)) for i in range(1, 8)] \n",
    "expanded = s10.subs({k:10})\n",
    "Eq(expanded, expanded.doit().subs({sin(t)**2: k}))"
   ]
  },
  {
   "cell_type": "code",
   "execution_count": null,
   "metadata": {
    "collapsed": false,
    "deletable": true,
    "editable": true
   },
   "outputs": [],
   "source": [
    "s10_expr(t), series(s10_expr(t), t, n=20)"
   ]
  },
  {
   "cell_type": "markdown",
   "metadata": {
    "deletable": true,
    "editable": true
   },
   "source": [
    "\\begin{equation}\n",
    "\\sum_{n=1}^\\infty\\,\\frac{1}{4^{n+1}}\\,C_{n}H_n\\sin^{2(n+1)}t =\\ln 2 + \\cos t\\ln(2\\cos t) - (1 + \\cos t)\\ln(1 + \\cos t),\n",
    "\\end{equation}"
   ]
  },
  {
   "cell_type": "code",
   "execution_count": null,
   "metadata": {
    "collapsed": false,
    "deletable": true,
    "editable": true
   },
   "outputs": [],
   "source": [
    "s11 = Sum(1/4**(n+1)*catalan(n)*harmonic(n)*sin(t)**(2*(n+1)),(n,1,k))\n",
    "s11_expr = Lambda([t], ln(2)+cos(t)*ln(2*cos(t))-(1+cos(t))*ln(1+cos(t)))\n",
    "expanded = s11.subs({k:10})\n",
    "Eq(expanded, expanded.doit())"
   ]
  },
  {
   "cell_type": "code",
   "execution_count": null,
   "metadata": {
    "collapsed": false,
    "deletable": true,
    "editable": true
   },
   "outputs": [],
   "source": [
    "series(s11_expr(t), t, n=10)"
   ]
  },
  {
   "cell_type": "markdown",
   "metadata": {
    "deletable": true,
    "editable": true
   },
   "source": [
    "\\begin{equation}\n",
    "\\sum_{n=1}^\\infty\\,\\frac{1}{4^n(2n+1)}\\,\\binom{2n}{n}H_n = 4G - \\pi\\ln 2,\n",
    "\\end{equation}\n",
    "where $G$ is Catalan's constant, which is defined by\n",
    "$$G := \\sum_{k=0}^\\infty\\,\\frac{(-1)^k}{(2k+1)^2}.$$"
   ]
  },
  {
   "cell_type": "code",
   "execution_count": null,
   "metadata": {
    "collapsed": false,
    "deletable": true,
    "editable": true
   },
   "outputs": [],
   "source": [
    "%matplotlib inline\n",
    "G = Sum((-1)**k/(2*k+1)**2,(k,0,oo))\n",
    "N = symbols('N', integer = True)\n",
    "s12 = Lambda([n, N], Sum( 1/(4**n*(2*n+1))*binomial(2*n,n)*harmonic(n), (n, 1, N)))\n",
    "s12_expr = 4*G.evalf()- pi*ln(2)\n",
    "plt.plot([s12_expr.evalf()]*100, 'g')\n",
    "plt.plot([s12(n, N) for N in range(1, 100)])\n",
    "plt.show()"
   ]
  },
  {
   "cell_type": "markdown",
   "metadata": {
    "collapsed": true,
    "deletable": true,
    "editable": true
   },
   "source": [
    "If we multiply by $t\\cos t$ and then integrate from $0$ to $\\pi/2$, since (for example, using integration by parts)\n",
    "$$\\int_0^{\\pi/2}\\,t\\cos t\\sin^{2n}t\\,dt = \\frac{1}{2n+1}\\left(\\frac{\\pi}{2} - \\frac{(2n)!!}{(2n+1)!!}\\right),$$\n",
    "it follows that\n",
    "\\begin{equation}\n",
    "\\sum_{n=1}^\\infty\\,\\frac{1}{4^n(2n+1)}\\,\\binom{2n}{n}H_n\\left(\\frac{\\pi}{2} - \\frac{(2n)!!}{(2n+1)!!}\\right) =\\frac{1}{4}(8\\pi G - \\pi^2\\ln 2 - 7\\zeta(3)),\n",
    "\\end{equation}\n",
    "where $\\zeta(x)$ is Riemann's zeta function.\n",
    "\n",
    "Gia' per n=5 si calcola il fattoriale di 120..."
   ]
  },
  {
   "cell_type": "code",
   "execution_count": null,
   "metadata": {
    "collapsed": false,
    "deletable": true,
    "editable": true
   },
   "outputs": [],
   "source": [
    "%matplotlib inline\n",
    "# f = Integral(t*cos(t)*sin(t)**(2*n),(t,0,pi/2))\n",
    "N = symbols('N', integer = True)\n",
    "s13 = Lambda([n, N], Sum( 1/(4**n*(2*n+1))*binomial(2*n,n)*harmonic(n)*(pi/2 - factorial(factorial(2*n))/(factorial(factorial(2*n + 1)))), (n, 1, N)))\n",
    "s13_expr = 1./4 *(8*pi*G.evalf()- pi**2*ln(2) - 7*zeta(3))\n",
    "plt.plot([s13_expr.evalf()]*3, 'g')\n",
    "plt.plot([s13(n, N).doit() for N in range(1, 4)])\n",
    "plt.show()"
   ]
  },
  {
   "cell_type": "markdown",
   "metadata": {
    "deletable": true,
    "editable": true
   },
   "source": [
    "\\begin{equation}\n",
    "\\sum_{n=1}^\\infty\\,\\frac{1}{(2n+1)^2}\\,H_n = \\frac{1}{4}\\,(7\\zeta(3) -\\pi^2\\ln 2). \n",
    "\\end{equation}"
   ]
  },
  {
   "cell_type": "code",
   "execution_count": null,
   "metadata": {
    "collapsed": false,
    "deletable": true,
    "editable": true
   },
   "outputs": [],
   "source": [
    "%matplotlib inline\n",
    "# f = Integral(t*cos(t)*sin(t)**(2*n),(t,0,pi/2))\n",
    "N = symbols('N', integer = True)\n",
    "s14 = Lambda([n, N], Sum( 1/(2*n+1)**2*harmonic(n), (n, 1, N)))\n",
    "s14_expr = 1./4 *(7*zeta(3) - pi**2*ln(2))\n",
    "plt.plot([s14_expr.evalf()]*124, 'g')\n",
    "plt.plot([s14(n, N).doit() for N in range(1, 125)])\n",
    "plt.show()"
   ]
  },
  {
   "cell_type": "markdown",
   "metadata": {
    "deletable": true,
    "editable": true
   },
   "source": [
    "\\begin{equation}\n",
    "\\sum_{n=1}^\\infty \\frac{1}{4^n}\\binom{2n}{n}(H_{2n} - H_n)\\sin^{2n}t  =  - \\frac{1}{\\cos t}\\,\\ln\\left(\\frac{1 + \\cos t}{2}\\right)\n",
    "\\end{equation}"
   ]
  },
  {
   "cell_type": "code",
   "execution_count": null,
   "metadata": {
    "collapsed": false,
    "deletable": true,
    "editable": true
   },
   "outputs": [],
   "source": [
    "N = symbols('N', integer = True)\n",
    "s15 = Sum( 1/4**n * binomial(2*n,n) * (harmonic(2*n) - harmonic(n))*sin(t)**(2*n), (n, 1, k))\n",
    "s15_expr = Lambda([t],-1/cos(t)*ln(1./2 + cos(t)/2))\n",
    "expanded = s15.subs({k:5})\n",
    "Eq(expanded, expanded.doit())"
   ]
  },
  {
   "cell_type": "code",
   "execution_count": null,
   "metadata": {
    "collapsed": false,
    "deletable": true,
    "editable": true
   },
   "outputs": [],
   "source": [
    "series(s15_expr(t), t, n=5)"
   ]
  },
  {
   "cell_type": "markdown",
   "metadata": {
    "deletable": true,
    "editable": true
   },
   "source": [
    "\\begin{eqnarray*}\n",
    "\\sum_{n=1}^\\infty\\,\\frac{1}{4^n(2n+1)}\\,\\binom{2n}{n}(H_{2n} -H_n) & = & \\pi\\ln 2 - 2G\n",
    "\\end{eqnarray*}"
   ]
  },
  {
   "cell_type": "code",
   "execution_count": null,
   "metadata": {
    "collapsed": false,
    "deletable": true,
    "editable": true
   },
   "outputs": [],
   "source": [
    "%matplotlib inline\n",
    "G = Sum((-1)**k/(2*k+1)**2,(k,0,oo))\n",
    "N = symbols('N', integer = True)\n",
    "s16 = Lambda([n, N], Sum( 1/(4**n*(2*n+1))*binomial(2*n,n)*(harmonic(2*n) - harmonic(n)), (n, 1, N)))\n",
    "s16_expr = - 2*G.evalf() + pi*ln(2)\n",
    "plt.plot([s16_expr.evalf()]*105, 'g')\n",
    "plt.plot([s16(n, N) for N in range(1, 105)])\n",
    "plt.show()"
   ]
  },
  {
   "cell_type": "code",
   "execution_count": null,
   "metadata": {
    "collapsed": true,
    "deletable": true,
    "editable": true
   },
   "outputs": [],
   "source": []
  }
 ],
 "metadata": {
  "celltoolbar": "Raw Cell Format",
  "kernelspec": {
   "display_name": "Python 2",
   "language": "python",
   "name": "python2"
  },
  "language_info": {
   "codemirror_mode": {
    "name": "ipython",
    "version": 2
   },
   "file_extension": ".py",
   "mimetype": "text/x-python",
   "name": "python",
   "nbconvert_exporter": "python",
   "pygments_lexer": "ipython2",
   "version": "2.7.13"
  }
 },
 "nbformat": 4,
 "nbformat_minor": 2
}
