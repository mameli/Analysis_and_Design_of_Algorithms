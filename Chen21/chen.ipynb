{
 "cells": [
  {
   "cell_type": "markdown",
   "metadata": {},
   "source": [
    "# Progetto PAA\n",
    "Autore: Filippo Mameli - 6222254 - filippo.mameli@stud.unifi.it\n",
    "\n",
    "### Setup del progetto"
   ]
  },
  {
   "cell_type": "code",
   "execution_count": 11,
   "metadata": {
    "collapsed": true
   },
   "outputs": [],
   "source": [
    "from sympy import *\n",
    "from sympy import Sum, factorial, oo, catalan, harmonic\n",
    "from sympy.abc import i, j, k, m, n, x, t\n",
    "import sys\n",
    "import matplotlib.pyplot as plt\n",
    "import matplotlib\n",
    "init_printing()\n",
    "\n",
    "EXP_VALUE = 10"
   ]
  },
  {
   "cell_type": "markdown",
   "metadata": {},
   "source": [
    "# 1) Introduzione\n",
    "I numeri di Catalan sono definiti come:"
   ]
  },
  {
   "cell_type": "code",
   "execution_count": 12,
   "metadata": {},
   "outputs": [
    {
     "data": {
      "image/png": "[encoded data removed]",
      "text/latex": [
       "$$\\left( n \\mapsto \\frac{{\\binom{2 n}{n}}}{n + 1} \\right)$$"
      ],
      "text/plain": [
       "    ⎛2⋅n⎞\n",
       "    ⎜   ⎟\n",
       "    ⎝ n ⎠\n",
       "n ↦ ─────\n",
       "    n + 1"
      ]
     },
     "execution_count": 12,
     "metadata": {},
     "output_type": "execute_result"
    }
   ],
   "source": [
    "CN = Function('C_n')\n",
    "n = symbols('n', integer=True)\n",
    "catalan_expr = 1 / (n + 1) * binomial(2 * n, n)\n",
    "CN = Lambda([n], catalan_expr)\n",
    "CN"
   ]
  },
  {
   "cell_type": "markdown",
   "metadata": {
    "collapsed": true
   },
   "source": [
    "I primi 10 numeri di catalan sono:"
   ]
  },
  {
   "cell_type": "code",
   "execution_count": 13,
   "metadata": {},
   "outputs": [
    {
     "data": {
      "image/png": "[encoded data removed]",
      "text/latex": [
       "$$\\left [ 1, \\quad 1, \\quad 2, \\quad 5, \\quad 14, \\quad 42, \\quad 132, \\quad 429, \\quad 1430, \\quad 4862, \\quad 16796\\right ]$$"
      ],
      "text/plain": [
       "[1, 1, 2, 5, 14, 42, 132, 429, 1430, 4862, 16796]"
      ]
     },
     "execution_count": 13,
     "metadata": {},
     "output_type": "execute_result"
    }
   ],
   "source": [
    "[CN(i) for i in range(0, 11)]"
   ]
  },
  {
   "cell_type": "markdown",
   "metadata": {},
   "source": [
    "### Coefficienti binomiali centrali\n",
    "Sappiamo che la funzione generatrice dei coefficienti binomiali centrali è data da:\n",
    "$$\\sum_{n=0}^{\\infty}\\binom{2n}{n}x^n = \\frac{1}{\\sqrt{1-4x}}$$\n",
    "Si può controllare infatti per i primi dieci elementi che questa relazione è vera"
   ]
  },
  {
   "cell_type": "code",
   "execution_count": 14,
   "metadata": {},
   "outputs": [
    {
     "data": {
      "image/png": "[encoded data removed]",
      "text/latex": [
       "$$\\sum_{n=0}^{k} x^{n} {\\binom{2 n}{n}}$$"
      ],
      "text/plain": [
       "  k           \n",
       " ____         \n",
       " ╲            \n",
       "  ╲    n ⎛2⋅n⎞\n",
       "   ╲  x ⋅⎜   ⎟\n",
       "   ╱     ⎝ n ⎠\n",
       "  ╱           \n",
       " ╱            \n",
       " ‾‾‾‾         \n",
       "n = 0         "
      ]
     },
     "execution_count": 14,
     "metadata": {},
     "output_type": "execute_result"
    }
   ],
   "source": [
    "centralN = Sum(binomial(2 * n, n)*x**n, (n,0,k))\n",
    "centralN"
   ]
  },
  {
   "cell_type": "code",
   "execution_count": 15,
   "metadata": {},
   "outputs": [
    {
     "data": {
      "image/png": "[encoded data removed]",
      "text/latex": [
       "$$\\sum_{n=0}^{10} x^{n} {\\binom{2 n}{n}} = 184756 x^{10} + 48620 x^{9} + 12870 x^{8} + 3432 x^{7} + 924 x^{6} + 252 x^{5} + 70 x^{4} + 20 x^{3} + 6 x^{2} + 2 x + 1$$"
      ],
      "text/plain": [
       "  10                                                                          \n",
       " ____                                                                         \n",
       " ╲                                                                            \n",
       "  ╲    n ⎛2⋅n⎞                                                                \n",
       "   ╲  x ⋅⎜   ⎟           10          9          8         7        6        5 \n",
       "   ╱     ⎝ n ⎠ = 184756⋅x   + 48620⋅x  + 12870⋅x  + 3432⋅x  + 924⋅x  + 252⋅x  \n",
       "  ╱                                                                           \n",
       " ╱                                                                            \n",
       " ‾‾‾‾                                                                         \n",
       "n = 0                                                                         \n",
       "\n",
       "                                \n",
       "                                \n",
       "                                \n",
       "                                \n",
       "      4       3      2          \n",
       "+ 70⋅x  + 20⋅x  + 6⋅x  + 2⋅x + 1\n",
       "                                \n",
       "                                \n",
       "                                \n",
       "                                "
      ]
     },
     "execution_count": 15,
     "metadata": {},
     "output_type": "execute_result"
    }
   ],
   "source": [
    "expanded = centralN.subs({k:EXP_VALUE})\n",
    "Eq(expanded, expanded.doit())"
   ]
  },
  {
   "cell_type": "code",
   "execution_count": 16,
   "metadata": {},
   "outputs": [
    {
     "data": {
      "image/png": "[encoded data removed]",
      "text/latex": [
       "$$\\left( n \\mapsto \\frac{1}{\\sqrt{- 4 x + 1}} \\right)$$"
      ],
      "text/plain": [
       "         1      \n",
       "n ↦ ────────────\n",
       "      __________\n",
       "    ╲╱ -4⋅x + 1 "
      ]
     },
     "execution_count": 16,
     "metadata": {},
     "output_type": "execute_result"
    }
   ],
   "source": [
    "x = symbols('x', integer=True)\n",
    "centralBinomialCoef_expr = Lambda([n],1 / (sqrt(1 - 4 * x)))\n",
    "centralBinomialCoef_expr"
   ]
  },
  {
   "cell_type": "code",
   "execution_count": 17,
   "metadata": {},
   "outputs": [
    {
     "data": {
      "image/png": "[encoded data removed]",
      "text/latex": [
       "$$1 + 2 x + 6 x^{2} + 20 x^{3} + 70 x^{4} + 252 x^{5} + 924 x^{6} + 3432 x^{7} + 12870 x^{8} + 48620 x^{9} + 184756 x^{10} + \\mathcal{O}\\left(x^{11}\\right)$$"
      ],
      "text/plain": [
       "             2       3       4        5        6         7          8         \n",
       "1 + 2⋅x + 6⋅x  + 20⋅x  + 70⋅x  + 252⋅x  + 924⋅x  + 3432⋅x  + 12870⋅x  + 48620⋅\n",
       "\n",
       " 9           10    ⎛ 11⎞\n",
       "x  + 184756⋅x   + O⎝x  ⎠"
      ]
     },
     "execution_count": 17,
     "metadata": {},
     "output_type": "execute_result"
    }
   ],
   "source": [
    "series(centralBinomialCoef_expr(x), x, n=(EXP_VALUE + 1))"
   ]
  },
  {
   "cell_type": "markdown",
   "metadata": {},
   "source": [
    "### Numeri di Catalan\n",
    "Per i numeri di Catalan invece vale questa relazione:\n",
    "$$\\sum_{n=0}^{\\infty}C_nx^n =\\sum_{n=0}^{\\infty}\\frac{1}{n + 1}\\binom{2n}{n}x^n = \\frac{1-\\sqrt{1-4x}}{2x}$$\n",
    "Infatti:"
   ]
  },
  {
   "cell_type": "code",
   "execution_count": 18,
   "metadata": {},
   "outputs": [
    {
     "data": {
      "image/png": "[encoded data removed]",
      "text/latex": [
       "$$\\sum_{n=0}^{k} \\frac{x^{n} {\\binom{2 n}{n}}}{n + 1}$$"
      ],
      "text/plain": [
       "  k           \n",
       "_____         \n",
       "╲             \n",
       " ╲     n ⎛2⋅n⎞\n",
       "  ╲   x ⋅⎜   ⎟\n",
       "   ╲     ⎝ n ⎠\n",
       "   ╱  ────────\n",
       "  ╱    n + 1  \n",
       " ╱            \n",
       "╱             \n",
       "‾‾‾‾‾         \n",
       "n = 0         "
      ]
     },
     "execution_count": 18,
     "metadata": {},
     "output_type": "execute_result"
    }
   ],
   "source": [
    "Cx = Sum(CN(n)*x**n, (n,0,k))\n",
    "Cx"
   ]
  },
  {
   "cell_type": "code",
   "execution_count": 19,
   "metadata": {},
   "outputs": [
    {
     "data": {
      "image/png": "[encoded data removed]",
      "text/latex": [
       "$$\\sum_{n=0}^{10} \\frac{x^{n} {\\binom{2 n}{n}}}{n + 1} = 16796 x^{10} + 4862 x^{9} + 1430 x^{8} + 429 x^{7} + 132 x^{6} + 42 x^{5} + 14 x^{4} + 5 x^{3} + 2 x^{2} + x + 1$$"
      ],
      "text/plain": [
       "  10                                                                          \n",
       "_____                                                                         \n",
       "╲                                                                             \n",
       " ╲     n ⎛2⋅n⎞                                                                \n",
       "  ╲   x ⋅⎜   ⎟                                                                \n",
       "   ╲     ⎝ n ⎠          10         9         8        7        6       5      \n",
       "   ╱  ──────── = 16796⋅x   + 4862⋅x  + 1430⋅x  + 429⋅x  + 132⋅x  + 42⋅x  + 14⋅\n",
       "  ╱    n + 1                                                                  \n",
       " ╱                                                                            \n",
       "╱                                                                             \n",
       "‾‾‾‾‾                                                                         \n",
       "n = 0                                                                         \n",
       "\n",
       "                        \n",
       "                        \n",
       "                        \n",
       "                        \n",
       "                        \n",
       " 4      3      2        \n",
       "x  + 5⋅x  + 2⋅x  + x + 1\n",
       "                        \n",
       "                        \n",
       "                        \n",
       "                        \n",
       "                        "
      ]
     },
     "execution_count": 19,
     "metadata": {},
     "output_type": "execute_result"
    }
   ],
   "source": [
    "expanded = Cx.subs({k:EXP_VALUE})\n",
    "Eq(expanded, expanded.doit())"
   ]
  },
  {
   "cell_type": "code",
   "execution_count": 20,
   "metadata": {},
   "outputs": [
    {
     "data": {
      "image/png": "[encoded data removed]",
      "text/latex": [
       "$$\\left( x \\mapsto \\frac{1}{2 x} \\left(- \\sqrt{- 4 x + 1} + 1\\right) \\right)$$"
      ],
      "text/plain": [
       "        __________    \n",
       "    - ╲╱ -4⋅x + 1  + 1\n",
       "x ↦ ──────────────────\n",
       "           2⋅x        "
      ]
     },
     "execution_count": 20,
     "metadata": {},
     "output_type": "execute_result"
    }
   ],
   "source": [
    "catalan_expr = Lambda([x],(1 - sqrt(1 - 4 * x)) / (2*x))\n",
    "catalan_expr"
   ]
  },
  {
   "cell_type": "code",
   "execution_count": 21,
   "metadata": {},
   "outputs": [
    {
     "data": {
      "image/png": "[encoded data removed]",
      "text/latex": [
       "$$1 + x + 2 x^{2} + 5 x^{3} + 14 x^{4} + 42 x^{5} + 132 x^{6} + 429 x^{7} + 1430 x^{8} + 4862 x^{9} + 16796 x^{10} + \\mathcal{O}\\left(x^{11}\\right)$$"
      ],
      "text/plain": [
       "           2      3       4       5        6        7         8         9     \n",
       "1 + x + 2⋅x  + 5⋅x  + 14⋅x  + 42⋅x  + 132⋅x  + 429⋅x  + 1430⋅x  + 4862⋅x  + 16\n",
       "\n",
       "     10    ⎛ 11⎞\n",
       "796⋅x   + O⎝x  ⎠"
      ]
     },
     "execution_count": 21,
     "metadata": {},
     "output_type": "execute_result"
    }
   ],
   "source": [
    "series(catalan_expr(x), x, n=11)"
   ]
  },
  {
   "cell_type": "markdown",
   "metadata": {},
   "source": [
    "Dalla funzione generatrice dei coefficienti binomiali, i numeri di Catalan e i numeri amonici\n",
    "sono state ricavate alcune interessanti serie come\n",
    "$$\\sum_{n=1}^{\\infty}\\frac{1}{n^3}H_n = \\frac{\\pi^4}{72}$$\n",
    "e \n",
    "$$\\sum_{n=1}^{\\infty}\\frac{1}{n^2}H_n^2 = \\frac{17\\pi^4}{360}$$\n",
    "\n",
    "In seguito si propongono alcuni risultati.\n",
    "\n",
    "$$\\sum_{n=1}^{\\infty}\\frac{1}{n^3}H_n = \\frac{\\pi^4}{72}$$\n",
    "Per verificare l'uguaglianza si utilizza la seconda formula sviluppata nell'articolo cioè:\n",
    "$\\sum_{n=1}^{\\infty}\\frac{1}{n^3}H_n = \\frac{5}{4}\\sum_{n=1}^{\\infty}\\frac{1}{n^4} = \\frac{\\pi^4}{72}$.\n",
    "\n",
    "In questa formulazione lo strumento riesce a valutare l'uguaglianza con la funzione di $==$"
   ]
  },
  {
   "cell_type": "code",
   "execution_count": 22,
   "metadata": {},
   "outputs": [
    {
     "data": {
      "text/plain": [
       "True"
      ]
     },
     "execution_count": 22,
     "metadata": {},
     "output_type": "execute_result"
    }
   ],
   "source": [
    "h1 = Lambda([n], Sum(harmonic(n)*1/n**3, (n, 1, 100)))\n",
    "h1_simple = Lambda([n], zeta(4) * 5/4)\n",
    "(h1_simple(n).doit()) == (pi**4/72).doit()"
   ]
  },
  {
   "cell_type": "markdown",
   "metadata": {},
   "source": [
    "Il procedimento è identico per la seconda formula"
   ]
  },
  {
   "cell_type": "code",
   "execution_count": 23,
   "metadata": {},
   "outputs": [
    {
     "data": {
      "text/plain": [
       "True"
      ]
     },
     "execution_count": 23,
     "metadata": {},
     "output_type": "execute_result"
    }
   ],
   "source": [
    "h2 = Lambda([n], Sum(harmonic(n)**2*1/n**2, (n, 1, oo)))\n",
    "h2_simple = Lambda([n], zeta(4) * 17/4)\n",
    "(h2_simple(n).doit()) == (17*pi**4/360).doit()"
   ]
  },
  {
   "cell_type": "markdown",
   "metadata": {},
   "source": [
    "Invocando la formula di Gauss per le serie ipergeometriche si arriva a risultati come:\n",
    "$$\\sum_{k=0}^{n}\\binom{n}{k}^2H_k = \\binom{2n}{n}(2H_n - H_{2n})$$"
   ]
  },
  {
   "cell_type": "code",
   "execution_count": 24,
   "metadata": {},
   "outputs": [
    {
     "data": {
      "text/plain": [
       "[True, True, True, True, True, True, True, True, True, True]"
      ]
     },
     "execution_count": 24,
     "metadata": {},
     "output_type": "execute_result"
    }
   ],
   "source": [
    "h3 = Lambda([n], Sum(harmonic(k) * binomial(n,k)**2, (k, 1, n)))\n",
    "h3_expr = Lambda([n], binomial(2*n, n)*(2*harmonic(n) - harmonic(2*n)))\n",
    "[(h3(i).doit() == h3_expr(i).doit()) for i in range(0, 10)]"
   ]
  },
  {
   "cell_type": "markdown",
   "metadata": {},
   "source": [
    "Si mostra che\n",
    "$$\\sum_{n=0}^{\\infty}\\frac{1}{8^n}\\binom{2n}{n}H_n = 2\\sqrt2 \\ ln \\ (\\frac{1 +\\sqrt2}{2})$$"
   ]
  },
  {
   "cell_type": "code",
   "execution_count": 25,
   "metadata": {},
   "outputs": [
    {
     "data": {
      "text/plain": [
       "True"
      ]
     },
     "execution_count": 25,
     "metadata": {},
     "output_type": "execute_result"
    }
   ],
   "source": [
    "h4 = Lambda([n], Sum(harmonic(n) * binomial(2*n, n) * 1/ 8**n, (n, 0, oo)))\n",
    "h4_expr = 2 * sqrt(2) * ln((1 + sqrt(2)) / 2)\n",
    "h4(n).evalf() == h4_expr.evalf()"
   ]
  },
  {
   "cell_type": "markdown",
   "metadata": {},
   "source": [
    "Manipolando $C(x)$ si possono trovare altre serie interessanti che contengono $\\binom{2n}{n}(H_{2n} - H_n), C_n(H_{2n} - H_n)$ e $\\binom{2n}{n}h_n$ con $h_n$ definito come:\n",
    "$$ h_n = 1 + \\frac{1}{3} + \\frac{1}{5} + \\dots + + \\frac{1}{2n - 1}  $$"
   ]
  },
  {
   "cell_type": "code",
   "execution_count": 26,
   "metadata": {
    "scrolled": true
   },
   "outputs": [
    {
     "data": {
      "image/png": "[encoded data removed]",
      "text/latex": [
       "$$\\left( n \\mapsto \\sum_{k=1}^{n} \\frac{1}{2 k - 1} \\right)$$"
      ],
      "text/plain": [
       "      n          \n",
       "     ____        \n",
       "     ╲           \n",
       "      ╲      1   \n",
       "       ╲  ───────\n",
       "n ↦    ╱  2⋅k - 1\n",
       "      ╱          \n",
       "     ╱           \n",
       "     ‾‾‾‾        \n",
       "    k = 1        "
      ]
     },
     "execution_count": 26,
     "metadata": {},
     "output_type": "execute_result"
    }
   ],
   "source": [
    "h_n = Lambda([n], Sum(1/ (2*k - 1), (k, 1, n)))\n",
    "h_n"
   ]
  },
  {
   "cell_type": "markdown",
   "metadata": {},
   "source": [
    "In particolare si ottengono le seguenti serie:\n",
    "\n",
    "$$\\sum_{n=1}^{\\infty} 8^{- n} {\\binom{2 n}{n}} \\operatorname{F}{\\left (n \\right )}h_n = \\frac{\\sqrt{10}}{10} \\log{\\left (2 \\right )} + \\frac{\\sqrt{2}}{2} \\log{\\left (\\frac{\\sqrt{5}}{2} + \\frac{3}{2} \\right )}$$\n",
    "\n",
    "Dove $F_n$ è l'n-esimo numero di Fibonacci.\n",
    "\n",
    "\\begin{equation}\n",
    "\\sum_{n=1}^\\infty\\,\\binom{2n}{n}(H_{2n-1} - H_n)\\frac{x^n}{n} = \\ln^2(C(x)).\n",
    "\\end{equation}\n",
    "\n",
    "Per verificare le uguaglianze si utilizzerà dei plot per visualizzare l'andamento delle serie infinite.\n",
    "\n",
    "La linea blu del grafico mostra l'andamento di $\\sum_{n=1}^{\\infty} 8^{- n} {\\binom{2 n}{n}} \\operatorname{F}{\\left (n \\right )}h_n $ mentre la linea verde $\\frac{\\sqrt{10}}{10} \\log{\\left (2 \\right )} + \\frac{\\sqrt{2}}{2} \\log{\\left (\\frac{\\sqrt{5}}{2} + \\frac{3}{2} \\right )}$"
   ]
  },
  {
   "cell_type": "code",
   "execution_count": 27,
   "metadata": {},
   "outputs": [
    {
     "data": {
      "image/png": "[encoded data removed]",
      "text/plain": [
       "<matplotlib.figure.Figure at 0x108239748>"
      ]
     },
     "metadata": {},
     "output_type": "display_data"
    }
   ],
   "source": [
    "%matplotlib inline\n",
    "N = symbols('N', integer = True)\n",
    "h5 = Lambda([n,N], Sum(h_n(n) * binomial(2*n, n) * 1/ 8**n * fibonacci(n), (n, 1, N)))\n",
    "h5_expr = 1/sqrt(10) * ln(2) + 1/sqrt(2) * ln((3 + sqrt(5))/ 2)\n",
    "plt.plot([h5_expr.evalf()] * 24, 'g')\n",
    "plt.plot([h5(n, N) for N in range(1, 25)])\n",
    "plt.show()"
   ]
  },
  {
   "cell_type": "markdown",
   "metadata": {},
   "source": [
    "\\begin{equation}\n",
    "\\sum_{n=1}^\\infty\\,\\binom{2n}{n}(H_{2n-1} - H_n)\\frac{x^n}{n} = \\ln^2(C(x)).\n",
    "\\end{equation}"
   ]
  },
  {
   "cell_type": "code",
   "execution_count": 28,
   "metadata": {},
   "outputs": [
    {
     "data": {
      "image/png": "[encoded data removed]",
      "text/latex": [
       "$$\\sum_{n=1}^{10} \\frac{x^{n}}{n} \\left(- \\operatorname{harmonic}{\\left (n \\right )} + \\operatorname{harmonic}{\\left (2 n - 1 \\right )}\\right) {\\binom{2 n}{n}} = \\frac{144045379 x^{10}}{12600} + \\frac{277075 x^{9}}{84} + \\frac{108175 x^{8}}{112} + \\frac{4319 x^{7}}{15} + \\frac{15797 x^{6}}{180} + \\frac{55 x^{5}}{2} + \\frac{107 x^{4}}{12} + 3 x^{3} + x^{2}$$"
      ],
      "text/plain": [
       "  10                                                                          \n",
       "_____                                                                         \n",
       "╲                                                                             \n",
       " ╲     n                                    ⎛2⋅n⎞                             \n",
       "  ╲   x ⋅(-harmonic(n) + harmonic(2⋅n - 1))⋅⎜   ⎟              10           9 \n",
       "   ╲                                        ⎝ n ⎠   144045379⋅x     277075⋅x  \n",
       "   ╱  ─────────────────────────────────────────── = ───────────── + ───────── \n",
       "  ╱                        n                            12600           84    \n",
       " ╱                                                                            \n",
       "╱                                                                             \n",
       "‾‾‾‾‾                                                                         \n",
       "n = 1                                                                         \n",
       "\n",
       "                                                             \n",
       "                                                             \n",
       "                                                             \n",
       "                                                             \n",
       "          8         7          6       5        4            \n",
       "  108175⋅x    4319⋅x    15797⋅x    55⋅x    107⋅x       3    2\n",
       "+ ───────── + ─────── + ──────── + ───── + ────── + 3⋅x  + x \n",
       "     112         15       180        2       12              \n",
       "                                                             \n",
       "                                                             \n",
       "                                                             \n",
       "                                                             "
      ]
     },
     "execution_count": 28,
     "metadata": {},
     "output_type": "execute_result"
    }
   ],
   "source": [
    "h6 = Sum(binomial(2*n, n) * (harmonic(2 * n - 1)- harmonic(n))*x**n/n,(n, 1, k))\n",
    "expanded = h6.subs({k:EXP_VALUE})\n",
    "Eq(expanded, expanded.doit())"
   ]
  },
  {
   "cell_type": "code",
   "execution_count": 29,
   "metadata": {},
   "outputs": [
    {
     "data": {
      "image/png": "[encoded data removed]",
      "text/latex": [
       "$$x^{2} + 3 x^{3} + \\frac{107 x^{4}}{12} + \\frac{55 x^{5}}{2} + \\frac{15797 x^{6}}{180} + \\frac{4319 x^{7}}{15} + \\frac{108175 x^{8}}{112} + \\frac{277075 x^{9}}{84} + \\frac{144045379 x^{10}}{12600} + \\mathcal{O}\\left(x^{11}\\right)$$"
      ],
      "text/plain": [
       "                 4       5          6         7           8           9       \n",
       " 2      3   107⋅x    55⋅x    15797⋅x    4319⋅x    108175⋅x    277075⋅x    1440\n",
       "x  + 3⋅x  + ────── + ───── + ──────── + ─────── + ───────── + ───────── + ────\n",
       "              12       2       180         15        112          84          \n",
       "\n",
       "       10         \n",
       "45379⋅x      ⎛ 11⎞\n",
       "───────── + O⎝x  ⎠\n",
       "12600             "
      ]
     },
     "execution_count": 29,
     "metadata": {},
     "output_type": "execute_result"
    }
   ],
   "source": [
    "h6_expr = Lambda([n],(ln(catalan_expr(x)))**2)\n",
    "series(h6_expr(x), x, n=(EXP_VALUE + 1))"
   ]
  },
  {
   "cell_type": "markdown",
   "metadata": {},
   "source": [
    "# 2) Teoremi principali\n",
    "Si comincia stabilendo la funzione generatrice di $\\binom{2n}{n}H_n$. Si conosce questa relazione:\n",
    "$$H_n = \\sum_{k=1}^n\\,\\frac{1}{k} = \\int_0^1\\,\\left(\\sum_{k=0}^{n-1}\\,t^k\\right)\\,dt = \\int_0^1\\,\\frac{1- t^n}{1-t}\\,dt,$$"
   ]
  },
  {
   "cell_type": "code",
   "execution_count": 30,
   "metadata": {},
   "outputs": [
    {
     "data": {
      "text/plain": [
       "[(0, True), (1, True), (3/2, True), (11/6, True), (25/12, True)]"
      ]
     },
     "execution_count": 30,
     "metadata": {},
     "output_type": "execute_result"
    }
   ],
   "source": [
    "harmonic(n)\n",
    "h7 = Lambda([n], Integral(Sum(x**k, (k, 0, n - 1)),(x, 0, 1)))\n",
    "h7_2 = Lambda([n], Integral((1 - t**n)/(1 - t),(t, 0, 1)))\n",
    "[(h7(i).doit(), h7(i).doit() == harmonic(i) == h7_2(i).doit()) for i in range(0, 5)]"
   ]
  },
  {
   "cell_type": "markdown",
   "metadata": {
    "collapsed": true
   },
   "source": [
    "\\begin{eqnarray*}\n",
    "\\sum_{n=1}^\\infty\\,\\binom{2n}{n}H_n\\,x^n & = & \\sum_{n=1}^\\infty\\,\\binom{2n}{n}x^n\\int_0^1\\,\\frac{1- t^n}{1-t}\\,dt\\\\\n",
    "& = & \\int_0^1\\,\\frac{1}{1-t}\\,\\left(\\sum_{n=1}^\\infty\\,\\binom{2n}{n}\\,(x^n - (xt)^n)\\right)\\,dt\\\\\n",
    "& = & \\int_0^1\\,\\frac{1}{1-t}\\left(\\frac{1}{\\sqrt{1-4x}} - \\frac{1}{\\sqrt{1 -4xt}}\\right)\\,dt.\n",
    "\\end{eqnarray*}"
   ]
  },
  {
   "cell_type": "code",
   "execution_count": 31,
   "metadata": {},
   "outputs": [
    {
     "data": {
      "image/png": "[encoded data removed]",
      "text/latex": [
       "$$- \\infty \\operatorname{sign}{\\left (\\frac{1}{2 \\sqrt{x} - 1} \\right )} - \\int_{0}^{1} \\frac{1}{2 t \\sqrt{t x} - t - 2 \\sqrt{t x} + 1}\\, dt - \\frac{\\log{\\left (- 2 \\sqrt{x} + 1 \\right )}}{2 \\sqrt{x} - 1}$$"
      ],
      "text/plain": [
       "                     1                                                    \n",
       "                     ⌠                                                    \n",
       "        ⎛   1    ⎞   ⎮                1                     log(-2⋅√x + 1)\n",
       "- ∞⋅sign⎜────────⎟ - ⎮ ─────────────────────────────── dt - ──────────────\n",
       "        ⎝2⋅√x - 1⎠   ⎮       _____           _____             2⋅√x - 1   \n",
       "                     ⎮ 2⋅t⋅╲╱ t⋅x  - t - 2⋅╲╱ t⋅x  + 1                    \n",
       "                     ⌡                                                    \n",
       "                     0                                                    "
      ]
     },
     "execution_count": 31,
     "metadata": {},
     "output_type": "execute_result"
    }
   ],
   "source": [
    "h9 = Lambda([n], binomial(2*n, n)* harmonic(n))\n",
    "h9_4 = integrate(1/(1 - t) * (1/(1 - sqrt(4*x))), (t,0,1))\n",
    "h9_5 = integrate(1/(1 - t) * (- 1/(1 - sqrt(4*x*t))), (t,0,1))\n",
    "h9_4 + h9_5"
   ]
  },
  {
   "cell_type": "markdown",
   "metadata": {},
   "source": [
    "Simpy non riesce a calcolare l'integrale $ \\int_0^1\\,\\frac{1}{1-t}\\left(\\frac{1}{\\sqrt{1-4x}} - \\frac{1}{\\sqrt{1 -4xt}}\\right)\\,dt $ nello stesso modo di Mathematica pur agevolando i calcoli.\n",
    "### Teorema 1\n",
    "Sia $H_n$ l'n-esimo numero armonico. Allora\n",
    "\\begin{equation} \n",
    "\\sum_{n=1}^\\infty\\,\\binom{2n}{n}H_n\\,x^n = \\frac{2}{\\sqrt{1-4x}}\\,\\ln\\left(\\frac{1+\\sqrt{1 -4x}}{2\\sqrt{1-4x}}\\right). \n",
    "\\end{equation}"
   ]
  },
  {
   "cell_type": "code",
   "execution_count": 32,
   "metadata": {},
   "outputs": [
    {
     "data": {
      "image/png": "[encoded data removed]",
      "text/latex": [
       "$$\\sum_{n=1}^{10} x^{n} {\\binom{2 n}{n}} \\operatorname{harmonic}{\\left (n \\right )} = \\frac{340921009 x^{10}}{630} + \\frac{17330599 x^{9}}{126} + \\frac{979407 x^{8}}{28} + \\frac{311454 x^{7}}{35} + \\frac{11319 x^{6}}{5} + \\frac{2877 x^{5}}{5} + \\frac{875 x^{4}}{6} + \\frac{110 x^{3}}{3} + 9 x^{2} + 2 x$$"
      ],
      "text/plain": [
       "  10                                                                          \n",
       " ____                                                                         \n",
       " ╲                                                                            \n",
       "  ╲    n ⎛2⋅n⎞                          10             9           8          \n",
       "   ╲  x ⋅⎜   ⎟⋅harmonic(n)   340921009⋅x     17330599⋅x    979407⋅x    311454⋅\n",
       "   ╱     ⎝ n ⎠             = ───────────── + ─────────── + ───────── + ───────\n",
       "  ╱                               630            126           28          35 \n",
       " ╱                                                                            \n",
       " ‾‾‾‾                                                                         \n",
       "n = 1                                                                         \n",
       "\n",
       "                                                      \n",
       "                                                      \n",
       "                                                      \n",
       " 7          6         5        4        3             \n",
       "x    11319⋅x    2877⋅x    875⋅x    110⋅x       2      \n",
       "── + ──────── + ─────── + ────── + ────── + 9⋅x  + 2⋅x\n",
       "        5          5        6        3                \n",
       "                                                      \n",
       "                                                      \n",
       "                                                      "
      ]
     },
     "execution_count": 32,
     "metadata": {},
     "output_type": "execute_result"
    }
   ],
   "source": [
    "h9 = Sum(binomial(2*n, n)* harmonic(n)*x**n,(n,1,k))\n",
    "h9_expr = Lambda([n], 2/sqrt(1 - 4*x) * ln((1 + sqrt(1 - 4*x))/ (2*sqrt(1 - 4*x))))\n",
    "expanded = h9.subs({k:EXP_VALUE})\n",
    "Eq(expanded, expanded.doit())"
   ]
  },
  {
   "cell_type": "code",
   "execution_count": 33,
   "metadata": {},
   "outputs": [
    {
     "data": {
      "image/png": "[encoded data removed]",
      "text/latex": [
       "$$2 x + 9 x^{2} + \\frac{110 x^{3}}{3} + \\frac{875 x^{4}}{6} + \\frac{2877 x^{5}}{5} + \\frac{11319 x^{6}}{5} + \\frac{311454 x^{7}}{35} + \\frac{979407 x^{8}}{28} + \\frac{17330599 x^{9}}{126} + \\frac{340921009 x^{10}}{630} + \\mathcal{O}\\left(x^{11}\\right)$$"
      ],
      "text/plain": [
       "                  3        4         5          6           7           8     \n",
       "         2   110⋅x    875⋅x    2877⋅x    11319⋅x    311454⋅x    979407⋅x    17\n",
       "2⋅x + 9⋅x  + ────── + ────── + ─────── + ──────── + ───────── + ───────── + ──\n",
       "               3        6         5         5           35          28        \n",
       "\n",
       "        9              10         \n",
       "330599⋅x    340921009⋅x      ⎛ 11⎞\n",
       "───────── + ───────────── + O⎝x  ⎠\n",
       "  126            630              "
      ]
     },
     "execution_count": 33,
     "metadata": {},
     "output_type": "execute_result"
    }
   ],
   "source": [
    "series(h9_expr(x), x, n=(EXP_VALUE + 1))"
   ]
  },
  {
   "cell_type": "markdown",
   "metadata": {},
   "source": [
    "Come immediata conseguenza del teorema 1, integrando entrambe le parti rispetto a x si ottiene il corrollario 2:\n",
    "### Corollario 2\n",
    "Sia $C_n$ l'n-esimo numero di Catalan. Allora\n",
    "\\begin{equation}  \n",
    "\\sum_{n=1}^\\infty\\,C_nH_n\\,x^{n+1} =  \\ln 2 + \\sqrt{1-4x}\\ln(2\\sqrt{1-4x}) - (1 + \\sqrt{1 -4x})\\ln(1+\\sqrt{1 -4x})). \n",
    "\\end{equation}\n"
   ]
  },
  {
   "cell_type": "code",
   "execution_count": 34,
   "metadata": {},
   "outputs": [
    {
     "data": {
      "image/png": "[encoded data removed]",
      "text/latex": [
       "$$\\sum_{n=1}^{9} x^{n + 1} C_{n} \\operatorname{harmonic}{\\left (n \\right )} = \\frac{17330599 x^{10}}{1260} + \\frac{108823 x^{9}}{28} + \\frac{155727 x^{8}}{140} + \\frac{1617 x^{7}}{5} + \\frac{959 x^{6}}{10} + \\frac{175 x^{5}}{6} + \\frac{55 x^{4}}{6} + 3 x^{3} + x^{2}$$"
      ],
      "text/plain": [
       "  9                                                                           \n",
       " ____                                                                         \n",
       " ╲                                                                            \n",
       "  ╲    n + 1                            10           9           8         7  \n",
       "   ╲  x     ⋅C ⋅harmonic(n)   17330599⋅x     108823⋅x    155727⋅x    1617⋅x   \n",
       "   ╱          n             = ──────────── + ───────── + ───────── + ─────── +\n",
       "  ╱                               1260           28         140         5     \n",
       " ╱                                                                            \n",
       " ‾‾‾‾                                                                         \n",
       "n = 1                                                                         \n",
       "\n",
       "                                    \n",
       "                                    \n",
       "                                    \n",
       "      6        5       4            \n",
       " 959⋅x    175⋅x    55⋅x       3    2\n",
       " ────── + ────── + ───── + 3⋅x  + x \n",
       "   10       6        6              \n",
       "                                    \n",
       "                                    \n",
       "                                    "
      ]
     },
     "execution_count": 34,
     "metadata": {},
     "output_type": "execute_result"
    }
   ],
   "source": [
    "h10 = Sum(catalan(n) * harmonic(n)*x**(n+1),(n,1,k))\n",
    "h10_expr = Lambda([n], ln(2) + sqrt(1-4*x)*ln(2*sqrt(1-4*x))-(1 + sqrt(1 -4*x))*ln(1+sqrt(1 -4*x)))\n",
    "expanded = h10.subs({k:9})\n",
    "Eq(expanded, expanded.doit())"
   ]
  },
  {
   "cell_type": "code",
   "execution_count": 35,
   "metadata": {},
   "outputs": [
    {
     "data": {
      "image/png": "[encoded data removed]",
      "text/latex": [
       "$$x^{2} + 3 x^{3} + \\frac{55 x^{4}}{6} + \\frac{175 x^{5}}{6} + \\frac{959 x^{6}}{10} + \\frac{1617 x^{7}}{5} + \\frac{155727 x^{8}}{140} + \\frac{108823 x^{9}}{28} + \\frac{17330599 x^{10}}{1260} + \\mathcal{O}\\left(x^{11}\\right)$$"
      ],
      "text/plain": [
       "                4        5        6         7           8           9         \n",
       " 2      3   55⋅x    175⋅x    959⋅x    1617⋅x    155727⋅x    108823⋅x    173305\n",
       "x  + 3⋅x  + ───── + ────── + ────── + ─────── + ───────── + ───────── + ──────\n",
       "              6       6        10        5         140          28          12\n",
       "\n",
       "    10         \n",
       "99⋅x      ⎛ 11⎞\n",
       "────── + O⎝x  ⎠\n",
       "60             "
      ]
     },
     "execution_count": 35,
     "metadata": {},
     "output_type": "execute_result"
    }
   ],
   "source": [
    "series(h10_expr(x), x, n=(EXP_VALUE + 1))"
   ]
  },
  {
   "cell_type": "markdown",
   "metadata": {},
   "source": [
    "\\begin{equation}\n",
    "\\frac{1}{(1-x)^{m+1}}\\,\\ln\\frac{1}{1-x} = \\sum_{n=0}^\\infty\\,\\binom{m+n}{n}(H_{m+n} - H_m)x^n.\n",
    "\\end{equation}  \n",
    "\n",
    "Il risultato viene testato con $m=3$ come esempio"
   ]
  },
  {
   "cell_type": "code",
   "execution_count": 38,
   "metadata": {},
   "outputs": [
    {
     "data": {
      "image/png": "[encoded data removed]",
      "text/latex": [
       "$$\\sum_{n=0}^{10} x^{n} \\left(\\operatorname{harmonic}{\\left (n + 3 \\right )} - \\frac{11}{6}\\right) {\\binom{n + 3}{n}} = \\frac{485333 x^{10}}{1260} + \\frac{35201 x^{9}}{126} + \\frac{32891 x^{8}}{168} + \\frac{2761 x^{7}}{21} + \\frac{2509 x^{6}}{30} + \\frac{743 x^{5}}{15} + \\frac{319 x^{4}}{12} + \\frac{37 x^{3}}{3} + \\frac{9 x^{2}}{2} + x$$"
      ],
      "text/plain": [
       "  10                                                                          \n",
       " ____                                                                         \n",
       " ╲                                                                            \n",
       "  ╲    n                          ⎛n + 3⎞           10          9          8  \n",
       "   ╲  x ⋅(harmonic(n + 3) - 11/6)⋅⎜     ⎟   485333⋅x     35201⋅x    32891⋅x   \n",
       "   ╱                              ⎝  n  ⎠ = ────────── + ──────── + ──────── +\n",
       "  ╱                                            1260        126        168     \n",
       " ╱                                                                            \n",
       " ‾‾‾‾                                                                         \n",
       "n = 0                                                                         \n",
       "\n",
       "                                                       \n",
       "                                                       \n",
       "                                                       \n",
       "       7         6        5        4       3      2    \n",
       " 2761⋅x    2509⋅x    743⋅x    319⋅x    37⋅x    9⋅x     \n",
       " ─────── + ─────── + ────── + ────── + ───── + ──── + x\n",
       "    21        30       15       12       3      2      \n",
       "                                                       \n",
       "                                                       \n",
       "                                                       "
      ]
     },
     "execution_count": 38,
     "metadata": {},
     "output_type": "execute_result"
    }
   ],
   "source": [
    "h11_expr = Lambda([m], 1/(1 - x)**(m + 1)*ln(1/(1 - x)))\n",
    "h11 = Sum(binomial(m+n, n)* (harmonic(m + n) - harmonic(m))*x**n,(n,0,k))\n",
    "expanded = h11.subs({m:3,k:EXP_VALUE})\n",
    "Eq(expanded, expanded.doit())"
   ]
  },
  {
   "cell_type": "code",
   "execution_count": 39,
   "metadata": {},
   "outputs": [
    {
     "data": {
      "image/png": "[encoded data removed]",
      "text/latex": [
       "$$x + \\frac{9 x^{2}}{2} + \\frac{37 x^{3}}{3} + \\frac{319 x^{4}}{12} + \\frac{743 x^{5}}{15} + \\frac{2509 x^{6}}{30} + \\frac{2761 x^{7}}{21} + \\frac{32891 x^{8}}{168} + \\frac{35201 x^{9}}{126} + \\frac{485333 x^{10}}{1260} + \\mathcal{O}\\left(x^{11}\\right)$$"
      ],
      "text/plain": [
       "       2       3        4        5         6         7          8          9  \n",
       "    9⋅x    37⋅x    319⋅x    743⋅x    2509⋅x    2761⋅x    32891⋅x    35201⋅x   \n",
       "x + ──── + ───── + ────── + ────── + ─────── + ─────── + ──────── + ──────── +\n",
       "     2       3       12       15        30        21       168        126     \n",
       "\n",
       "         10         \n",
       " 485333⋅x      ⎛ 11⎞\n",
       " ────────── + O⎝x  ⎠\n",
       "    1260            "
      ]
     },
     "execution_count": 39,
     "metadata": {},
     "output_type": "execute_result"
    }
   ],
   "source": [
    "series(h11_expr(3), x , n=(EXP_VALUE + 1))"
   ]
  },
  {
   "cell_type": "markdown",
   "metadata": {},
   "source": [
    "Sia $m = n$. Allora\n",
    "\\begin{equation}\n",
    "\\binom{2n}{n}(H_{2n} - H_n) = \\sum_{k=1}^n\\,\\frac{1}{k}\\binom{2n-k}{n}.\n",
    "\\end{equation}"
   ]
  },
  {
   "cell_type": "code",
   "execution_count": 40,
   "metadata": {},
   "outputs": [
    {
     "data": {
      "image/png": "[encoded data removed]",
      "text/latex": [
       "$$\\left [ 1, \\quad \\frac{7}{2}, \\quad \\frac{37}{3}, \\quad \\frac{533}{12}, \\quad \\frac{1627}{10}, \\quad \\frac{18107}{30}, \\quad \\frac{237371}{105}, \\quad \\frac{477745}{56}, \\quad \\frac{8161705}{252}\\right ]$$"
      ],
      "text/plain": [
       "⎡              533  1627  18107  237371  477745  8161705⎤\n",
       "⎢1, 7/2, 37/3, ───, ────, ─────, ──────, ──────, ───────⎥\n",
       "⎣               12   10     30    105      56      252  ⎦"
      ]
     },
     "execution_count": 40,
     "metadata": {},
     "output_type": "execute_result"
    }
   ],
   "source": [
    "h12 = Lambda([n], binomial(2*n, n)* (harmonic(2*n) - harmonic(n)))\n",
    "h12_2 = Lambda([n], Sum(1/(k)*binomial(2*n - k, n), (k, 1, n)))\n",
    "[(h12(i).doit()) for i in range(1, 10)]         "
   ]
  },
  {
   "cell_type": "code",
   "execution_count": 41,
   "metadata": {},
   "outputs": [
    {
     "data": {
      "image/png": "[encoded data removed]",
      "text/latex": [
       "$$\\left [ 1, \\quad \\frac{7}{2}, \\quad \\frac{37}{3}, \\quad \\frac{533}{12}, \\quad \\frac{1627}{10}, \\quad \\frac{18107}{30}, \\quad \\frac{237371}{105}, \\quad \\frac{477745}{56}, \\quad \\frac{8161705}{252}\\right ]$$"
      ],
      "text/plain": [
       "⎡              533  1627  18107  237371  477745  8161705⎤\n",
       "⎢1, 7/2, 37/3, ───, ────, ─────, ──────, ──────, ───────⎥\n",
       "⎣               12   10     30    105      56      252  ⎦"
      ]
     },
     "execution_count": 41,
     "metadata": {},
     "output_type": "execute_result"
    }
   ],
   "source": [
    "[(h12_2(i).doit()) for i in range(1, 10)] "
   ]
  },
  {
   "cell_type": "markdown",
   "metadata": {},
   "source": [
    "### Teorema 3\n",
    "Sia $H_n$ l'n-esimo numero armonico. Allora\n",
    "\\begin{equation}\n",
    "\\sum_{n=1}^\\infty\\,\\binom{2n}{n}(H_{2n} - H_n)\\,x^n = - \\frac{1}{\\sqrt{1-4x}}\\,\\ln\\left(\\frac{1+\\sqrt{1 -4x}}{2}\\right) = \\frac{1}{\\sqrt{1 -4x}}\\ln C(x), \\\n",
    "\\end{equation}\n",
    "\n",
    "dove $C(x)$ è la funzione generatrice dei numeri di Catalan."
   ]
  },
  {
   "cell_type": "code",
   "execution_count": 42,
   "metadata": {},
   "outputs": [
    {
     "data": {
      "image/png": "[encoded data removed]",
      "text/latex": [
       "$$\\sum_{n=1}^{10} x^{n} \\left(- \\operatorname{harmonic}{\\left (n \\right )} + \\operatorname{harmonic}{\\left (2 n \\right )}\\right) {\\binom{2 n}{n}} = \\frac{155685007 x^{10}}{1260} + \\frac{8161705 x^{9}}{252} + \\frac{477745 x^{8}}{56} + \\frac{237371 x^{7}}{105} + \\frac{18107 x^{6}}{30} + \\frac{1627 x^{5}}{10} + \\frac{533 x^{4}}{12} + \\frac{37 x^{3}}{3} + \\frac{7 x^{2}}{2} + x$$"
      ],
      "text/plain": [
       "  10                                                                          \n",
       " ____                                                                         \n",
       " ╲                                                                            \n",
       "  ╲    n                                ⎛2⋅n⎞              10            9    \n",
       "   ╲  x ⋅(-harmonic(n) + harmonic(2⋅n))⋅⎜   ⎟   155685007⋅x     8161705⋅x    4\n",
       "   ╱                                    ⎝ n ⎠ = ───────────── + ────────── + ─\n",
       "  ╱                                                  1260          252        \n",
       " ╱                                                                            \n",
       " ‾‾‾‾                                                                         \n",
       "n = 1                                                                         \n",
       "\n",
       "                                                                     \n",
       "                                                                     \n",
       "                                                                     \n",
       "       8           7          6         5        4       3      2    \n",
       "77745⋅x    237371⋅x    18107⋅x    1627⋅x    533⋅x    37⋅x    7⋅x     \n",
       "──────── + ───────── + ──────── + ─────── + ────── + ───── + ──── + x\n",
       "   56         105         30         10       12       3      2      \n",
       "                                                                     \n",
       "                                                                     \n",
       "                                                                     "
      ]
     },
     "execution_count": 42,
     "metadata": {},
     "output_type": "execute_result"
    }
   ],
   "source": [
    "h13 = Sum(binomial(2*n, n)* (harmonic(2*n) - harmonic(n))*x**n, (n,1,k))\n",
    "h13_1 = Lambda([n], -1/sqrt(1-4*x)*ln((1+sqrt(1-4*x))/2))\n",
    "h13_2 = Lambda([x], 1/sqrt(1-4*x)*ln(CN(x)))\n",
    "expanded = h13.subs({k:EXP_VALUE})\n",
    "Eq(expanded, expanded.doit())"
   ]
  },
  {
   "cell_type": "code",
   "execution_count": 43,
   "metadata": {},
   "outputs": [
    {
     "data": {
      "image/png": "[encoded data removed]",
      "text/latex": [
       "$$x + \\frac{7 x^{2}}{2} + \\frac{37 x^{3}}{3} + \\frac{533 x^{4}}{12} + \\frac{1627 x^{5}}{10} + \\frac{18107 x^{6}}{30} + \\frac{237371 x^{7}}{105} + \\frac{477745 x^{8}}{56} + \\frac{8161705 x^{9}}{252} + \\frac{155685007 x^{10}}{1260} + \\mathcal{O}\\left(x^{11}\\right)$$"
      ],
      "text/plain": [
       "       2       3        4         5          6           7           8        \n",
       "    7⋅x    37⋅x    533⋅x    1627⋅x    18107⋅x    237371⋅x    477745⋅x    81617\n",
       "x + ──── + ───── + ────── + ─────── + ──────── + ───────── + ───────── + ─────\n",
       "     2       3       12        10        30         105          56         25\n",
       "\n",
       "    9              10         \n",
       "05⋅x    155685007⋅x      ⎛ 11⎞\n",
       "───── + ───────────── + O⎝x  ⎠\n",
       "2            1260             "
      ]
     },
     "execution_count": 43,
     "metadata": {},
     "output_type": "execute_result"
    }
   ],
   "source": [
    "series(h13_1(x), x, n =(EXP_VALUE + 1))"
   ]
  },
  {
   "cell_type": "markdown",
   "metadata": {},
   "source": [
    "Dato che\n",
    "\n",
    "$$\\sum_{m=0}^\\infty\\,\\binom{2m + k}{m}t^m = \\frac{1}{\\sqrt{1- 4t}}\\,\\left(\\frac{1 - \\sqrt{1-4t}}{2t}\\right)^k = \\frac{C^k(t)}{\\sqrt{1 - 4t}}$$"
   ]
  },
  {
   "cell_type": "code",
   "execution_count": 44,
   "metadata": {},
   "outputs": [
    {
     "data": {
      "image/png": "[encoded data removed]",
      "text/latex": [
       "$$\\sum_{m=0}^{7} t^{m} {\\binom{2 m + 3}{m}} = 19448 t^{7} + 5005 t^{6} + 1287 t^{5} + 330 t^{4} + 84 t^{3} + 21 t^{2} + 5 t + 1$$"
      ],
      "text/plain": [
       "  7                                                                           \n",
       " ____                                                                         \n",
       " ╲                                                                            \n",
       "  ╲    m ⎛2⋅m + 3⎞                                                            \n",
       "   ╲  t ⋅⎜       ⎟          7         6         5        4       3       2    \n",
       "   ╱     ⎝   m   ⎠ = 19448⋅t  + 5005⋅t  + 1287⋅t  + 330⋅t  + 84⋅t  + 21⋅t  + 5\n",
       "  ╱                                                                           \n",
       " ╱                                                                            \n",
       " ‾‾‾‾                                                                         \n",
       "m = 0                                                                         \n",
       "\n",
       "      \n",
       "      \n",
       "      \n",
       "      \n",
       "      \n",
       "⋅t + 1\n",
       "      \n",
       "      \n",
       "      \n",
       "      "
      ]
     },
     "execution_count": 44,
     "metadata": {},
     "output_type": "execute_result"
    }
   ],
   "source": [
    "t = symbols('t', integer = True)\n",
    "h13_p0 = Sum(binomial(2*m + k, m)* t**m, (m, 0, N))\n",
    "h13_p0E = Lambda([t], 1/sqrt(1-4*t)*((1 - sqrt(1-4*t))/(2*t))**k)\n",
    "expanded = h13_p0.subs({N:7,k:3})\n",
    "Eq(expanded, expanded.doit())"
   ]
  },
  {
   "cell_type": "code",
   "execution_count": 45,
   "metadata": {},
   "outputs": [
    {
     "data": {
      "image/png": "[encoded data removed]",
      "text/latex": [
       "$$1 + 5 t + 21 t^{2} + 84 t^{3} + 330 t^{4} + 1287 t^{5} + 5005 t^{6} + 19448 t^{7} + \\mathcal{O}\\left(t^{8}\\right)$$"
      ],
      "text/plain": [
       "              2       3        4         5         6          7    ⎛ 8⎞\n",
       "1 + 5⋅t + 21⋅t  + 84⋅t  + 330⋅t  + 1287⋅t  + 5005⋅t  + 19448⋅t  + O⎝t ⎠"
      ]
     },
     "execution_count": 45,
     "metadata": {},
     "output_type": "execute_result"
    }
   ],
   "source": [
    "expanded = series(h13_p0E(t), t, n = 8)\n",
    "expanded.subs({k:3})"
   ]
  },
  {
   "cell_type": "markdown",
   "metadata": {},
   "source": [
    "e inoltre che $-\\ln(1- t) = \\sum_{k=1}^\\infty\\,\\frac{1}{k}t^k$, si trova:\n",
    "\\begin{eqnarray*}\n",
    "\\sum_{n=1}^\\infty\\,\\binom{2n}{n}(H_{2n} - H_n)\\,x^n & = &\\frac{1}{\\sqrt{1- 4x}}\\,\\sum_{k=1}^\\infty\\,\\frac{1}{k}\\,\\left(\\frac{1 - \\sqrt{1-4x}}{2}\\right)^k\\\\\n",
    "& = & - \\frac{1}{\\sqrt{1-4x}}\\,\\ln\\left(\\frac{1+\\sqrt{1 -4x}}{2}\\right)\\\\\n",
    "& = & \\frac{1}{\\sqrt{1-4x}}\\,\\ln C(x).\n",
    "\\end{eqnarray*}"
   ]
  },
  {
   "cell_type": "markdown",
   "metadata": {},
   "source": [
    "Integrando entrambe le parti rispetto a x si ottiene una sequenza per $C_n(H_{2n} - H_n)$.\n",
    "### Corollario 4\n",
    "Sia $C_n$ l'$n$-esimo numero di Catalan. Allora:\n",
    "\\begin{equation} \n",
    " \\sum_{n=1}^\\infty\\,C_n(H_{2n} - H_n)\\,x^n =  \\frac{1}{2x}\\left[(1-\\sqrt{1-4x}) + (1 + \\sqrt{1 -4x})\\ln\\left(\\frac{1+\\sqrt{1 -4x}}{2}\\right)\\right]. \\end{equation}"
   ]
  },
  {
   "cell_type": "code",
   "execution_count": 46,
   "metadata": {},
   "outputs": [
    {
     "data": {
      "image/png": "[encoded data removed]",
      "text/latex": [
       "$$\\sum_{n=1}^{10} x^{n} \\left(- \\operatorname{harmonic}{\\left (n \\right )} + \\operatorname{harmonic}{\\left (2 n \\right )}\\right) C_{n} = \\frac{155685007 x^{10}}{13860} + \\frac{1632341 x^{9}}{504} + \\frac{477745 x^{8}}{504} + \\frac{237371 x^{7}}{840} + \\frac{18107 x^{6}}{210} + \\frac{1627 x^{5}}{60} + \\frac{533 x^{4}}{60} + \\frac{37 x^{3}}{12} + \\frac{7 x^{2}}{6} + \\frac{x}{2}$$"
      ],
      "text/plain": [
       "  10                                                                          \n",
       " ____                                                                         \n",
       " ╲                                                                            \n",
       "  ╲    n                                                10            9       \n",
       "   ╲  x ⋅(-harmonic(n) + harmonic(2⋅n))⋅C    155685007⋅x     1632341⋅x    4777\n",
       "   ╱                                     n = ───────────── + ────────── + ────\n",
       "  ╱                                              13860          504          5\n",
       " ╱                                                                            \n",
       " ‾‾‾‾                                                                         \n",
       "n = 1                                                                         \n",
       "\n",
       "                                                                  \n",
       "                                                                  \n",
       "                                                                  \n",
       "    8           7          6         5        4       3      2    \n",
       "45⋅x    237371⋅x    18107⋅x    1627⋅x    533⋅x    37⋅x    7⋅x    x\n",
       "───── + ───────── + ──────── + ─────── + ────── + ───── + ──── + ─\n",
       "04         840        210         60       60       12     6     2\n",
       "                                                                  \n",
       "                                                                  \n",
       "                                                                  "
      ]
     },
     "execution_count": 46,
     "metadata": {},
     "output_type": "execute_result"
    }
   ],
   "source": [
    "h14 = Sum(catalan(n)*(harmonic(2*n) - harmonic(n))*x**n, (n,1,k))\n",
    "h14_expr = Lambda([x], 1/(2*x) *((1-sqrt(1-4*x)) + (1 + sqrt(1 - 4*x)) * ln((1+sqrt(1-4*x))/2)))\n",
    "expanded = h14.subs({k:EXP_VALUE})\n",
    "Eq(expanded, expanded.doit())"
   ]
  },
  {
   "cell_type": "code",
   "execution_count": 47,
   "metadata": {},
   "outputs": [
    {
     "data": {
      "image/png": "[encoded data removed]",
      "text/latex": [
       "$$\\frac{x}{2} + \\frac{7 x^{2}}{6} + \\frac{37 x^{3}}{12} + \\frac{533 x^{4}}{60} + \\frac{1627 x^{5}}{60} + \\frac{18107 x^{6}}{210} + \\frac{237371 x^{7}}{840} + \\frac{477745 x^{8}}{504} + \\frac{1632341 x^{9}}{504} + \\frac{155685007 x^{10}}{13860} + \\mathcal{O}\\left(x^{11}\\right)$$"
      ],
      "text/plain": [
       "       2       3        4         5          6           7           8        \n",
       "x   7⋅x    37⋅x    533⋅x    1627⋅x    18107⋅x    237371⋅x    477745⋅x    16323\n",
       "─ + ──── + ───── + ────── + ─────── + ──────── + ───────── + ───────── + ─────\n",
       "2    6       12      60        60       210         840         504         50\n",
       "\n",
       "    9              10         \n",
       "41⋅x    155685007⋅x      ⎛ 11⎞\n",
       "───── + ───────────── + O⎝x  ⎠\n",
       "4           13860             "
      ]
     },
     "execution_count": 47,
     "metadata": {},
     "output_type": "execute_result"
    }
   ],
   "source": [
    "series(h14_expr(x).doit(), x, n =(EXP_VALUE + 1))"
   ]
  },
  {
   "cell_type": "markdown",
   "metadata": {},
   "source": [
    "Dividento entrambe le parti per $x$ e integrando da $0$ a $x$, si trova che\n",
    "$$\\sum_{n=1}^\\infty\\,\\binom{2n}{n}\\,\\frac{x^n}{n} = -2 \\ln\\left(\\frac{1+\\sqrt{1- 4x}}{2}\\right) = 2\\ln C(x).$$"
   ]
  },
  {
   "cell_type": "code",
   "execution_count": 48,
   "metadata": {},
   "outputs": [
    {
     "data": {
      "image/png": "[encoded data removed]",
      "text/latex": [
       "$$\\sum_{n=1}^{10} \\frac{x^{n}}{n} {\\binom{2 n}{n}} = \\frac{92378 x^{10}}{5} + \\frac{48620 x^{9}}{9} + \\frac{6435 x^{8}}{4} + \\frac{3432 x^{7}}{7} + 154 x^{6} + \\frac{252 x^{5}}{5} + \\frac{35 x^{4}}{2} + \\frac{20 x^{3}}{3} + 3 x^{2} + 2 x$$"
      ],
      "text/plain": [
       "  10                                                                          \n",
       "_____                                                                         \n",
       "╲                                                                             \n",
       " ╲     n ⎛2⋅n⎞                                                                \n",
       "  ╲   x ⋅⎜   ⎟          10          9         8         7                 5   \n",
       "   ╲     ⎝ n ⎠   92378⋅x     48620⋅x    6435⋅x    3432⋅x         6   252⋅x    \n",
       "   ╱  ──────── = ───────── + ──────── + ─────── + ─────── + 154⋅x  + ────── + \n",
       "  ╱      n           5          9          4         7                 5      \n",
       " ╱                                                                            \n",
       "╱                                                                             \n",
       "‾‾‾‾‾                                                                         \n",
       "n = 1                                                                         \n",
       "\n",
       "                          \n",
       "                          \n",
       "                          \n",
       "                          \n",
       "    4       3             \n",
       "35⋅x    20⋅x       2      \n",
       "───── + ───── + 3⋅x  + 2⋅x\n",
       "  2       3               \n",
       "                          \n",
       "                          \n",
       "                          \n",
       "                          "
      ]
     },
     "execution_count": 48,
     "metadata": {},
     "output_type": "execute_result"
    }
   ],
   "source": [
    "h15 = Sum(binomial(2*n, n)*x**n/n, (n,1,k))\n",
    "h15_expr = Lambda([x], -2* ln((1+sqrt(1-4*x))/2))\n",
    "expanded = h15.subs({k:EXP_VALUE})\n",
    "Eq(expanded, expanded.doit())"
   ]
  },
  {
   "cell_type": "code",
   "execution_count": 49,
   "metadata": {},
   "outputs": [
    {
     "data": {
      "image/png": "[encoded data removed]",
      "text/latex": [
       "$$2 x + 3 x^{2} + \\frac{20 x^{3}}{3} + \\frac{35 x^{4}}{2} + \\frac{252 x^{5}}{5} + 154 x^{6} + \\frac{3432 x^{7}}{7} + \\frac{6435 x^{8}}{4} + \\frac{48620 x^{9}}{9} + \\frac{92378 x^{10}}{5} + \\mathcal{O}\\left(x^{11}\\right)$$"
      ],
      "text/plain": [
       "                 3       4        5                  7         8          9   \n",
       "         2   20⋅x    35⋅x    252⋅x         6   3432⋅x    6435⋅x    48620⋅x    \n",
       "2⋅x + 3⋅x  + ───── + ───── + ────── + 154⋅x  + ─────── + ─────── + ──────── + \n",
       "               3       2       5                  7         4         9       \n",
       "\n",
       "       10         \n",
       "92378⋅x      ⎛ 11⎞\n",
       "───────── + O⎝x  ⎠\n",
       "    5             "
      ]
     },
     "execution_count": 49,
     "metadata": {},
     "output_type": "execute_result"
    }
   ],
   "source": [
    "series(h15_expr(x).doit(), x, n =(EXP_VALUE + 1))"
   ]
  },
  {
   "cell_type": "markdown",
   "metadata": {
    "collapsed": true
   },
   "source": [
    "Ripetendo il processo si ha\n",
    "\\begin{equation}\n",
    "\\sum_{n=1}^\\infty\\,\\binom{2n}{n}(H_{2n} - H_n)\\,\\frac{x^n}{n} = - \\int_0^x\\,\\frac{1}{t\\sqrt{1-4t}}\\,\\ln\\left(\\frac{1+\\sqrt{1 -4t}}{2}\\right)\\,dt.\n",
    "\\end{equation}"
   ]
  },
  {
   "cell_type": "code",
   "execution_count": 50,
   "metadata": {},
   "outputs": [
    {
     "data": {
      "image/png": "[encoded data removed]",
      "text/latex": [
       "$$\\sum_{n=1}^{10} \\frac{x^{n}}{n} \\left(- \\operatorname{harmonic}{\\left (n \\right )} + \\operatorname{harmonic}{\\left (2 n \\right )}\\right) {\\binom{2 n}{n}} = \\frac{155685007 x^{10}}{12600} + \\frac{8161705 x^{9}}{2268} + \\frac{477745 x^{8}}{448} + \\frac{237371 x^{7}}{735} + \\frac{18107 x^{6}}{180} + \\frac{1627 x^{5}}{50} + \\frac{533 x^{4}}{48} + \\frac{37 x^{3}}{9} + \\frac{7 x^{2}}{4} + x$$"
      ],
      "text/plain": [
       "  10                                                                          \n",
       "_____                                                                         \n",
       "╲                                                                             \n",
       " ╲     n                                ⎛2⋅n⎞                                 \n",
       "  ╲   x ⋅(-harmonic(n) + harmonic(2⋅n))⋅⎜   ⎟              10            9    \n",
       "   ╲                                    ⎝ n ⎠   155685007⋅x     8161705⋅x    4\n",
       "   ╱  ─────────────────────────────────────── = ───────────── + ────────── + ─\n",
       "  ╱                      n                          12600          2268       \n",
       " ╱                                                                            \n",
       "╱                                                                             \n",
       "‾‾‾‾‾                                                                         \n",
       "n = 1                                                                         \n",
       "\n",
       "                                                                     \n",
       "                                                                     \n",
       "                                                                     \n",
       "                                                                     \n",
       "       8           7          6         5        4       3      2    \n",
       "77745⋅x    237371⋅x    18107⋅x    1627⋅x    533⋅x    37⋅x    7⋅x     \n",
       "──────── + ───────── + ──────── + ─────── + ────── + ───── + ──── + x\n",
       "  448         735        180         50       48       9      4      \n",
       "                                                                     \n",
       "                                                                     \n",
       "                                                                     \n",
       "                                                                     "
      ]
     },
     "execution_count": 50,
     "metadata": {},
     "output_type": "execute_result"
    }
   ],
   "source": [
    "h16 = Sum(binomial(2*n, n)*(harmonic(2*n) - harmonic(n))*x**n/n, (n,1,k))\n",
    "h16_expr = Lambda([t], -Integral(1/(t*sqrt(1-4*t))*ln((1+ sqrt(1-4*t))/2),(t,0,x)))\n",
    "expanded = h16.subs({k:EXP_VALUE})\n",
    "Eq(expanded, expanded.doit())"
   ]
  },
  {
   "cell_type": "code",
   "execution_count": 51,
   "metadata": {},
   "outputs": [
    {
     "data": {
      "image/png": "[encoded data removed]",
      "text/latex": [
       "$$x + \\frac{7 x^{2}}{4} + \\frac{37 x^{3}}{9} + \\frac{533 x^{4}}{48} + \\frac{1627 x^{5}}{50} + \\frac{18107 x^{6}}{180} + \\frac{237371 x^{7}}{735} + \\frac{477745 x^{8}}{448} + \\frac{8161705 x^{9}}{2268} + \\frac{155685007 x^{10}}{12600} + \\mathcal{O}\\left(x^{11}\\right)$$"
      ],
      "text/plain": [
       "       2       3        4         5          6           7           8        \n",
       "    7⋅x    37⋅x    533⋅x    1627⋅x    18107⋅x    237371⋅x    477745⋅x    81617\n",
       "x + ──── + ───── + ────── + ─────── + ──────── + ───────── + ───────── + ─────\n",
       "     4       9       48        50       180         735         448         22\n",
       "\n",
       "    9              10         \n",
       "05⋅x    155685007⋅x      ⎛ 11⎞\n",
       "───── + ───────────── + O⎝x  ⎠\n",
       "68          12600             "
      ]
     },
     "execution_count": 51,
     "metadata": {},
     "output_type": "execute_result"
    }
   ],
   "source": [
    "series(h16_expr(x).doit(), x, n =(EXP_VALUE + 1))"
   ]
  },
  {
   "cell_type": "markdown",
   "metadata": {},
   "source": [
    "Dato che $H_{2n} = H_{2n-1} + \\frac{1}{2n}$, combinando i risultati si ottiene:\n",
    "\\begin{eqnarray*}\n",
    "\\sum_{n=1}^\\infty\\,\\binom{2n}{n}(H_{2n-1} - H_n)\\frac{x^{n}}{n} & = & \\sum_{n=1}^\\infty\\,\\binom{2n}{n}(H_{2n} - H_n)\\frac{x^{n}}{n} - \\frac{1}{2}\\sum_{n=1}^\\infty\\,\\binom{2n}{n}\\frac{x^{n}}{n^2}\\\\\n",
    "& = & \\int_0^x\\,\\left(\\frac{1}{t} - \\frac{1}{t\\sqrt{1-4t}}\\right)\\ln\\left(\\frac{1+\\sqrt{1 -4t}}{2}\\right)dt\\\\\n",
    "& = & \\int_0^x\\,\\,2\\ln\\left(\\frac{1+\\sqrt{1 -4t}}{2}\\right)\\,\\left(\\ln\\left(\\frac{1+\\sqrt{1 -4t}}{2}\\right)\\right)'dt\\\\\n",
    "& =& \\ln^2\\left(\\frac{1+\\sqrt{1 -4x}}{2}\\right),\n",
    "\\end{eqnarray*}"
   ]
  },
  {
   "cell_type": "code",
   "execution_count": 52,
   "metadata": {},
   "outputs": [
    {
     "data": {
      "image/png": "[encoded data removed]",
      "text/latex": [
       "$$\\sum_{n=1}^{10} \\frac{x^{n}}{n} \\left(- \\operatorname{harmonic}{\\left (n \\right )} + \\operatorname{harmonic}{\\left (2 n - 1 \\right )}\\right) {\\binom{2 n}{n}} = \\frac{144045379 x^{10}}{12600} + \\frac{277075 x^{9}}{84} + \\frac{108175 x^{8}}{112} + \\frac{4319 x^{7}}{15} + \\frac{15797 x^{6}}{180} + \\frac{55 x^{5}}{2} + \\frac{107 x^{4}}{12} + 3 x^{3} + x^{2}$$"
      ],
      "text/plain": [
       "  10                                                                          \n",
       "_____                                                                         \n",
       "╲                                                                             \n",
       " ╲     n                                    ⎛2⋅n⎞                             \n",
       "  ╲   x ⋅(-harmonic(n) + harmonic(2⋅n - 1))⋅⎜   ⎟              10           9 \n",
       "   ╲                                        ⎝ n ⎠   144045379⋅x     277075⋅x  \n",
       "   ╱  ─────────────────────────────────────────── = ───────────── + ───────── \n",
       "  ╱                        n                            12600           84    \n",
       " ╱                                                                            \n",
       "╱                                                                             \n",
       "‾‾‾‾‾                                                                         \n",
       "n = 1                                                                         \n",
       "\n",
       "                                                             \n",
       "                                                             \n",
       "                                                             \n",
       "                                                             \n",
       "          8         7          6       5        4            \n",
       "  108175⋅x    4319⋅x    15797⋅x    55⋅x    107⋅x       3    2\n",
       "+ ───────── + ─────── + ──────── + ───── + ────── + 3⋅x  + x \n",
       "     112         15       180        2       12              \n",
       "                                                             \n",
       "                                                             \n",
       "                                                             \n",
       "                                                             "
      ]
     },
     "execution_count": 52,
     "metadata": {},
     "output_type": "execute_result"
    }
   ],
   "source": [
    "h16 = Sum(binomial(2*n, n)*(harmonic(2*n-1) - harmonic(n))*x**n/n, (n,1,k))\n",
    "h16_expr = Lambda([x], ln((1+sqrt(1-4*x))/2)**2)\n",
    "expanded = h16.subs({k:EXP_VALUE})\n",
    "Eq(expanded, expanded.doit())"
   ]
  },
  {
   "cell_type": "code",
   "execution_count": 53,
   "metadata": {},
   "outputs": [
    {
     "data": {
      "image/png": "[encoded data removed]",
      "text/latex": [
       "$$x^{2} + 3 x^{3} + \\frac{107 x^{4}}{12} + \\frac{55 x^{5}}{2} + \\frac{15797 x^{6}}{180} + \\frac{4319 x^{7}}{15} + \\frac{108175 x^{8}}{112} + \\frac{277075 x^{9}}{84} + \\frac{144045379 x^{10}}{12600} + \\mathcal{O}\\left(x^{11}\\right)$$"
      ],
      "text/plain": [
       "                 4       5          6         7           8           9       \n",
       " 2      3   107⋅x    55⋅x    15797⋅x    4319⋅x    108175⋅x    277075⋅x    1440\n",
       "x  + 3⋅x  + ────── + ───── + ──────── + ─────── + ───────── + ───────── + ────\n",
       "              12       2       180         15        112          84          \n",
       "\n",
       "       10         \n",
       "45379⋅x      ⎛ 11⎞\n",
       "───────── + O⎝x  ⎠\n",
       "12600             "
      ]
     },
     "execution_count": 53,
     "metadata": {},
     "output_type": "execute_result"
    }
   ],
   "source": [
    "series(h16_expr(x).doit(), x, n =(EXP_VALUE + 1))"
   ]
  },
  {
   "cell_type": "markdown",
   "metadata": {},
   "source": [
    "### Teorema 5\n",
    "Sia $C(x)$ è la funzione generatrice dei numeri di Catalan, allora\n",
    "\\begin{equation}     \n",
    "\\sum_{n=1}^\\infty\\,\\binom{2n}{n}(H_{2n-1} - H_n)\\frac{x^{n}}{n} = \\ln^2C(x).\n",
    "\\end{equation}"
   ]
  },
  {
   "cell_type": "code",
   "execution_count": 54,
   "metadata": {},
   "outputs": [
    {
     "data": {
      "image/png": "[encoded data removed]",
      "text/latex": [
       "$$\\sum_{n=1}^{10} \\frac{x^{n}}{n} \\left(- \\operatorname{harmonic}{\\left (n \\right )} + \\operatorname{harmonic}{\\left (2 n - 1 \\right )}\\right) {\\binom{2 n}{n}} = \\frac{144045379 x^{10}}{12600} + \\frac{277075 x^{9}}{84} + \\frac{108175 x^{8}}{112} + \\frac{4319 x^{7}}{15} + \\frac{15797 x^{6}}{180} + \\frac{55 x^{5}}{2} + \\frac{107 x^{4}}{12} + 3 x^{3} + x^{2}$$"
      ],
      "text/plain": [
       "  10                                                                          \n",
       "_____                                                                         \n",
       "╲                                                                             \n",
       " ╲     n                                    ⎛2⋅n⎞                             \n",
       "  ╲   x ⋅(-harmonic(n) + harmonic(2⋅n - 1))⋅⎜   ⎟              10           9 \n",
       "   ╲                                        ⎝ n ⎠   144045379⋅x     277075⋅x  \n",
       "   ╱  ─────────────────────────────────────────── = ───────────── + ───────── \n",
       "  ╱                        n                            12600           84    \n",
       " ╱                                                                            \n",
       "╱                                                                             \n",
       "‾‾‾‾‾                                                                         \n",
       "n = 1                                                                         \n",
       "\n",
       "                                                             \n",
       "                                                             \n",
       "                                                             \n",
       "                                                             \n",
       "          8         7          6       5        4            \n",
       "  108175⋅x    4319⋅x    15797⋅x    55⋅x    107⋅x       3    2\n",
       "+ ───────── + ─────── + ──────── + ───── + ────── + 3⋅x  + x \n",
       "     112         15       180        2       12              \n",
       "                                                             \n",
       "                                                             \n",
       "                                                             \n",
       "                                                             "
      ]
     },
     "execution_count": 54,
     "metadata": {},
     "output_type": "execute_result"
    }
   ],
   "source": [
    "Cx = Lambda([x],(1 - sqrt(1 - 4 * x)) / (2*x))\n",
    "h17 = Sum( binomial(2*n, n)*(harmonic(2*n - 1) - harmonic(n))*x**n/n, (n,1,k))\n",
    "h17_expr = Lambda([x], ln(Cx(x))**2)\n",
    "expanded = h17.subs({k:EXP_VALUE})\n",
    "Eq(expanded, expanded.doit())"
   ]
  },
  {
   "cell_type": "code",
   "execution_count": 55,
   "metadata": {},
   "outputs": [
    {
     "data": {
      "image/png": "[encoded data removed]",
      "text/latex": [
       "$$x^{2} + 3 x^{3} + \\frac{107 x^{4}}{12} + \\frac{55 x^{5}}{2} + \\frac{15797 x^{6}}{180} + \\frac{4319 x^{7}}{15} + \\frac{108175 x^{8}}{112} + \\frac{277075 x^{9}}{84} + \\frac{144045379 x^{10}}{12600} + \\mathcal{O}\\left(x^{11}\\right)$$"
      ],
      "text/plain": [
       "                 4       5          6         7           8           9       \n",
       " 2      3   107⋅x    55⋅x    15797⋅x    4319⋅x    108175⋅x    277075⋅x    1440\n",
       "x  + 3⋅x  + ────── + ───── + ──────── + ─────── + ───────── + ───────── + ────\n",
       "              12       2       180         15        112          84          \n",
       "\n",
       "       10         \n",
       "45379⋅x      ⎛ 11⎞\n",
       "───────── + O⎝x  ⎠\n",
       "12600             "
      ]
     },
     "execution_count": 55,
     "metadata": {},
     "output_type": "execute_result"
    }
   ],
   "source": [
    "series(h17_expr(x).doit(), x, n =(EXP_VALUE + 1))"
   ]
  },
  {
   "cell_type": "markdown",
   "metadata": {},
   "source": [
    "### Teorema 6\n",
    "Sia $H_n$ l'enneesimo numero armonico, allora\n",
    "\\begin{equation}  \n",
    "\\sum_{n=1}^\\infty\\,\\binom{2n}{n}H_{2n}\\,x^n =  \\frac{1}{\\sqrt{1-4x}}\\left[\\ln\\left(\\frac{1+\\sqrt{1 -4x}}{2}\\right) -2\\ln\\sqrt{1-4x}\\right].\n",
    "\\end{equation}"
   ]
  },
  {
   "cell_type": "code",
   "execution_count": 56,
   "metadata": {},
   "outputs": [
    {
     "data": {
      "image/png": "[encoded data removed]",
      "text/latex": [
       "$$\\sum_{n=1}^{10} x^{n} {\\binom{2 n}{n}} \\operatorname{harmonic}{\\left (2 n \\right )} = \\frac{55835135 x^{10}}{84} + \\frac{14274301 x^{9}}{84} + \\frac{2436559 x^{8}}{56} + \\frac{1171733 x^{7}}{105} + \\frac{86021 x^{6}}{30} + \\frac{7381 x^{5}}{10} + \\frac{761 x^{4}}{4} + 49 x^{3} + \\frac{25 x^{2}}{2} + 3 x$$"
      ],
      "text/plain": [
       "  10                                                                          \n",
       " ____                                                                         \n",
       " ╲                                                                            \n",
       "  ╲    n ⎛2⋅n⎞                           10             9            8        \n",
       "   ╲  x ⋅⎜   ⎟⋅harmonic(2⋅n)   55835135⋅x     14274301⋅x    2436559⋅x    11717\n",
       "   ╱     ⎝ n ⎠               = ──────────── + ─────────── + ────────── + ─────\n",
       "  ╱                                 84             84           56          10\n",
       " ╱                                                                            \n",
       " ‾‾‾‾                                                                         \n",
       "n = 1                                                                         \n",
       "\n",
       "                                                         \n",
       "                                                         \n",
       "                                                         \n",
       "    7          6         5        4               2      \n",
       "33⋅x    86021⋅x    7381⋅x    761⋅x        3   25⋅x       \n",
       "───── + ──────── + ─────── + ────── + 49⋅x  + ───── + 3⋅x\n",
       "5          30         10       4                2        \n",
       "                                                         \n",
       "                                                         \n",
       "                                                         "
      ]
     },
     "execution_count": 56,
     "metadata": {},
     "output_type": "execute_result"
    }
   ],
   "source": [
    "h18 = Sum(binomial(2*n, n)*harmonic(2*n)*x**n,(n,1,k))\n",
    "expanded = h18.subs({k:EXP_VALUE})\n",
    "Eq(expanded, expanded.doit())"
   ]
  },
  {
   "cell_type": "code",
   "execution_count": 57,
   "metadata": {},
   "outputs": [
    {
     "data": {
      "image/png": "[encoded data removed]",
      "text/latex": [
       "$$3 x + \\frac{25 x^{2}}{2} + 49 x^{3} + \\frac{761 x^{4}}{4} + \\frac{7381 x^{5}}{10} + \\frac{86021 x^{6}}{30} + \\frac{1171733 x^{7}}{105} + \\frac{2436559 x^{8}}{56} + \\frac{14274301 x^{9}}{84} + \\frac{55835135 x^{10}}{84} + \\mathcal{O}\\left(x^{11}\\right)$$"
      ],
      "text/plain": [
       "          2                4         5          6            7            8   \n",
       "      25⋅x        3   761⋅x    7381⋅x    86021⋅x    1171733⋅x    2436559⋅x    \n",
       "3⋅x + ───── + 49⋅x  + ────── + ─────── + ──────── + ────────── + ────────── + \n",
       "        2               4         10        30         105           56       \n",
       "\n",
       "          9             10         \n",
       "14274301⋅x    55835135⋅x      ⎛ 11⎞\n",
       "─────────── + ──────────── + O⎝x  ⎠\n",
       "     84            84              "
      ]
     },
     "execution_count": 57,
     "metadata": {},
     "output_type": "execute_result"
    }
   ],
   "source": [
    "h18_expr = Lambda([n], 1/(sqrt(1-4*x))*(ln((1+sqrt(1-4*x))/2) - 2*ln(sqrt(1-4*x))))\n",
    "series(h18_expr(x).doit(), x, n =(EXP_VALUE + 1))"
   ]
  },
  {
   "cell_type": "markdown",
   "metadata": {},
   "source": [
    "### Corollario 7\n",
    "Sia $C_n$ l'ennesimo numero di Catalan, allora\n",
    "\\begin{equation}  \n",
    "\\sum_{n=1}^\\infty\\,C_nH_{2n}\\,x^n =  \\frac{1}{2x}\\left[(1-\\sqrt{1-4x}) - (1 + \\sqrt{1 -4x})\\ln(1+\\sqrt{1 -4x}) + \\ln 2 + \\sqrt{1-4x}\\ln(2-8x)\\right]. \n",
    "\\end{equation}"
   ]
  },
  {
   "cell_type": "code",
   "execution_count": 58,
   "metadata": {},
   "outputs": [
    {
     "data": {
      "image/png": "[encoded data removed]",
      "text/latex": [
       "$$\\sum_{n=1}^{10} x^{n} C_{n} \\operatorname{harmonic}{\\left (2 n \\right )} = \\frac{55835135 x^{10}}{924} + \\frac{14274301 x^{9}}{840} + \\frac{2436559 x^{8}}{504} + \\frac{1171733 x^{7}}{840} + \\frac{86021 x^{6}}{210} + \\frac{7381 x^{5}}{60} + \\frac{761 x^{4}}{20} + \\frac{49 x^{3}}{4} + \\frac{25 x^{2}}{6} + \\frac{3 x}{2}$$"
      ],
      "text/plain": [
       "  10                                                                          \n",
       " ____                                                                         \n",
       " ╲                                                                            \n",
       "  ╲    n                              10             9            8           \n",
       "   ╲  x ⋅C ⋅harmonic(2⋅n)   55835135⋅x     14274301⋅x    2436559⋅x    1171733⋅\n",
       "   ╱      n               = ──────────── + ─────────── + ────────── + ────────\n",
       "  ╱                             924            840          504          840  \n",
       " ╱                                                                            \n",
       " ‾‾‾‾                                                                         \n",
       "n = 1                                                                         \n",
       "\n",
       "                                                      \n",
       "                                                      \n",
       "                                                      \n",
       " 7          6         5        4       3       2      \n",
       "x    86021⋅x    7381⋅x    761⋅x    49⋅x    25⋅x    3⋅x\n",
       "── + ──────── + ─────── + ────── + ───── + ───── + ───\n",
       "       210         60       20       4       6      2 \n",
       "                                                      \n",
       "                                                      \n",
       "                                                      "
      ]
     },
     "execution_count": 58,
     "metadata": {},
     "output_type": "execute_result"
    }
   ],
   "source": [
    "h19 = Sum(catalan(n)*harmonic(2*n)*x**n,(n,1,k))\n",
    "expanded = h19.subs({k:EXP_VALUE})\n",
    "Eq(expanded, expanded.doit())"
   ]
  },
  {
   "cell_type": "code",
   "execution_count": 59,
   "metadata": {},
   "outputs": [
    {
     "data": {
      "image/png": "[encoded data removed]",
      "text/latex": [
       "$$\\frac{3 x}{2} + \\frac{25 x^{2}}{6} + \\frac{49 x^{3}}{4} + \\frac{761 x^{4}}{20} + \\frac{7381 x^{5}}{60} + \\frac{86021 x^{6}}{210} + \\frac{1171733 x^{7}}{840} + \\frac{2436559 x^{8}}{504} + \\frac{14274301 x^{9}}{840} + \\frac{55835135 x^{10}}{924} + \\mathcal{O}\\left(x^{11}\\right)$$"
      ],
      "text/plain": [
       "          2       3        4         5          6            7            8   \n",
       "3⋅x   25⋅x    49⋅x    761⋅x    7381⋅x    86021⋅x    1171733⋅x    2436559⋅x    \n",
       "─── + ───── + ───── + ────── + ─────── + ──────── + ────────── + ────────── + \n",
       " 2      6       4       20        60       210         840          504       \n",
       "\n",
       "          9             10         \n",
       "14274301⋅x    55835135⋅x      ⎛ 11⎞\n",
       "─────────── + ──────────── + O⎝x  ⎠\n",
       "    840           924              "
      ]
     },
     "execution_count": 59,
     "metadata": {},
     "output_type": "execute_result"
    }
   ],
   "source": [
    "h19_expr = Lambda([n], 1/(2*x)*((1-sqrt(1-4*x))-(1+sqrt(1-4*x))*ln(1+sqrt(1-4*x))+ln(2)+sqrt(1-4*x)*ln(2-8*x)))\n",
    "series(h19_expr(x).doit(), x, n =(EXP_VALUE + 1))"
   ]
  },
  {
   "cell_type": "markdown",
   "metadata": {},
   "source": [
    "### Teorema 8\n",
    "\\begin{equation}  \n",
    "\\sum_{n=1}^\\infty\\,\\binom{2n}{n}h_n\\,x^n =  -\\,\\frac{1}{\\sqrt{1-4x}}\\ln\\sqrt{1-4x}. \n",
    "\\end{equation}"
   ]
  },
  {
   "cell_type": "code",
   "execution_count": 60,
   "metadata": {},
   "outputs": [
    {
     "data": {
      "image/png": "[encoded data removed]",
      "text/latex": [
       "$$\\sum_{n=1}^{10} x^{n} {\\binom{2 n}{n}} \\sum_{k=1}^{n} \\frac{1}{2 k - 1} = \\frac{124151504 x^{10}}{315} + \\frac{6373076 x^{9}}{63} + \\frac{182144 x^{8}}{7} + \\frac{704552 x^{7}}{105} + \\frac{26032 x^{6}}{15} + \\frac{2252 x^{5}}{5} + \\frac{352 x^{4}}{3} + \\frac{92 x^{3}}{3} + 8 x^{2} + 2 x$$"
      ],
      "text/plain": [
       "   10                                                                         \n",
       "_______                                                                       \n",
       "╲                                                                             \n",
       " ╲                 n                                                          \n",
       "  ╲               ____                                                        \n",
       "   ╲              ╲                                                           \n",
       "    ╲              ╲      1                 10            9           8       \n",
       "     ╲   n ⎛2⋅n⎞    ╲  ───────   124151504⋅x     6373076⋅x    182144⋅x    7045\n",
       "     ╱  x ⋅⎜   ⎟⋅   ╱  2⋅k - 1 = ───────────── + ────────── + ───────── + ────\n",
       "    ╱      ⎝ n ⎠   ╱                  315            63           7          1\n",
       "   ╱              ╱                                                           \n",
       "  ╱               ‾‾‾‾                                                        \n",
       " ╱               k = 1                                                        \n",
       "╱                                                                             \n",
       "‾‾‾‾‾‾‾                                                                       \n",
       " n = 1                                                                        \n",
       "\n",
       "                                                        \n",
       "                                                        \n",
       "                                                        \n",
       "                                                        \n",
       "                                                        \n",
       "                                                        \n",
       "    7          6         5        4       3             \n",
       "52⋅x    26032⋅x    2252⋅x    352⋅x    92⋅x       2      \n",
       "───── + ──────── + ─────── + ────── + ───── + 8⋅x  + 2⋅x\n",
       "05         15         5        3        3               \n",
       "                                                        \n",
       "                                                        \n",
       "                                                        \n",
       "                                                        \n",
       "                                                        \n",
       "                                                        "
      ]
     },
     "execution_count": 60,
     "metadata": {},
     "output_type": "execute_result"
    }
   ],
   "source": [
    "h20 = Sum( binomial(2*n, n)*h_n(n)*x**n, (n,1,k))\n",
    "expanded = h20.subs({k:EXP_VALUE})\n",
    "Eq(expanded, expanded.doit())"
   ]
  },
  {
   "cell_type": "code",
   "execution_count": 61,
   "metadata": {},
   "outputs": [
    {
     "data": {
      "image/png": "[encoded data removed]",
      "text/latex": [
       "$$2 x + 8 x^{2} + \\frac{92 x^{3}}{3} + \\frac{352 x^{4}}{3} + \\frac{2252 x^{5}}{5} + \\frac{26032 x^{6}}{15} + \\frac{704552 x^{7}}{105} + \\frac{182144 x^{8}}{7} + \\frac{6373076 x^{9}}{63} + \\frac{124151504 x^{10}}{315} + \\mathcal{O}\\left(x^{11}\\right)$$"
      ],
      "text/plain": [
       "                 3        4         5          6           7           8      \n",
       "         2   92⋅x    352⋅x    2252⋅x    26032⋅x    704552⋅x    182144⋅x    637\n",
       "2⋅x + 8⋅x  + ───── + ────── + ─────── + ──────── + ───────── + ───────── + ───\n",
       "               3       3         5         15         105          7          \n",
       "\n",
       "      9              10         \n",
       "3076⋅x    124151504⋅x      ⎛ 11⎞\n",
       "─────── + ───────────── + O⎝x  ⎠\n",
       " 63            315              "
      ]
     },
     "execution_count": 61,
     "metadata": {},
     "output_type": "execute_result"
    }
   ],
   "source": [
    "h20_expr = Lambda([n], -1/(sqrt(1-4*x))*ln(sqrt(1-4*x)))\n",
    "series(h20_expr(x).doit(), x, n =(EXP_VALUE + 1))"
   ]
  },
  {
   "cell_type": "markdown",
   "metadata": {},
   "source": [
    "### Corollario 9\n",
    "Sia $C_n$ l'ennesimo numero di Catalan, allora\n",
    "\\begin{equation} \n",
    "\\sum_{n=1}^\\infty\\,C_nh_{n}\\,x^n =  \\frac{1}{2x}\\left(1-\\sqrt{1-4x} + \\sqrt{1-4x}\\ln\\sqrt{1-4x}\\right).\n",
    "\\end{equation}"
   ]
  },
  {
   "cell_type": "code",
   "execution_count": 62,
   "metadata": {},
   "outputs": [
    {
     "data": {
      "image/png": "[encoded data removed]",
      "text/latex": [
       "$$\\sum_{n=1}^{10} x^{n} C_{n} \\sum_{k=1}^{n} \\frac{1}{2 k - 1} = \\frac{124151504 x^{10}}{3465} + \\frac{3186538 x^{9}}{315} + \\frac{182144 x^{8}}{63} + \\frac{88069 x^{7}}{105} + \\frac{26032 x^{6}}{105} + \\frac{1126 x^{5}}{15} + \\frac{352 x^{4}}{15} + \\frac{23 x^{3}}{3} + \\frac{8 x^{2}}{3} + x$$"
      ],
      "text/plain": [
       "   10                                                                         \n",
       "_______                                                                       \n",
       "╲                                                                             \n",
       " ╲              n                                                             \n",
       "  ╲            ____                                                           \n",
       "   ╲           ╲                                                              \n",
       "    ╲           ╲      1                 10            9           8          \n",
       "     ╲   n       ╲  ───────   124151504⋅x     3186538⋅x    182144⋅x    88069⋅x\n",
       "     ╱  x ⋅C ⋅   ╱  2⋅k - 1 = ───────────── + ────────── + ───────── + ───────\n",
       "    ╱       n   ╱                  3465          315           63        105  \n",
       "   ╱           ╱                                                              \n",
       "  ╱            ‾‾‾‾                                                           \n",
       " ╱            k = 1                                                           \n",
       "╱                                                                             \n",
       "‾‾‾‾‾‾‾                                                                       \n",
       " n = 1                                                                        \n",
       "\n",
       "                                                  \n",
       "                                                  \n",
       "                                                  \n",
       "                                                  \n",
       "                                                  \n",
       "                                                  \n",
       "7          6         5        4       3      2    \n",
       "    26032⋅x    1126⋅x    352⋅x    23⋅x    8⋅x     \n",
       "─ + ──────── + ─────── + ────── + ───── + ──── + x\n",
       "      105         15       15       3      3      \n",
       "                                                  \n",
       "                                                  \n",
       "                                                  \n",
       "                                                  \n",
       "                                                  \n",
       "                                                  "
      ]
     },
     "execution_count": 62,
     "metadata": {},
     "output_type": "execute_result"
    }
   ],
   "source": [
    "h21 = Sum( catalan(n)*h_n(n)*x**n,(n,1,k))\n",
    "expanded = h21.subs({k:EXP_VALUE})\n",
    "Eq(expanded, expanded.doit())"
   ]
  },
  {
   "cell_type": "code",
   "execution_count": 63,
   "metadata": {},
   "outputs": [
    {
     "data": {
      "image/png": "[encoded data removed]",
      "text/latex": [
       "$$x + \\frac{8 x^{2}}{3} + \\frac{23 x^{3}}{3} + \\frac{352 x^{4}}{15} + \\frac{1126 x^{5}}{15} + \\frac{26032 x^{6}}{105} + \\frac{88069 x^{7}}{105} + \\frac{182144 x^{8}}{63} + \\frac{3186538 x^{9}}{315} + \\frac{124151504 x^{10}}{3465} + \\mathcal{O}\\left(x^{11}\\right)$$"
      ],
      "text/plain": [
       "       2       3        4         5          6          7           8         \n",
       "    8⋅x    23⋅x    352⋅x    1126⋅x    26032⋅x    88069⋅x    182144⋅x    318653\n",
       "x + ──── + ───── + ────── + ─────── + ──────── + ──────── + ───────── + ──────\n",
       "     3       3       15        15       105        105          63         315\n",
       "\n",
       "   9              10         \n",
       "8⋅x    124151504⋅x      ⎛ 11⎞\n",
       "──── + ───────────── + O⎝x  ⎠\n",
       "            3465             "
      ]
     },
     "execution_count": 63,
     "metadata": {},
     "output_type": "execute_result"
    }
   ],
   "source": [
    "h21_expr = Lambda([n], 1/(2*x)*(1-sqrt(1-4*x)+sqrt(1-4*x)*ln(sqrt(1-4*x))))\n",
    "series(h21_expr(x).doit(), x, n =(EXP_VALUE + 1))"
   ]
  },
  {
   "cell_type": "markdown",
   "metadata": {},
   "source": [
    "# 3) Interesting series\n",
    "\n",
    "Basandoci sui risultati precedenti si possono trovare molte altre serie interessanti. Qui sotto se ne fanno alcuni esempi.\n",
    "\\begin{eqnarray*}\n",
    "\\sum_{n=1}^\\infty\\,\\frac{(-1)^n}{4^n}\\,\\binom{2n}{n}H_n& = & \\sqrt{2}\\ln\\left(\\frac{2 + \\sqrt{2}}{4}\\right)\n",
    "\\end{eqnarray*}\n",
    "\n",
    "Converge molto lentamente"
   ]
  },
  {
   "cell_type": "code",
   "execution_count": 64,
   "metadata": {},
   "outputs": [
    {
     "data": {
      "image/png": "[encoded data removed]",
      "text/plain": [
       "<matplotlib.figure.Figure at 0x108629cf8>"
      ]
     },
     "metadata": {},
     "output_type": "display_data"
    }
   ],
   "source": [
    "%matplotlib inline\n",
    "N = symbols('N', integer = True)\n",
    "s1 = Lambda([n, N], Sum((-1)**n/4**n*binomial(2*n,n)*harmonic(n), (n, 1, N)))\n",
    "s1_expr = sqrt(2)*ln((2+sqrt(2))/4)\n",
    "plt.plot([s1_expr.evalf()]*105, 'g')\n",
    "plt.plot([s1(n, N) for N in range(1, 105)])\n",
    "plt.draw()"
   ]
  },
  {
   "cell_type": "markdown",
   "metadata": {},
   "source": [
    "\\begin{eqnarray*}\n",
    "\\sum_{n=1}^\\infty\\,\\frac{1}{8^n}\\,\\binom{2n}{n}H_n & = & 2\\sqrt{2}\\ln\\left(\\frac{1 + \\sqrt{2}}{2}\\right),\\\\\n",
    "\\end{eqnarray*}"
   ]
  },
  {
   "cell_type": "code",
   "execution_count": 65,
   "metadata": {},
   "outputs": [
    {
     "data": {
      "image/png": "[encoded data removed]",
      "text/plain": [
       "<matplotlib.figure.Figure at 0x10ddd7da0>"
      ]
     },
     "metadata": {},
     "output_type": "display_data"
    }
   ],
   "source": [
    "%matplotlib inline\n",
    "N = symbols('N', integer = True)\n",
    "s2 = Lambda([n, N], Sum( 1/8**n*binomial(2*n,n)*harmonic(n), (n, 1, N)))\n",
    "s2_expr = 2*sqrt(2)*ln((1+sqrt(2))/2)\n",
    "plt.plot([s2_expr.evalf()]*24, 'g')\n",
    "plt.plot([s2(n, N) for N in range(0, 24)])\n",
    "plt.show()"
   ]
  },
  {
   "cell_type": "markdown",
   "metadata": {},
   "source": [
    "$$\n",
    "\\sum_{n=1}^\\infty\\,\\frac{1}{4^n(n+1)}\\,\\binom{2n}{n}H_n = \\sum_{n=1}^\\infty\\,\\frac{1}{4^n}\\,C_nH_n = 4\\ln 2,\n",
    "$$"
   ]
  },
  {
   "cell_type": "code",
   "execution_count": 66,
   "metadata": {},
   "outputs": [
    {
     "data": {
      "image/png": "[encoded data removed]",
      "text/plain": [
       "<matplotlib.figure.Figure at 0x10ea595c0>"
      ]
     },
     "metadata": {},
     "output_type": "display_data"
    }
   ],
   "source": [
    "%matplotlib inline\n",
    "N = symbols('N', integer = True)\n",
    "s3 = Lambda([n, N], Sum( 1/4**n*catalan(n)*harmonic(n), (n, 1, N)))\n",
    "s3_expr = 4*ln(2)\n",
    "plt.plot([s3_expr.evalf()]*105, 'g')\n",
    "plt.plot([s3(n, N) for N in range(1, 105)])\n",
    "plt.show()"
   ]
  },
  {
   "cell_type": "markdown",
   "metadata": {},
   "source": [
    "$$\n",
    "\\sum_{n=1}^\\infty\\,\\frac{(-1)^{n+1}}{4^n(n+1)}\\,\\binom{2n}{n}H_n = \\sum_{n=1}^\\infty\\,\\frac{(-1)^{n+1}}{4^n}\\,C_nH_n = (4+6\\sqrt{2})\\ln 2  - 4(1+\\sqrt{2})\\ln(1 + \\sqrt{2}). \n",
    "$$"
   ]
  },
  {
   "cell_type": "code",
   "execution_count": 67,
   "metadata": {},
   "outputs": [
    {
     "data": {
      "image/png": "[encoded data removed]",
      "text/plain": [
       "<matplotlib.figure.Figure at 0x10293c588>"
      ]
     },
     "metadata": {},
     "output_type": "display_data"
    }
   ],
   "source": [
    "%matplotlib inline\n",
    "N = symbols('N', integer = True)\n",
    "s4 = Lambda([n, N], Sum( (-1)**(n+1)/4**n*catalan(n)*harmonic(n), (n, 1, N)))\n",
    "s4_expr = (4+6*sqrt(2))*ln(2)- 4*(1+sqrt(2))*ln(1+sqrt(2))\n",
    "plt.plot([s4_expr.evalf()]*105, 'g')\n",
    "plt.plot([s4(n, N) for N in range(1, 105)])\n",
    "plt.show()"
   ]
  },
  {
   "cell_type": "markdown",
   "metadata": {},
   "source": [
    "\\begin{eqnarray*}\n",
    "\\sum_{n=1}^\\infty\\,\\frac{1}{8^n}\\,\\binom{2n}{n}(H_{2n} - H_n) & = & \\sqrt{2}\\ln(4 - 2\\sqrt{2})\n",
    "\\end{eqnarray*}"
   ]
  },
  {
   "cell_type": "code",
   "execution_count": 68,
   "metadata": {},
   "outputs": [
    {
     "data": {
      "image/png": "[encoded data removed]",
      "text/plain": [
       "<matplotlib.figure.Figure at 0x10e9fc2b0>"
      ]
     },
     "metadata": {},
     "output_type": "display_data"
    }
   ],
   "source": [
    "%matplotlib inline\n",
    "N = symbols('N', integer = True)\n",
    "s5 = Lambda([n, N], Sum( 1/8**n*binomial(2*n, n)*(harmonic(2*n) - harmonic(n)), (n, 1, N)))\n",
    "s5_expr = sqrt(2) * ln(4-2*sqrt(2))\n",
    "plt.plot([s5_expr.evalf()]*23, 'g')\n",
    "plt.plot([s5(n, N) for N in range(1, 24)])\n",
    "plt.show()"
   ]
  },
  {
   "cell_type": "markdown",
   "metadata": {},
   "source": [
    "\\begin{eqnarray*}\n",
    "\\sum_{n=1}^\\infty\\,\\frac{1}{4^n}\\,C_nh_{n} & = & 2\n",
    "\\end{eqnarray*}"
   ]
  },
  {
   "cell_type": "code",
   "execution_count": 69,
   "metadata": {},
   "outputs": [
    {
     "data": {
      "image/png": "[encoded data removed]",
      "text/plain": [
       "<matplotlib.figure.Figure at 0x10e9fc6d8>"
      ]
     },
     "metadata": {},
     "output_type": "display_data"
    }
   ],
   "source": [
    "%matplotlib inline\n",
    "N = symbols('N', integer = True)\n",
    "s6 = Lambda([n, N], Sum( 1/8**n * binomial(2*n, n)*harmonic(2*n), (n, 1, N)))\n",
    "s6_expr = sqrt(2)/2 * ln((3+2*sqrt(2))/2)\n",
    "plt.plot([s6_expr.evalf()]*23, 'g')\n",
    "plt.plot([s6(n, N) for N in range(1, 24)])\n",
    "plt.show()"
   ]
  },
  {
   "cell_type": "markdown",
   "metadata": {},
   "source": [
    "In particolare, ponendo $x = \\frac{(1+ \\sqrt{5})}{16}$ e $ x = \\frac{(1-\\sqrt{5})}{16}$ , rispettivamente, basandoci sul fatto che\n",
    "$$\\sqrt{3 \\pm\\sqrt{5}} = \\frac{\\sqrt{2}}{2}\\,(\\sqrt{5} \\pm 1)$$\n",
    "e che la formula di Binet è\n",
    "$$F_n = \\frac{1}{\\sqrt{5}}\\left[\\left(\\frac{1+\\sqrt{5}}{2}\\right)^n - \\left(\\frac{1-\\sqrt{5}}{2}\\right)^n\\right],$$\n",
    "si trova che\n",
    "$$\\sum_{n=1}^\\infty\\,\\frac{1}{8^n}\\binom{2n}{n}h_nF_n = \\frac{1}{\\sqrt{10}}\\,\\ln 2 + \\frac{1}{\\sqrt{2}}\\ln\\left(\\frac{3 + \\sqrt{5}}{2}\\right),$$"
   ]
  },
  {
   "cell_type": "code",
   "execution_count": 70,
   "metadata": {},
   "outputs": [
    {
     "data": {
      "image/png": "[encoded data removed]",
      "text/plain": [
       "<matplotlib.figure.Figure at 0x10ec63978>"
      ]
     },
     "metadata": {},
     "output_type": "display_data"
    }
   ],
   "source": [
    "%matplotlib inline\n",
    "N = symbols('N', integer = True)\n",
    "FN = Lambda([n], 1/sqrt(5)*(((1+sqrt(5))/2)**n - ((1-sqrt(5))/2)**n))\n",
    "s7 = Lambda([n, N], Sum( 1/8**n * binomial(2*n, n)*h_n(n)*FN(n), (n, 1, N)))\n",
    "s7_expr = 1/sqrt(10) * ln(2) + 1/sqrt(2)*ln((3+sqrt(5))/2)\n",
    "plt.plot([s7_expr.evalf()]*30, 'g')\n",
    "plt.plot([s7(n, N) for N in range(1, 31)])\n",
    "plt.show()"
   ]
  },
  {
   "cell_type": "markdown",
   "metadata": {},
   "source": [
    "$$\\sum_{n=1}^\\infty\\,n{2n \\choose n}h_nx^n = \\frac{2x}{(1-4x)^{3/2}} - \\frac{x\\ln(1-4x)}{(1-4x)^{3/2}}.$$"
   ]
  },
  {
   "cell_type": "code",
   "execution_count": 71,
   "metadata": {},
   "outputs": [
    {
     "data": {
      "image/png": "[encoded data removed]",
      "text/latex": [
       "$$\\sum_{n=1}^{10} n x^{n} {\\binom{2 n}{n}} \\sum_{k=1}^{n} \\frac{1}{2 k - 1} = \\frac{248303008 x^{10}}{63} + \\frac{6373076 x^{9}}{7} + \\frac{1457152 x^{8}}{7} + \\frac{704552 x^{7}}{15} + \\frac{52064 x^{6}}{5} + 2252 x^{5} + \\frac{1408 x^{4}}{3} + 92 x^{3} + 16 x^{2} + 2 x$$"
      ],
      "text/plain": [
       "   10                                                                         \n",
       "_______                                                                       \n",
       "╲                                                                             \n",
       " ╲                   n                                                        \n",
       "  ╲                 ____                                                      \n",
       "   ╲                ╲                                                         \n",
       "    ╲                ╲      1                 10            9            8    \n",
       "     ╲     n ⎛2⋅n⎞    ╲  ───────   248303008⋅x     6373076⋅x    1457152⋅x    7\n",
       "     ╱  n⋅x ⋅⎜   ⎟⋅   ╱  2⋅k - 1 = ───────────── + ────────── + ────────── + ─\n",
       "    ╱        ⎝ n ⎠   ╱                   63            7            7         \n",
       "   ╱                ╱                                                         \n",
       "  ╱                 ‾‾‾‾                                                      \n",
       " ╱                 k = 1                                                      \n",
       "╱                                                                             \n",
       "‾‾‾‾‾‾‾                                                                       \n",
       " n = 1                                                                        \n",
       "\n",
       "                                                             \n",
       "                                                             \n",
       "                                                             \n",
       "                                                             \n",
       "                                                             \n",
       "                                                             \n",
       "       7          6                   4                      \n",
       "04552⋅x    52064⋅x          5   1408⋅x        3       2      \n",
       "──────── + ──────── + 2252⋅x  + ─────── + 92⋅x  + 16⋅x  + 2⋅x\n",
       "   15         5                    3                         \n",
       "                                                             \n",
       "                                                             \n",
       "                                                             \n",
       "                                                             \n",
       "                                                             \n",
       "                                                             "
      ]
     },
     "execution_count": 71,
     "metadata": {},
     "output_type": "execute_result"
    }
   ],
   "source": [
    "s8 = Sum(n*binomial(2*n,n)*h_n(n)*x**n, (n, 1, k))\n",
    "s8_expr = Lambda([n], 2*x/(1-4*x)**(3./2) - x*ln(1-4*x)/(1-4*x)**(3./2))\n",
    "expanded = s8.subs({k:EXP_VALUE})\n",
    "Eq(expanded, expanded.doit())"
   ]
  },
  {
   "cell_type": "code",
   "execution_count": 72,
   "metadata": {},
   "outputs": [
    {
     "data": {
      "image/png": "[encoded data removed]",
      "text/latex": [
       "$$2 x + 16.0 x^{2} + 92.0 x^{3} + 469.333333333333 x^{4} + 2252.0 x^{5} + 10412.8 x^{6} + 46970.1333333333 x^{7} + 208164.571428571 x^{8} + 910439.428571429 x^{9} + \\mathcal{O}\\left(x^{10}\\right)$$"
      ],
      "text/plain": [
       "            2         3                     4           5            6        \n",
       "2⋅x + 16.0⋅x  + 92.0⋅x  + 469.333333333333⋅x  + 2252.0⋅x  + 10412.8⋅x  + 46970\n",
       "\n",
       "             7                     8                     9    ⎛ 10⎞\n",
       ".1333333333⋅x  + 208164.571428571⋅x  + 910439.428571429⋅x  + O⎝x  ⎠"
      ]
     },
     "execution_count": 72,
     "metadata": {},
     "output_type": "execute_result"
    }
   ],
   "source": [
    "series(s8_expr(x), x, n=10)"
   ]
  },
  {
   "cell_type": "markdown",
   "metadata": {},
   "source": [
    "Ponendo $x = 1/8$, si ha\n",
    "$$\\sum_{n=1}^\\infty\\,\\frac{n}{8^n}{2n \\choose n}h_n = \\frac{1}{2}\\sqrt{2} +\\frac{1}{4}\\sqrt{2} \\ln 2.$$"
   ]
  },
  {
   "cell_type": "code",
   "execution_count": 73,
   "metadata": {},
   "outputs": [
    {
     "data": {
      "image/png": "[encoded data removed]",
      "text/plain": [
       "<matplotlib.figure.Figure at 0x10e893518>"
      ]
     },
     "metadata": {},
     "output_type": "display_data"
    }
   ],
   "source": [
    "%matplotlib inline\n",
    "N = symbols('N', integer = True)\n",
    "s9 = Lambda([n, N], Sum( n/8**n*binomial(2*n,n)*h_n(n), (n, 1, N)))\n",
    "s9_expr = 1./2* sqrt(2) + 1./4*sqrt(2)*ln(2)\n",
    "plt.plot([s9_expr.evalf()]*23, 'g')\n",
    "plt.plot([s9(n, N) for N in range(1, 24)])\n",
    "plt.show()"
   ]
  },
  {
   "cell_type": "markdown",
   "metadata": {},
   "source": [
    "# Trigonometric substitution\n",
    "Espandendo in serie le funzioni i risultati NON combaciano.\n",
    "\\begin{equation} \n",
    "\\sum_{n=1}^\\infty\\,\\binom{2n}{n}H_n\\,x^n = \\frac{2}{\\sqrt{1-4x}}\\,\\ln\\left(\\frac{1+\\sqrt{1 -4x}}{2\\sqrt{1-4x}}\\right). \n",
    "\\end{equation}\n",
    "Trasformando $x = \\frac{1}{4}\\sin^2t$\n",
    "\\begin{equation}\n",
    "\\sum_{n=1}^\\infty\\,\\frac{1}{4^n}\\,\\binom{2n}{n}H_n\\sin^{2n}t = \\frac{2}{\\cos t}\\,\\ln\\left(\\frac{1 + \\cos t}{2\\cos t}\\right),\n",
    "\\end{equation}"
   ]
  },
  {
   "cell_type": "code",
   "execution_count": 74,
   "metadata": {},
   "outputs": [
    {
     "data": {
      "image/png": "[encoded data removed]",
      "text/latex": [
       "$$\\sum_{n=1}^{10} 4^{- n} \\sin^{2 n}{\\left (t \\right )} {\\binom{2 n}{n}} \\operatorname{harmonic}{\\left (n \\right )} = \\frac{340921009}{660602880} \\sin^{20}{\\left (t \\right )} + \\frac{17330599}{33030144} \\sin^{18}{\\left (t \\right )} + \\frac{979407}{1835008} \\sin^{16}{\\left (t \\right )} + \\frac{155727}{286720} \\sin^{14}{\\left (t \\right )} + \\frac{11319}{20480} \\sin^{12}{\\left (t \\right )} + \\frac{2877}{5120} \\sin^{10}{\\left (t \\right )} + \\frac{875}{1536} \\sin^{8}{\\left (t \\right )} + \\frac{55}{96} \\sin^{6}{\\left (t \\right )} + \\frac{9}{16} \\sin^{4}{\\left (t \\right )} + \\frac{1}{2} \\sin^{2}{\\left (t \\right )}$$"
      ],
      "text/plain": [
       "  10                                                                          \n",
       " ____                                                                         \n",
       " ╲                                                                            \n",
       "  ╲    -n    2⋅n    ⎛2⋅n⎞                            20                  18   \n",
       "   ╲  4  ⋅sin   (t)⋅⎜   ⎟⋅harmonic(n)   340921009⋅sin  (t)   17330599⋅sin  (t)\n",
       "   ╱                ⎝ n ⎠             = ────────────────── + ─────────────────\n",
       "  ╱                                         660602880             33030144    \n",
       " ╱                                                                            \n",
       " ‾‾‾‾                                                                         \n",
       "n = 1                                                                         \n",
       "\n",
       "                                                                              \n",
       "                                                                              \n",
       "                                                                              \n",
       "             16                14               12              10            \n",
       "   979407⋅sin  (t)   155727⋅sin  (t)   11319⋅sin  (t)   2877⋅sin  (t)   875⋅si\n",
       " + ─────────────── + ─────────────── + ────────────── + ───────────── + ──────\n",
       "       1835008            286720           20480             5120           15\n",
       "                                                                              \n",
       "                                                                              \n",
       "                                                                              \n",
       "\n",
       "                                        \n",
       "                                        \n",
       "                                        \n",
       " 8            6           4         2   \n",
       "n (t)   55⋅sin (t)   9⋅sin (t)   sin (t)\n",
       "───── + ────────── + ───────── + ───────\n",
       "36          96           16         2   \n",
       "                                        \n",
       "                                        \n",
       "                                        "
      ]
     },
     "execution_count": 74,
     "metadata": {},
     "output_type": "execute_result"
    }
   ],
   "source": [
    "s10 = Sum(1/4**n*binomial(2*n,n)*harmonic(n)*sin(t)**(2*n),(n,1,k))\n",
    "s10_expr = Lambda([t], 2/cos(t)*ln((1+cos(t))/(2*cos(t))))\n",
    "expanded = s10.subs({k:EXP_VALUE})\n",
    "# Eq(expanded, expanded.doit().subs({sin(t)**2: k}))\n",
    "Eq(expanded, expanded.doit())"
   ]
  },
  {
   "cell_type": "code",
   "execution_count": 87,
   "metadata": {},
   "outputs": [
    {
     "data": {
      "image/png": "[encoded data removed]",
      "text/latex": [
       "$$\\left ( \\frac{2}{\\cos{\\left (t \\right )}} \\log{\\left (\\frac{\\cos{\\left (t \\right )} + 1}{2 \\cos{\\left (t \\right )}} \\right )}, \\quad \\frac{t^{2}}{2} + \\frac{19 t^{4}}{48} + \\frac{317 t^{6}}{1440} + \\frac{17363 t^{8}}{161280} + \\frac{719359 t^{10}}{14515200} + \\frac{42279233 t^{12}}{1916006400} + \\frac{3356530909 t^{14}}{348713164800} + \\frac{693214544371 t^{16}}{167382319104000} + \\frac{90385960168043 t^{18}}{51218989645824000} + \\mathcal{O}\\left(t^{20}\\right)\\right )$$"
      ],
      "text/plain": [
       "⎛     ⎛cos(t) + 1⎞                                                            \n",
       "⎜2⋅log⎜──────────⎟   2       4        6          8           10             12\n",
       "⎜     ⎝ 2⋅cos(t) ⎠  t    19⋅t    317⋅t    17363⋅t    719359⋅t     42279233⋅t  \n",
       "⎜─────────────────, ── + ───── + ────── + ──────── + ────────── + ────────────\n",
       "⎝      cos(t)       2      48     1440     161280     14515200     1916006400 \n",
       "\n",
       "                                                                  ⎞\n",
       "               14                 16                   18         ⎟\n",
       "   3356530909⋅t     693214544371⋅t     90385960168043⋅t      ⎛ 20⎞⎟\n",
       " + ────────────── + ──────────────── + ────────────────── + O⎝t  ⎠⎟\n",
       "    348713164800    167382319104000    51218989645824000          ⎠"
      ]
     },
     "execution_count": 87,
     "metadata": {},
     "output_type": "execute_result"
    }
   ],
   "source": [
    "s10_expr(t), series(s10_expr(t), t, n=EXP_VALUE * 2)"
   ]
  },
  {
   "cell_type": "markdown",
   "metadata": {},
   "source": [
    "\\begin{eqnarray}\n",
    "\\sum_{n=1}^\\infty\\,\\frac{1}{4^n}\\binom{2n}{n}(H_{2n} - H_n)\\sin^{2n}t & = & - \\frac{1}{\\cos t}\\,\\ln\\left(\\frac{1 + \\cos t}{2}\\right)\n",
    "\\end{eqnarray}"
   ]
  },
  {
   "cell_type": "code",
   "execution_count": 148,
   "metadata": {},
   "outputs": [
    {
     "data": {
      "image/png": "[encoded data removed]",
      "text/latex": [
       "$$\\sum_{n=1}^{10} 4^{- n} \\left(- \\operatorname{harmonic}{\\left (n \\right )} + \\operatorname{harmonic}{\\left (2 n \\right )}\\right) \\sin^{2 n}{\\left (t \\right )} {\\binom{2 n}{n}} = \\frac{155685007}{1321205760} \\sin^{20}{\\left (t \\right )} + \\frac{8161705}{66060288} \\sin^{18}{\\left (t \\right )} + \\frac{477745}{3670016} \\sin^{16}{\\left (t \\right )} + \\frac{237371}{1720320} \\sin^{14}{\\left (t \\right )} + \\frac{18107}{122880} \\sin^{12}{\\left (t \\right )} + \\frac{1627}{10240} \\sin^{10}{\\left (t \\right )} + \\frac{533}{3072} \\sin^{8}{\\left (t \\right )} + \\frac{37}{192} \\sin^{6}{\\left (t \\right )} + \\frac{7}{32} \\sin^{4}{\\left (t \\right )} + \\frac{1}{4} \\sin^{2}{\\left (t \\right )}$$"
      ],
      "text/plain": [
       "  10                                                                          \n",
       " ____                                                                         \n",
       " ╲                                                                            \n",
       "  ╲    -n                                   2⋅n    ⎛2⋅n⎞                20    \n",
       "   ╲  4  ⋅(-harmonic(n) + harmonic(2⋅n))⋅sin   (t)⋅⎜   ⎟   155685007⋅sin  (t) \n",
       "   ╱                                               ⎝ n ⎠ = ────────────────── \n",
       "  ╱                                                            1321205760     \n",
       " ╱                                                                            \n",
       " ‾‾‾‾                                                                         \n",
       "n = 1                                                                         \n",
       "\n",
       "                                                                              \n",
       "                                                                              \n",
       "                                                                              \n",
       "             18                16                14               12          \n",
       "  8161705⋅sin  (t)   477745⋅sin  (t)   237371⋅sin  (t)   18107⋅sin  (t)   1627\n",
       "+ ──────────────── + ─────────────── + ─────────────── + ────────────── + ────\n",
       "      66060288           3670016           1720320           122880           \n",
       "                                                                              \n",
       "                                                                              \n",
       "                                                                              \n",
       "\n",
       "                                                          \n",
       "                                                          \n",
       "                                                          \n",
       "    10             8            6           4         2   \n",
       "⋅sin  (t)   533⋅sin (t)   37⋅sin (t)   7⋅sin (t)   sin (t)\n",
       "───────── + ─────────── + ────────── + ───────── + ───────\n",
       "10240           3072         192           32         4   \n",
       "                                                          \n",
       "                                                          \n",
       "                                                          "
      ]
     },
     "execution_count": 148,
     "metadata": {},
     "output_type": "execute_result"
    }
   ],
   "source": [
    "s28 = Sum(1/4**n*binomial(2*n,n)*(harmonic(2*n) - harmonic(n))*sin(t)**(2*n), (n,1,k))\n",
    "s28_expr = Lambda([t], -1/cos(t)*ln((1+cos(t))/2))\n",
    "expanded = s28.subs({k:EXP_VALUE})\n",
    "Eq(expanded, expanded.doit())"
   ]
  },
  {
   "cell_type": "code",
   "execution_count": 158,
   "metadata": {},
   "outputs": [
    {
     "data": {
      "image/png": "[encoded data removed]",
      "text/latex": [
       "$$405405.0$$"
      ],
      "text/plain": [
       "405405.0"
      ]
     },
     "execution_count": 158,
     "metadata": {},
     "output_type": "execute_result"
    }
   ],
   "source": [
    "697426329600/1720320"
   ]
  },
  {
   "cell_type": "code",
   "execution_count": 78,
   "metadata": {},
   "outputs": [
    {
     "data": {
      "image/png": "[encoded data removed]",
      "text/latex": [
       "$$\\left ( - \\frac{1}{\\cos{\\left (t \\right )}} \\log{\\left (\\frac{1}{2} \\cos{\\left (t \\right )} + \\frac{1}{2} \\right )}, \\quad \\frac{t^{2}}{4} + \\frac{13 t^{4}}{96} + \\frac{167 t^{6}}{2880} + \\frac{7661 t^{8}}{322560} + \\frac{280009 t^{10}}{29030400} + \\frac{14985791 t^{12}}{3832012800} + \\frac{1105468459 t^{14}}{697426329600} + \\frac{16542905089 t^{16}}{25751126016000} + \\frac{26670942269093 t^{18}}{102437979291648000} + \\mathcal{O}\\left(t^{20}\\right)\\right )$$"
      ],
      "text/plain": [
       "⎛    ⎛cos(t)   1⎞                                                             \n",
       "⎜-log⎜────── + ─⎟    2       4        6         8           10             12 \n",
       "⎜    ⎝  2      2⎠   t    13⋅t    167⋅t    7661⋅t    280009⋅t     14985791⋅t   \n",
       "⎜─────────────────, ── + ───── + ────── + ─────── + ────────── + ──────────── \n",
       "⎝      cos(t)       4      96     2880     322560    29030400     3832012800  \n",
       "\n",
       "                                                                ⎞\n",
       "              14                16                   18         ⎟\n",
       "  1105468459⋅t     16542905089⋅t     26670942269093⋅t      ⎛ 20⎞⎟\n",
       "+ ────────────── + ─────────────── + ────────────────── + O⎝t  ⎠⎟\n",
       "   697426329600     25751126016000   102437979291648000         ⎠"
      ]
     },
     "execution_count": 78,
     "metadata": {},
     "output_type": "execute_result"
    }
   ],
   "source": [
    "s28_expr(t), series(s28_expr(t), t, n=20)"
   ]
  },
  {
   "cell_type": "markdown",
   "metadata": {},
   "source": [
    "\\begin{equation}\n",
    "\\sum_{n=1}^\\infty\\,\\frac{1}{4^{n+1}}\\,C_{n}H_n\\sin^{2(n+1)}t =\\ln 2 + \\cos t\\ln(2\\cos t) - (1 + \\cos t)\\ln(1 + \\cos t),\n",
    "\\end{equation}"
   ]
  },
  {
   "cell_type": "code",
   "execution_count": 79,
   "metadata": {},
   "outputs": [
    {
     "data": {
      "image/png": "[encoded data removed]",
      "text/latex": [
       "$$\\sum_{n=1}^{10} 4^{- n - 1} \\sin^{2 n + 2}{\\left (t \\right )} C_{n} \\operatorname{harmonic}{\\left (n \\right )} = \\frac{30992819}{2642411520} \\sin^{22}{\\left (t \\right )} + \\frac{17330599}{1321205760} \\sin^{20}{\\left (t \\right )} + \\frac{108823}{7340032} \\sin^{18}{\\left (t \\right )} + \\frac{155727}{9175040} \\sin^{16}{\\left (t \\right )} + \\frac{1617}{81920} \\sin^{14}{\\left (t \\right )} + \\frac{959}{40960} \\sin^{12}{\\left (t \\right )} + \\frac{175}{6144} \\sin^{10}{\\left (t \\right )} + \\frac{55}{1536} \\sin^{8}{\\left (t \\right )} + \\frac{3}{64} \\sin^{6}{\\left (t \\right )} + \\frac{1}{16} \\sin^{4}{\\left (t \\right )}$$"
      ],
      "text/plain": [
       "  10                                                                          \n",
       " ____                                                                         \n",
       " ╲                                                                            \n",
       "  ╲    -n - 1    2⋅n + 2                                 22                  2\n",
       "   ╲  4      ⋅sin       (t)⋅C ⋅harmonic(n)   30992819⋅sin  (t)   17330599⋅sin \n",
       "   ╱                         n             = ───────────────── + ─────────────\n",
       "  ╱                                              2642411520          132120576\n",
       " ╱                                                                            \n",
       " ‾‾‾‾                                                                         \n",
       "n = 1                                                                         \n",
       "\n",
       "                                                                              \n",
       "                                                                              \n",
       "                                                                              \n",
       "0                18                16              14             12          \n",
       " (t)   108823⋅sin  (t)   155727⋅sin  (t)   1617⋅sin  (t)   959⋅sin  (t)   175⋅\n",
       "──── + ─────────────── + ─────────────── + ───────────── + ──────────── + ────\n",
       "0          7340032           9175040           81920          40960           \n",
       "                                                                              \n",
       "                                                                              \n",
       "                                                                              \n",
       "\n",
       "                                           \n",
       "                                           \n",
       "                                           \n",
       "   10            8           6         4   \n",
       "sin  (t)   55⋅sin (t)   3⋅sin (t)   sin (t)\n",
       "──────── + ────────── + ───────── + ───────\n",
       "6144          1536          64         16  \n",
       "                                           \n",
       "                                           \n",
       "                                           "
      ]
     },
     "execution_count": 79,
     "metadata": {},
     "output_type": "execute_result"
    }
   ],
   "source": [
    "s11 = Sum(1/4**(n+1)*catalan(n)*harmonic(n)*sin(t)**(2*(n+1)),(n,1,k))\n",
    "s11_expr = Lambda([t], ln(2)+cos(t)*ln(2*cos(t))-(1+cos(t))*ln(1+cos(t)))\n",
    "expanded = s11.subs({k:EXP_VALUE})\n",
    "Eq(expanded, expanded.doit())"
   ]
  },
  {
   "cell_type": "code",
   "execution_count": 80,
   "metadata": {},
   "outputs": [
    {
     "data": {
      "image/png": "[encoded data removed]",
      "text/latex": [
       "$$\\frac{t^{4}}{16} + \\frac{t^{6}}{192} + \\frac{11 t^{8}}{7680} + \\frac{709 t^{10}}{1935360} + \\frac{11929 t^{12}}{116121600} + \\frac{15553 t^{14}}{510935040} + \\frac{524559949 t^{16}}{55794106368000} + \\frac{109489399 t^{18}}{36519778713600} + \\frac{95666623211 t^{20}}{97559980277760000} + \\mathcal{O}\\left(t^{22}\\right)$$"
      ],
      "text/plain": [
       " 4     6       8        10          12          14              16            \n",
       "t     t    11⋅t    709⋅t     11929⋅t     15553⋅t     524559949⋅t      10948939\n",
       "── + ─── + ───── + ─────── + ───────── + ───────── + ────────────── + ────────\n",
       "16   192    7680   1935360   116121600   510935040   55794106368000   36519778\n",
       "\n",
       "   18                  20          \n",
       "9⋅t       95666623211⋅t       ⎛ 22⎞\n",
       "────── + ───────────────── + O⎝t  ⎠\n",
       "713600   97559980277760000         "
      ]
     },
     "execution_count": 80,
     "metadata": {},
     "output_type": "execute_result"
    }
   ],
   "source": [
    "series(s11_expr(t), t, n=22)"
   ]
  },
  {
   "cell_type": "markdown",
   "metadata": {},
   "source": [
    "\\begin{equation}\n",
    "\\sum_{n=1}^\\infty\\,\\frac{1}{4^n(2n+1)}\\,\\binom{2n}{n}H_n = 4G - \\pi\\ln 2,\n",
    "\\end{equation}\n",
    "dove  $G$ è la costante di Catalan, definita come\n",
    "$$G := \\sum_{k=0}^\\infty\\,\\frac{(-1)^k}{(2k+1)^2}.$$"
   ]
  },
  {
   "cell_type": "code",
   "execution_count": 81,
   "metadata": {},
   "outputs": [
    {
     "data": {
      "image/png": "[encoded data removed]",
      "text/plain": [
       "<matplotlib.figure.Figure at 0x10dc642b0>"
      ]
     },
     "metadata": {},
     "output_type": "display_data"
    }
   ],
   "source": [
    "%matplotlib inline\n",
    "G = Sum((-1)**k/(2*k+1)**2,(k,0,oo))\n",
    "N = symbols('N', integer = True)\n",
    "s12 = Lambda([n, N], Sum( 1/(4**n*(2*n+1))*binomial(2*n,n)*harmonic(n), (n, 1, N)))\n",
    "s12_expr = 4*G.evalf()- pi*ln(2)\n",
    "plt.plot([s12_expr.evalf()]*100, 'g')\n",
    "plt.plot([s12(n, N) for N in range(1, 100)])\n",
    "plt.show()"
   ]
  },
  {
   "cell_type": "markdown",
   "metadata": {
    "collapsed": true
   },
   "source": [
    "Se moltiplichiamo per $t\\cos t$ e poi si integra da $0$ a $\\pi/2$, dato che\n",
    "$$\\int_0^{\\pi/2}\\,t\\cos t\\sin^{2n}t\\,dt = \\frac{1}{2n+1}\\left(\\frac{\\pi}{2} - \\frac{(2n)!!}{(2n+1)!!}\\right),$$\n",
    "segue che\n",
    "\\begin{equation}\n",
    "\\sum_{n=1}^\\infty\\,\\frac{1}{4^n(2n+1)}\\,\\binom{2n}{n}H_n\\left(\\frac{\\pi}{2} - \\frac{(2n)!!}{(2n+1)!!}\\right) =\\frac{1}{4}(8\\pi G - \\pi^2\\ln 2 - 7\\zeta(3)),\n",
    "\\end{equation}\n",
    "dove $\\zeta(x)$ è la funzione zeta di Riemann.\n",
    "\n",
    "Troviamo subito problemi per i limiti di Simpy in quanto già per n=5 si calcoliamo il fattoriale di 120 e quindi riusciamo a vedere una leggera crescita nel grafico, ma siamo ben lontani dal valore atteso."
   ]
  },
  {
   "cell_type": "code",
   "execution_count": 82,
   "metadata": {},
   "outputs": [
    {
     "data": {
      "image/png": "[encoded data removed]",
      "text/plain": [
       "<matplotlib.figure.Figure at 0x102a169b0>"
      ]
     },
     "metadata": {},
     "output_type": "display_data"
    }
   ],
   "source": [
    "%matplotlib inline\n",
    "# f = Integral(t*cos(t)*sin(t)**(2*n),(t,0,pi/2))\n",
    "N = symbols('N', integer = True)\n",
    "s13 = Lambda([n, N], Sum( 1/(4**n*(2*n+1))*binomial(2*n,n)*harmonic(n)*(pi/2 - factorial(factorial(2*n))/(factorial(factorial(2*n + 1)))), (n, 1, N)))\n",
    "s13_expr = 1./4 *(8*pi*G.evalf()- pi**2*ln(2) - 7*zeta(3))\n",
    "plt.plot([s13_expr.evalf()]*3, 'g')\n",
    "plt.plot([s13(n, N).doit() for N in range(1, 4)])\n",
    "plt.show()"
   ]
  },
  {
   "cell_type": "markdown",
   "metadata": {},
   "source": [
    "\\begin{equation}\n",
    "\\sum_{n=1}^\\infty\\,\\frac{1}{(2n+1)^2}\\,H_n = \\frac{1}{4}\\,(7\\zeta(3) -\\pi^2\\ln 2). \n",
    "\\end{equation}"
   ]
  },
  {
   "cell_type": "code",
   "execution_count": 83,
   "metadata": {},
   "outputs": [
    {
     "data": {
      "image/png": "[encoded data removed]",
      "text/plain": [
       "<matplotlib.figure.Figure at 0x10ea09780>"
      ]
     },
     "metadata": {},
     "output_type": "display_data"
    }
   ],
   "source": [
    "%matplotlib inline\n",
    "# f = Integral(t*cos(t)*sin(t)**(2*n),(t,0,pi/2))\n",
    "N = symbols('N', integer = True)\n",
    "s14 = Lambda([n, N], Sum( 1/(2*n+1)**2*harmonic(n), (n, 1, N)))\n",
    "s14_expr = 1./4 *(7*zeta(3) - pi**2*ln(2))\n",
    "plt.plot([s14_expr.evalf()]*124, 'g')\n",
    "plt.plot([s14(n, N).doit() for N in range(1, 125)])\n",
    "plt.show()"
   ]
  },
  {
   "cell_type": "markdown",
   "metadata": {},
   "source": [
    "\\begin{equation}\n",
    "\\sum_{n=1}^\\infty \\frac{1}{4^n}\\binom{2n}{n}(H_{2n} - H_n)\\sin^{2n}t  =  - \\frac{1}{\\cos t}\\,\\ln\\left(\\frac{1 + \\cos t}{2}\\right)\n",
    "\\end{equation}"
   ]
  },
  {
   "cell_type": "code",
   "execution_count": 84,
   "metadata": {},
   "outputs": [
    {
     "data": {
      "image/png": "[encoded data removed]",
      "text/latex": [
       "$$\\sum_{n=1}^{10} 4^{- n} \\left(- \\operatorname{harmonic}{\\left (n \\right )} + \\operatorname{harmonic}{\\left (2 n \\right )}\\right) \\sin^{2 n}{\\left (t \\right )} {\\binom{2 n}{n}} = \\frac{155685007}{1321205760} \\sin^{20}{\\left (t \\right )} + \\frac{8161705}{66060288} \\sin^{18}{\\left (t \\right )} + \\frac{477745}{3670016} \\sin^{16}{\\left (t \\right )} + \\frac{237371}{1720320} \\sin^{14}{\\left (t \\right )} + \\frac{18107}{122880} \\sin^{12}{\\left (t \\right )} + \\frac{1627}{10240} \\sin^{10}{\\left (t \\right )} + \\frac{533}{3072} \\sin^{8}{\\left (t \\right )} + \\frac{37}{192} \\sin^{6}{\\left (t \\right )} + \\frac{7}{32} \\sin^{4}{\\left (t \\right )} + \\frac{1}{4} \\sin^{2}{\\left (t \\right )}$$"
      ],
      "text/plain": [
       "  10                                                                          \n",
       " ____                                                                         \n",
       " ╲                                                                            \n",
       "  ╲    -n                                   2⋅n    ⎛2⋅n⎞                20    \n",
       "   ╲  4  ⋅(-harmonic(n) + harmonic(2⋅n))⋅sin   (t)⋅⎜   ⎟   155685007⋅sin  (t) \n",
       "   ╱                                               ⎝ n ⎠ = ────────────────── \n",
       "  ╱                                                            1321205760     \n",
       " ╱                                                                            \n",
       " ‾‾‾‾                                                                         \n",
       "n = 1                                                                         \n",
       "\n",
       "                                                                              \n",
       "                                                                              \n",
       "                                                                              \n",
       "             18                16                14               12          \n",
       "  8161705⋅sin  (t)   477745⋅sin  (t)   237371⋅sin  (t)   18107⋅sin  (t)   1627\n",
       "+ ──────────────── + ─────────────── + ─────────────── + ────────────── + ────\n",
       "      66060288           3670016           1720320           122880           \n",
       "                                                                              \n",
       "                                                                              \n",
       "                                                                              \n",
       "\n",
       "                                                          \n",
       "                                                          \n",
       "                                                          \n",
       "    10             8            6           4         2   \n",
       "⋅sin  (t)   533⋅sin (t)   37⋅sin (t)   7⋅sin (t)   sin (t)\n",
       "───────── + ─────────── + ────────── + ───────── + ───────\n",
       "10240           3072         192           32         4   \n",
       "                                                          \n",
       "                                                          \n",
       "                                                          "
      ]
     },
     "execution_count": 84,
     "metadata": {},
     "output_type": "execute_result"
    }
   ],
   "source": [
    "N = symbols('N', integer = True)\n",
    "s15 = Sum( 1/4**n * binomial(2*n,n) * (harmonic(2*n) - harmonic(n))*sin(t)**(2*n), (n, 1, k))\n",
    "s15_expr = Lambda([t],-1/cos(t)*ln(1./2 + cos(t)/2))\n",
    "expanded = s15.subs({k:EXP_VALUE})\n",
    "Eq(expanded, expanded.doit())"
   ]
  },
  {
   "cell_type": "code",
   "execution_count": 85,
   "metadata": {},
   "outputs": [
    {
     "data": {
      "image/png": "[encoded data removed]",
      "text/latex": [
       "$$0.25 t^{2} + 0.135416666666667 t^{4} + 0.0579861111111111 t^{6} + 0.0237506200396825 t^{8} + 0.00964537174823633 t^{10} + \\mathcal{O}\\left(t^{11}\\right)$$"
      ],
      "text/plain": [
       "      2                      4                       6                       8\n",
       "0.25⋅t  + 0.135416666666667⋅t  + 0.0579861111111111⋅t  + 0.0237506200396825⋅t \n",
       "\n",
       "                        10    ⎛ 11⎞\n",
       " + 0.00964537174823633⋅t   + O⎝t  ⎠"
      ]
     },
     "execution_count": 85,
     "metadata": {},
     "output_type": "execute_result"
    }
   ],
   "source": [
    "series(s15_expr(t), t, n=(EXP_VALUE + 1))"
   ]
  },
  {
   "cell_type": "markdown",
   "metadata": {},
   "source": [
    "\\begin{eqnarray*}\n",
    "\\sum_{n=1}^\\infty\\,\\frac{1}{4^n(2n+1)}\\,\\binom{2n}{n}(H_{2n} -H_n) & = & \\pi\\ln 2 - 2G\n",
    "\\end{eqnarray*}"
   ]
  },
  {
   "cell_type": "code",
   "execution_count": 86,
   "metadata": {},
   "outputs": [
    {
     "data": {
      "image/png": "[encoded data removed]",
      "text/plain": [
       "<matplotlib.figure.Figure at 0x10e88e860>"
      ]
     },
     "metadata": {},
     "output_type": "display_data"
    }
   ],
   "source": [
    "%matplotlib inline\n",
    "G = Sum((-1)**k/(2*k+1)**2,(k,0,oo))\n",
    "N = symbols('N', integer = True)\n",
    "s16 = Lambda([n, N], Sum( 1/(4**n*(2*n+1))*binomial(2*n,n)*(harmonic(2*n) - harmonic(n)), (n, 1, N)))\n",
    "s16_expr = - 2*G.evalf() + pi*ln(2)\n",
    "plt.plot([s16_expr.evalf()]*105, 'g')\n",
    "plt.plot([s16(n, N) for N in range(1, 105)])\n",
    "plt.show()"
   ]
  },
  {
   "cell_type": "code",
   "execution_count": null,
   "metadata": {
    "collapsed": true
   },
   "outputs": [],
   "source": []
  }
 ],
 "metadata": {
  "celltoolbar": "Raw Cell Format",
  "kernelspec": {
   "display_name": "Python 3",
   "language": "python",
   "name": "python3"
  },
  "language_info": {
   "codemirror_mode": {
    "name": "ipython",
    "version": 3
   },
   "file_extension": ".py",
   "mimetype": "text/x-python",
   "name": "python",
   "nbconvert_exporter": "python",
   "pygments_lexer": "ipython3",
   "version": "3.6.2"
  }
 },
 "nbformat": 4,
 "nbformat_minor": 2
}
