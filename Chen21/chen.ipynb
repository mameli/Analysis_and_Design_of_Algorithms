{
 "cells": [
  {
   "cell_type": "markdown",
   "metadata": {
    "deletable": true,
    "editable": true
   },
   "source": [
    "# Progetto PAA\n",
    "Autore: Filippo Mameli - 6222254 - filippo.mameli@stud.unifi.it\n",
    "\n",
    "### Setup del progetto"
   ]
  },
  {
   "cell_type": "code",
   "execution_count": 1,
   "metadata": {
    "collapsed": false,
    "deletable": true,
    "editable": true
   },
   "outputs": [],
   "source": [
    "from sympy import *\n",
    "from sympy import Sum, factorial, oo\n",
    "from sympy.abc import i, j, k, m, n, x, t\n",
    "import sys\n",
    "import matplotlib.pyplot as plt\n",
    "import json\n",
    "import matplotlib\n",
    "init_printing()"
   ]
  },
  {
   "cell_type": "code",
   "execution_count": 2,
   "metadata": {
    "collapsed": false,
    "deletable": true,
    "editable": true
   },
   "outputs": [
    {
     "data": {
      "image/png": "[encoded data removed]",
      "text/latex": [
       "$$\\left( n \\mapsto \\frac{{\\binom{2 n}{n}}}{n + 1} \\right)$$"
      ],
      "text/plain": [
       "    ⎛2⋅n⎞\n",
       "    ⎜   ⎟\n",
       "    ⎝ n ⎠\n",
       "n ↦ ─────\n",
       "    n + 1"
      ]
     },
     "execution_count": 2,
     "metadata": {},
     "output_type": "execute_result"
    }
   ],
   "source": [
    "C = Function('C')\n",
    "n = symbols('n', integer=True)\n",
    "catalan_expr = 1 / (n + 1) * binomial(2 * n, n)\n",
    "CN = Lambda([n], catalan_expr)\n",
    "CN"
   ]
  },
  {
   "cell_type": "markdown",
   "metadata": {
    "collapsed": true,
    "deletable": true,
    "editable": true
   },
   "source": [
    "I primi 10 numeri di catalan sono:"
   ]
  },
  {
   "cell_type": "code",
   "execution_count": 3,
   "metadata": {
    "collapsed": false,
    "deletable": true,
    "editable": true
   },
   "outputs": [
    {
     "data": {
      "image/png": "[encoded data removed]",
      "text/latex": [
       "$$\\left [ 1, \\quad 1, \\quad 2, \\quad 5, \\quad 14, \\quad 42, \\quad 132, \\quad 429, \\quad 1430, \\quad 4862, \\quad 16796\\right ]$$"
      ],
      "text/plain": [
       "[1, 1, 2, 5, 14, 42, 132, 429, 1430, 4862, 16796]"
      ]
     },
     "execution_count": 3,
     "metadata": {},
     "output_type": "execute_result"
    }
   ],
   "source": [
    "[(CN(i)) for i in range(0, 11)]"
   ]
  },
  {
   "cell_type": "markdown",
   "metadata": {
    "deletable": true,
    "editable": true
   },
   "source": [
    "### Coefficienti binomiali centrali\n",
    "Sappiamo che la funzione generatrice dei coefficienti binomiali centrali è data da:\n",
    "$$\\sum_{n=0}^{\\infty}\\binom{2n}{n}x^n = \\frac{1}{\\sqrt{1-4x}}$$\n",
    "Si può controllare infatti per i primi dieci elementi che questa relazione è vera"
   ]
  },
  {
   "cell_type": "code",
   "execution_count": 4,
   "metadata": {
    "collapsed": false,
    "deletable": true,
    "editable": true
   },
   "outputs": [
    {
     "data": {
      "image/png": "[encoded data removed]",
      "text/latex": [
       "$$\\left( n \\mapsto {\\binom{2 n}{n}} \\right)$$"
      ],
      "text/plain": [
       "    ⎛2⋅n⎞\n",
       "n ↦ ⎜   ⎟\n",
       "    ⎝ n ⎠"
      ]
     },
     "execution_count": 4,
     "metadata": {},
     "output_type": "execute_result"
    }
   ],
   "source": [
    "centralN = Lambda([n], binomial(2 * n, n))\n",
    "centralN"
   ]
  },
  {
   "cell_type": "code",
   "execution_count": 5,
   "metadata": {
    "collapsed": false,
    "deletable": true,
    "editable": true
   },
   "outputs": [
    {
     "data": {
      "image/png": "[encoded data removed]",
      "text/latex": [
       "$$\\left [ 1, \\quad 2, \\quad 6, \\quad 20, \\quad 70, \\quad 252, \\quad 924, \\quad 3432, \\quad 12870, \\quad 48620, \\quad 184756\\right ]$$"
      ],
      "text/plain": [
       "[1, 2, 6, 20, 70, 252, 924, 3432, 12870, 48620, 184756]"
      ]
     },
     "execution_count": 5,
     "metadata": {},
     "output_type": "execute_result"
    }
   ],
   "source": [
    "[(centralN(i).doit()) for i in range(0, 11)]"
   ]
  },
  {
   "cell_type": "code",
   "execution_count": 6,
   "metadata": {
    "collapsed": false,
    "deletable": true,
    "editable": true
   },
   "outputs": [
    {
     "data": {
      "image/png": "[encoded data removed]",
      "text/latex": [
       "$$\\left( n \\mapsto \\frac{1}{\\sqrt{- 4 x + 1}} \\right)$$"
      ],
      "text/plain": [
       "         1      \n",
       "n ↦ ────────────\n",
       "      __________\n",
       "    ╲╱ -4⋅x + 1 "
      ]
     },
     "execution_count": 6,
     "metadata": {},
     "output_type": "execute_result"
    }
   ],
   "source": [
    "x = symbols('x', integer=True)\n",
    "centralBinomialCoef_expr = Lambda([n],1 / (sqrt(1 - 4 * x)))\n",
    "centralBinomialCoef_expr"
   ]
  },
  {
   "cell_type": "code",
   "execution_count": 7,
   "metadata": {
    "collapsed": false,
    "deletable": true,
    "editable": true
   },
   "outputs": [
    {
     "data": {
      "image/png": "[encoded data removed]",
      "text/latex": [
       "$$1 + 2 x + 6 x^{2} + 20 x^{3} + 70 x^{4} + 252 x^{5} + 924 x^{6} + 3432 x^{7} + 12870 x^{8} + 48620 x^{9} + 184756 x^{10} + \\mathcal{O}\\left(x^{11}\\right)$$"
      ],
      "text/plain": [
       "             2       3       4        5        6         7          8         \n",
       "1 + 2⋅x + 6⋅x  + 20⋅x  + 70⋅x  + 252⋅x  + 924⋅x  + 3432⋅x  + 12870⋅x  + 48620⋅\n",
       "\n",
       " 9           10    ⎛ 11⎞\n",
       "x  + 184756⋅x   + O⎝x  ⎠"
      ]
     },
     "execution_count": 7,
     "metadata": {},
     "output_type": "execute_result"
    }
   ],
   "source": [
    "series(centralBinomialCoef_expr(x), x, n=11)"
   ]
  },
  {
   "cell_type": "markdown",
   "metadata": {
    "deletable": true,
    "editable": true
   },
   "source": [
    "### Numeri di Catalan\n",
    "Per i numeri di Catalan invece vale questa relazione:\n",
    "$$\\sum_{n=0}^{\\infty}C_nx^n =\\sum_{n=0}^{\\infty}\\frac{1}{n + 1}\\binom{2n}{n}x^n = \\frac{1-\\sqrt{1-4x}}{2x}$$\n",
    "Infatti:"
   ]
  },
  {
   "cell_type": "code",
   "execution_count": 8,
   "metadata": {
    "collapsed": false,
    "deletable": true,
    "editable": true
   },
   "outputs": [
    {
     "data": {
      "image/png": "[encoded data removed]",
      "text/latex": [
       "$$1 + x + 2 x^{2} + 5 x^{3} + 14 x^{4} + 42 x^{5} + 132 x^{6} + 429 x^{7} + 1430 x^{8} + 4862 x^{9} + 16796 x^{10} + \\mathcal{O}\\left(x^{11}\\right)$$"
      ],
      "text/plain": [
       "           2      3       4       5        6        7         8         9     \n",
       "1 + x + 2⋅x  + 5⋅x  + 14⋅x  + 42⋅x  + 132⋅x  + 429⋅x  + 1430⋅x  + 4862⋅x  + 16\n",
       "\n",
       "     10    ⎛ 11⎞\n",
       "796⋅x   + O⎝x  ⎠"
      ]
     },
     "execution_count": 8,
     "metadata": {},
     "output_type": "execute_result"
    }
   ],
   "source": [
    "catalan_expr = Lambda([n],(1 - sqrt(1 - 4 * x)) / (2*x))\n",
    "catalan_expr\n",
    "series(catalan_expr(x), x, n=11)"
   ]
  },
  {
   "cell_type": "markdown",
   "metadata": {
    "deletable": true,
    "editable": true
   },
   "source": [
    "Dalla funzione generatrice dei coefficienti binomiali, i numeri di Catalan e i numeri amonici\n",
    "sono state ricavate alcune interessanti serie come\n",
    "$\\sum_{n=1}^{\\infty}\\frac{1}{n^3}H_n = \\frac{\\pi^4}{72}$ e $\\sum_{n=1}^{\\infty}\\frac{1}{n^2}H_n^2 = \\frac{17\\pi^4}{360}$\n",
    "\n",
    "Per ragioni di calcolo si utilizza la seconda formula sviluppata nell'articolo cioe':\n",
    "$\\frac{5}{4}\\sum_{n=1}^{\\infty}\\frac{1}{n^4} = \\frac{\\pi^4}{72}$"
   ]
  },
  {
   "cell_type": "code",
   "execution_count": 9,
   "metadata": {
    "collapsed": false,
    "deletable": true,
    "editable": true
   },
   "outputs": [
    {
     "data": {
      "text/plain": [
       "True"
      ]
     },
     "execution_count": 9,
     "metadata": {},
     "output_type": "execute_result"
    }
   ],
   "source": [
    "h1 = Lambda([n], Sum(harmonic(n)*1/n**3, (n, 1, 100)))\n",
    "h1_simple = Lambda([n], zeta(4) * 5/4)\n",
    "(h1_simple(n).doit()) == (pi**4/72).doit()\n",
    "# h1(n).evalf() - (pi**4/72).doit()"
   ]
  },
  {
   "cell_type": "code",
   "execution_count": 10,
   "metadata": {
    "collapsed": false,
    "deletable": true,
    "editable": true
   },
   "outputs": [
    {
     "data": {
      "text/plain": [
       "True"
      ]
     },
     "execution_count": 10,
     "metadata": {},
     "output_type": "execute_result"
    }
   ],
   "source": [
    "h2 = Lambda([n], Sum(harmonic(n)**2*1/n**2, (n, 1, oo)))\n",
    "h2_simple = Lambda([n], zeta(4) * 17/4)\n",
    "(h2_simple(n).doit()) == (17*pi**4/360).doit()"
   ]
  },
  {
   "cell_type": "markdown",
   "metadata": {
    "deletable": true,
    "editable": true
   },
   "source": [
    "#### Formula 4\n",
    "$$\\sum_{k=0}^{n}\\binom{n}{k}^2H_k = \\binom{2n}{n}(2H_n - H_{2n})$$"
   ]
  },
  {
   "cell_type": "code",
   "execution_count": 11,
   "metadata": {
    "collapsed": false,
    "deletable": true,
    "editable": true
   },
   "outputs": [
    {
     "data": {
      "text/plain": [
       "[True, True, True, True, True, True, True, True, True, True]"
      ]
     },
     "execution_count": 11,
     "metadata": {},
     "output_type": "execute_result"
    }
   ],
   "source": [
    "h3 = Lambda([n], Sum(harmonic(k) * binomial(n,k)**2, (k, 1, n)))\n",
    "h3_expr = Lambda([n], binomial(2*n, n)*(2*harmonic(n) - harmonic(2*n)))\n",
    "[(h3(i).doit() == h3_expr(i).doit()) for i in range(0, 10)]"
   ]
  },
  {
   "cell_type": "markdown",
   "metadata": {
    "deletable": true,
    "editable": true
   },
   "source": [
    "#### Formula 5\n",
    "$$\\sum_{n=0}^{\\infty}\\frac{1}{8^n}\\binom{n}{k}H_n = 2\\sqrt2 \\ ln \\ (\\frac{1 +\\sqrt2}{2})$$"
   ]
  },
  {
   "cell_type": "code",
   "execution_count": 12,
   "metadata": {
    "collapsed": false,
    "deletable": true,
    "editable": true
   },
   "outputs": [
    {
     "data": {
      "text/plain": [
       "True"
      ]
     },
     "execution_count": 12,
     "metadata": {},
     "output_type": "execute_result"
    }
   ],
   "source": [
    "h4 = Lambda([n], Sum(harmonic(n) * binomial(2*n, n) * 1/ 8**n, (n, 0, oo)))\n",
    "h4_expr = 2 * sqrt(2) * ln((1 + sqrt(2)) / 2)\n",
    "h4(n).evalf() == h4_expr.evalf()"
   ]
  },
  {
   "cell_type": "markdown",
   "metadata": {
    "deletable": true,
    "editable": true
   },
   "source": [
    "#### Formula 6\n",
    "$$ h_n = 1 + \\frac{1}{3} + \\frac{1}{5} + \\dots + + \\frac{1}{2n - 1}  $$"
   ]
  },
  {
   "cell_type": "code",
   "execution_count": 13,
   "metadata": {
    "collapsed": false,
    "deletable": true,
    "editable": true,
    "scrolled": true
   },
   "outputs": [
    {
     "data": {
      "image/png": "[encoded data removed]",
      "text/latex": [
       "$$\\left( n \\mapsto \\sum_{k=1}^{n} \\frac{1}{2 k - 1} \\right)$$"
      ],
      "text/plain": [
       "      n          \n",
       "     ____        \n",
       "     ╲           \n",
       "      ╲      1   \n",
       "       ╲  ───────\n",
       "n ↦    ╱  2⋅k - 1\n",
       "      ╱          \n",
       "     ╱           \n",
       "     ‾‾‾‾        \n",
       "    k = 1        "
      ]
     },
     "execution_count": 13,
     "metadata": {},
     "output_type": "execute_result"
    }
   ],
   "source": [
    "h_n = Lambda([n], Sum(1/ (2*k - 1), (k, 1, n)))\n",
    "h_n"
   ]
  },
  {
   "cell_type": "markdown",
   "metadata": {
    "deletable": true,
    "editable": true
   },
   "source": [
    "#### Formula 7\n",
    "$\\sum_{n=1}^{\\infty} 8^{- n} {\\binom{2 n}{n}} \\operatorname{F}{\\left (n \\right )}h_n = \\frac{\\sqrt{10}}{10} \\log{\\left (2 \\right )} + \\frac{\\sqrt{2}}{2} \\log{\\left (\\frac{\\sqrt{5}}{2} + \\frac{3}{2} \\right )}$"
   ]
  },
  {
   "cell_type": "code",
   "execution_count": 14,
   "metadata": {
    "collapsed": false,
    "deletable": true,
    "editable": true
   },
   "outputs": [
    {
     "data": {
      "text/plain": [
       "True"
      ]
     },
     "execution_count": 14,
     "metadata": {},
     "output_type": "execute_result"
    }
   ],
   "source": [
    "h5 = Lambda([n], Sum(h_n(n) * binomial(2*n, n) * 1/ 8**n * fibonacci(n), (n, 1, 107)))\n",
    "h5_expr = 1/sqrt(10) * ln(2) + 1/sqrt(2) * ln((3 + sqrt(5))/ 2)\n",
    "h5(n).evalf().round(10) == h5_expr.evalf().round(10)"
   ]
  },
  {
   "cell_type": "markdown",
   "metadata": {
    "deletable": true,
    "editable": true
   },
   "source": [
    "#### Formula 8\n",
    "\n",
    "\\begin{equation}\n",
    "\\sum_{n=1}^\\infty\\,\\binom{2n}{n}(H_{2n-1} - H_n)\\frac{x^n}{n} = \\ln^2(C(x)).\n",
    "\\end{equation}"
   ]
  },
  {
   "cell_type": "code",
   "execution_count": 15,
   "metadata": {
    "collapsed": false,
    "deletable": true,
    "editable": true
   },
   "outputs": [
    {
     "data": {
      "image/png": "[encoded data removed]",
      "text/latex": [
       "$$\\left [ 0, \\quad 1, \\quad 3, \\quad \\frac{107}{12}, \\quad \\frac{55}{2}, \\quad \\frac{15797}{180}, \\quad \\frac{4319}{15}, \\quad \\frac{108175}{112}, \\quad \\frac{277075}{84}\\right ]$$"
      ],
      "text/plain": [
       "⎡         107        15797  4319  108175  277075⎤\n",
       "⎢0, 1, 3, ───, 55/2, ─────, ────, ──────, ──────⎥\n",
       "⎣          12         180    15    112      84  ⎦"
      ]
     },
     "execution_count": 15,
     "metadata": {},
     "output_type": "execute_result"
    }
   ],
   "source": [
    "h6 = Lambda([n], binomial(2*n, n) * (harmonic(2 * n - 1)- harmonic(n))/n)\n",
    "[(h6(i).doit()) for i in range(1, 10)]"
   ]
  },
  {
   "cell_type": "code",
   "execution_count": 16,
   "metadata": {
    "collapsed": false,
    "deletable": true,
    "editable": true
   },
   "outputs": [
    {
     "data": {
      "image/png": "[encoded data removed]",
      "text/latex": [
       "$$x^{2} + 3 x^{3} + \\frac{107 x^{4}}{12} + \\frac{55 x^{5}}{2} + \\frac{15797 x^{6}}{180} + \\frac{4319 x^{7}}{15} + \\frac{108175 x^{8}}{112} + \\frac{277075 x^{9}}{84} + \\mathcal{O}\\left(x^{10}\\right)$$"
      ],
      "text/plain": [
       "                 4       5          6         7           8           9       \n",
       " 2      3   107⋅x    55⋅x    15797⋅x    4319⋅x    108175⋅x    277075⋅x     ⎛ 1\n",
       "x  + 3⋅x  + ────── + ───── + ──────── + ─────── + ───────── + ───────── + O⎝x \n",
       "              12       2       180         15        112          84          \n",
       "\n",
       "  \n",
       "0⎞\n",
       " ⎠\n",
       "  "
      ]
     },
     "execution_count": 16,
     "metadata": {},
     "output_type": "execute_result"
    }
   ],
   "source": [
    "h6_expr = Lambda([n],(ln(catalan_expr(x)))**2)\n",
    "series(h6_expr(x), x, n=10)"
   ]
  },
  {
   "cell_type": "markdown",
   "metadata": {
    "deletable": true,
    "editable": true
   },
   "source": [
    "# The main theorems\n",
    "$$H_n = \\sum_{k=1}^n\\,\\frac{1}{k} = \\int_0^1\\,\\left(\\sum_{k=0}^{n-1}\\,t^k\\right)\\,dt = \\int_0^1\\,\\frac{1- t^n}{1-t}\\,dt,$$"
   ]
  },
  {
   "cell_type": "code",
   "execution_count": 17,
   "metadata": {
    "collapsed": false,
    "deletable": true,
    "editable": true
   },
   "outputs": [
    {
     "data": {
      "text/plain": [
       "[(0, True),\n",
       " (1, True),\n",
       " (3/2, True),\n",
       " (11/6, True),\n",
       " (25/12, True),\n",
       " (137/60, True),\n",
       " (49/20, True),\n",
       " (363/140, True),\n",
       " (761/280, True),\n",
       " (7129/2520, True),\n",
       " (7381/2520, True)]"
      ]
     },
     "execution_count": 17,
     "metadata": {},
     "output_type": "execute_result"
    }
   ],
   "source": [
    "harmonic(n)\n",
    "h7 = Lambda([n], Integral(Sum(x**k, (k, 0, n - 1)),(x, 0, 1)))\n",
    "h7_2 = Lambda([n], Integral((1 - t**n)/(1 - t),(t, 0, 1)))\n",
    "[(h7(i).doit(), h7(i).doit() == harmonic(i) == h7_2(i).doit()) for i in range(0, 11)]"
   ]
  },
  {
   "cell_type": "markdown",
   "metadata": {
    "collapsed": true,
    "deletable": true,
    "editable": true
   },
   "source": [
    "\\begin{eqnarray*}\n",
    "\\sum_{n=1}^\\infty\\,\\binom{2n}{n}H_n\\,x^n & = & \\sum_{n=1}^\\infty\\,\\binom{2n}{n}x^n\\int_0^1\\,\\frac{1- t^n}{1-t}\\,dt\\\\\n",
    "& = & \\int_0^1\\,\\frac{1}{1-t}\\,\\left(\\sum_{n=1}^\\infty\\,\\binom{2n}{n}\\,(x^n - (xt)^n)\\right)\\,dt\\\\\n",
    "& = & \\int_0^1\\,\\frac{1}{1-t}\\left(\\frac{1}{\\sqrt{1-4x}} - \\frac{1}{\\sqrt{1 -4xt}}\\right)\\,dt.\n",
    "\\end{eqnarray*}"
   ]
  },
  {
   "cell_type": "code",
   "execution_count": 18,
   "metadata": {
    "collapsed": false,
    "deletable": true,
    "editable": true
   },
   "outputs": [],
   "source": [
    "h9 = Lambda([n], binomial(2*n, n)* harmonic(n))\n",
    "# h9_2 = Lambda([n], binomial(2*n, n)* Integral((1 - t**n)/(1 - t),(t, 0, 1)))\n",
    "# h9_3 = Lambda([n], Integral(1/(1 - t) * Sum(binomial(2*n, n), (n, 1, oo)), (t, 0, 1)))\n",
    "# h9_4 = integrate(1/(1 - t) * (1/(1 - sqrt(4*x)) - 1/(1 - sqrt(4*x*t))), (t,0,1))\n",
    "# h9_4"
   ]
  },
  {
   "cell_type": "markdown",
   "metadata": {
    "deletable": true,
    "editable": true
   },
   "source": [
    "### Teorema 1\n",
    "Sia $H_n$ l'ennesimo numero armonico. Allora\n",
    "\\begin{equation} \n",
    "\\sum_{n=1}^\\infty\\,\\binom{2n}{n}H_n\\,x^n = \\frac{2}{\\sqrt{1-4x}}\\,\\ln\\left(\\frac{1+\\sqrt{1 -4x}}{2\\sqrt{1-4x}}\\right). \n",
    "\\end{equation}"
   ]
  },
  {
   "cell_type": "code",
   "execution_count": 19,
   "metadata": {
    "collapsed": false,
    "deletable": true,
    "editable": true
   },
   "outputs": [
    {
     "data": {
      "image/png": "[encoded data removed]",
      "text/latex": [
       "$$\\left [ 2, \\quad 9, \\quad \\frac{110}{3}, \\quad \\frac{875}{6}, \\quad \\frac{2877}{5}, \\quad \\frac{11319}{5}, \\quad \\frac{311454}{35}, \\quad \\frac{979407}{28}\\right ]$$"
      ],
      "text/plain": [
       "⎡                                     311454  979407⎤\n",
       "⎢2, 9, 110/3, 875/6, 2877/5, 11319/5, ──────, ──────⎥\n",
       "⎣                                       35      28  ⎦"
      ]
     },
     "execution_count": 19,
     "metadata": {},
     "output_type": "execute_result"
    }
   ],
   "source": [
    "h9 = Lambda([n], binomial(2*n, n)* harmonic(n))\n",
    "[(h9(i).doit()) for i in range(1, 9)]"
   ]
  },
  {
   "cell_type": "code",
   "execution_count": 20,
   "metadata": {
    "collapsed": false,
    "deletable": true,
    "editable": true
   },
   "outputs": [
    {
     "data": {
      "image/png": "[encoded data removed]",
      "text/latex": [
       "$$2 x + 9 x^{2} + \\frac{110 x^{3}}{3} + \\frac{875 x^{4}}{6} + \\frac{2877 x^{5}}{5} + \\frac{11319 x^{6}}{5} + \\frac{311454 x^{7}}{35} + \\frac{979407 x^{8}}{28} + \\mathcal{O}\\left(x^{9}\\right)$$"
      ],
      "text/plain": [
       "                  3        4         5          6           7           8     \n",
       "         2   110⋅x    875⋅x    2877⋅x    11319⋅x    311454⋅x    979407⋅x     ⎛\n",
       "2⋅x + 9⋅x  + ────── + ────── + ─────── + ──────── + ───────── + ───────── + O⎝\n",
       "               3        6         5         5           35          28        \n",
       "\n",
       "   \n",
       " 9⎞\n",
       "x ⎠\n",
       "   "
      ]
     },
     "execution_count": 20,
     "metadata": {},
     "output_type": "execute_result"
    }
   ],
   "source": [
    "h9_expr = Lambda([n], 2/sqrt(1 - 4*x) * ln((1 + sqrt(1 - 4*x))/ (2*sqrt(1 - 4*x))))\n",
    "series(h9_expr(x), x, n=9)"
   ]
  },
  {
   "cell_type": "markdown",
   "metadata": {
    "deletable": true,
    "editable": true
   },
   "source": [
    "### Corollario 2\n",
    "Let $C_n$ be the $n$th Catalan number. Then\n",
    "\\begin{equation}  \n",
    "\\sum_{n=1}^\\infty\\,C_nH_n\\,x^{n+1} =  \\ln 2 + \\sqrt{1-4x}\\ln(2\\sqrt{1-4x}) - (1 + \\sqrt{1 -4x})\\ln(1+\\sqrt{1 -4x})). \n",
    "\\end{equation}\n"
   ]
  },
  {
   "cell_type": "code",
   "execution_count": 21,
   "metadata": {
    "collapsed": false,
    "deletable": true,
    "editable": true
   },
   "outputs": [
    {
     "data": {
      "image/png": "[encoded data removed]",
      "text/latex": [
       "$$\\left [ 1, \\quad 3, \\quad \\frac{55}{6}, \\quad \\frac{175}{6}, \\quad \\frac{959}{10}, \\quad \\frac{1617}{5}, \\quad \\frac{155727}{140}\\right ]$$"
      ],
      "text/plain": [
       "⎡                   959          155727⎤\n",
       "⎢1, 3, 55/6, 175/6, ───, 1617/5, ──────⎥\n",
       "⎣                    10           140  ⎦"
      ]
     },
     "execution_count": 21,
     "metadata": {},
     "output_type": "execute_result"
    }
   ],
   "source": [
    "h10 = Lambda([n], catalan(n) * harmonic(n))\n",
    "[(h10(i).doit()) for i in range(1, 8)]"
   ]
  },
  {
   "cell_type": "code",
   "execution_count": 22,
   "metadata": {
    "collapsed": false,
    "deletable": true,
    "editable": true
   },
   "outputs": [
    {
     "data": {
      "image/png": "[encoded data removed]",
      "text/latex": [
       "$$x^{2} + 3 x^{3} + \\frac{55 x^{4}}{6} + \\frac{175 x^{5}}{6} + \\frac{959 x^{6}}{10} + \\frac{1617 x^{7}}{5} + \\frac{155727 x^{8}}{140} + \\mathcal{O}\\left(x^{9}\\right)$$"
      ],
      "text/plain": [
       "                4        5        6         7           8        \n",
       " 2      3   55⋅x    175⋅x    959⋅x    1617⋅x    155727⋅x     ⎛ 9⎞\n",
       "x  + 3⋅x  + ───── + ────── + ────── + ─────── + ───────── + O⎝x ⎠\n",
       "              6       6        10        5         140           "
      ]
     },
     "execution_count": 22,
     "metadata": {},
     "output_type": "execute_result"
    }
   ],
   "source": [
    "h10_expr = Lambda([n], ln(2) + sqrt(1-4*x)*ln(2*sqrt(1-4*x))-(1 + sqrt(1 -4*x))*ln(1+sqrt(1 -4*x)))\n",
    "series(h10_expr(x), x, n=9)"
   ]
  },
  {
   "cell_type": "markdown",
   "metadata": {
    "deletable": true,
    "editable": true
   },
   "source": [
    "### Formula 11\n",
    "\\begin{equation}\n",
    "\\frac{1}{(1-x)^{m+1}}\\,\\ln\\frac{1}{1-x} = \\sum_{n=0}^\\infty\\,\\binom{m+n}{n}(H_{m+n} - H_m)x^n.\n",
    "\\end{equation}  \n",
    "Let $m = n$. Matching the coefficients of $x^n$ yields\n",
    "\\begin{equation}\n",
    "\\binom{2n}{n}(H_{2n} - H_n) = \\sum_{k=1}^n\\,\\frac{1}{k}\\binom{2n-k}{n}.\n",
    "\\end{equation}"
   ]
  },
  {
   "cell_type": "code",
   "execution_count": 23,
   "metadata": {
    "collapsed": false,
    "deletable": true,
    "editable": true
   },
   "outputs": [
    {
     "data": {
      "image/png": "[encoded data removed]",
      "text/latex": [
       "$$\\left [ \\frac{73}{3}\\right ]$$"
      ],
      "text/plain": [
       "[73/3]"
      ]
     },
     "execution_count": 23,
     "metadata": {},
     "output_type": "execute_result"
    }
   ],
   "source": [
    "h11_expr = Lambda([n, m], 1/(1 - x)**(m + 1)*ln(1/(1 - x)))\n",
    "h11 = Lambda([n, m], binomial(m+n, n)* (harmonic(m + n) - harmonic(m)))\n",
    "[(h11(3, 5).doit())]"
   ]
  },
  {
   "cell_type": "code",
   "execution_count": 24,
   "metadata": {
    "collapsed": false,
    "deletable": true,
    "editable": true
   },
   "outputs": [
    {
     "data": {
      "image/png": "[encoded data removed]",
      "text/latex": [
       "$$x + \\frac{13 x^{2}}{2} + \\frac{73 x^{3}}{3} + \\mathcal{O}\\left(x^{4}\\right)$$"
      ],
      "text/plain": [
       "        2       3        \n",
       "    13⋅x    73⋅x     ⎛ 4⎞\n",
       "x + ───── + ───── + O⎝x ⎠\n",
       "      2       3          "
      ]
     },
     "execution_count": 24,
     "metadata": {},
     "output_type": "execute_result"
    }
   ],
   "source": [
    "series(h11_expr(3, 5), x , n=4)"
   ]
  },
  {
   "cell_type": "code",
   "execution_count": 25,
   "metadata": {
    "collapsed": false,
    "deletable": true,
    "editable": true
   },
   "outputs": [
    {
     "data": {
      "image/png": "[encoded data removed]",
      "text/latex": [
       "$$\\left [ 1, \\quad \\frac{7}{2}, \\quad \\frac{37}{3}, \\quad \\frac{533}{12}, \\quad \\frac{1627}{10}, \\quad \\frac{18107}{30}, \\quad \\frac{237371}{105}\\right ]$$"
      ],
      "text/plain": [
       "⎡              533  1627  18107  237371⎤\n",
       "⎢1, 7/2, 37/3, ───, ────, ─────, ──────⎥\n",
       "⎣               12   10     30    105  ⎦"
      ]
     },
     "execution_count": 25,
     "metadata": {},
     "output_type": "execute_result"
    }
   ],
   "source": [
    "h12 = Lambda([n], binomial(2*n, n)* (harmonic(2*n) - harmonic(n)))\n",
    "h12_2 = Lambda([n], Sum(1/(k)*binomial(2*n - k, n), (k, 1, n)))\n",
    "[(h12(i).doit()) for i in range(1, 8)]         "
   ]
  },
  {
   "cell_type": "code",
   "execution_count": 26,
   "metadata": {
    "collapsed": false,
    "deletable": true,
    "editable": true
   },
   "outputs": [
    {
     "data": {
      "image/png": "[encoded data removed]",
      "text/latex": [
       "$$\\left [ 1, \\quad \\frac{7}{2}, \\quad \\frac{37}{3}, \\quad \\frac{533}{12}, \\quad \\frac{1627}{10}, \\quad \\frac{18107}{30}, \\quad \\frac{237371}{105}\\right ]$$"
      ],
      "text/plain": [
       "⎡              533  1627  18107  237371⎤\n",
       "⎢1, 7/2, 37/3, ───, ────, ─────, ──────⎥\n",
       "⎣               12   10     30    105  ⎦"
      ]
     },
     "execution_count": 26,
     "metadata": {},
     "output_type": "execute_result"
    }
   ],
   "source": [
    "[(h12_2(i).doit()) for i in range(1, 8)] "
   ]
  },
  {
   "cell_type": "markdown",
   "metadata": {
    "deletable": true,
    "editable": true
   },
   "source": [
    "### Teorema 3\n",
    "\\begin{equation}\n",
    "\\sum_{n=1}^\\infty\\,\\binom{2n}{n}(H_{2n} - H_n)\\,x^n = - \\frac{1}{\\sqrt{1-4x}}\\,\\ln\\left(\\frac{1+\\sqrt{1 -4x}}{2}\\right) = \\frac{1}{\\sqrt{1 -4x}}\\ln C(x), \\\n",
    "\\end{equation}\n",
    "where $C(x)$ is the generating function of the Catalan numbers."
   ]
  },
  {
   "cell_type": "code",
   "execution_count": 27,
   "metadata": {
    "collapsed": false,
    "deletable": true,
    "editable": true
   },
   "outputs": [
    {
     "data": {
      "image/png": "[encoded data removed]",
      "text/latex": [
       "$$\\left [ 1, \\quad \\frac{7}{2}, \\quad \\frac{37}{3}, \\quad \\frac{533}{12}, \\quad \\frac{1627}{10}, \\quad \\frac{18107}{30}, \\quad \\frac{237371}{105}\\right ]$$"
      ],
      "text/plain": [
       "⎡              533  1627  18107  237371⎤\n",
       "⎢1, 7/2, 37/3, ───, ────, ─────, ──────⎥\n",
       "⎣               12   10     30    105  ⎦"
      ]
     },
     "execution_count": 27,
     "metadata": {},
     "output_type": "execute_result"
    }
   ],
   "source": [
    "h13 = Lambda([n], binomial(2*n, n)* (harmonic(2*n) - harmonic(n)))\n",
    "h13_1 = Lambda([n], -1/sqrt(1-4*x)*ln((1+sqrt(1-4*x))/2))\n",
    "h13_2 = Lambda([x], 1/sqrt(1-4*x)*ln(CN(x)))\n",
    "[(h13(i).doit()) for i in range(1, 8)] "
   ]
  },
  {
   "cell_type": "code",
   "execution_count": 28,
   "metadata": {
    "collapsed": false,
    "deletable": true,
    "editable": true
   },
   "outputs": [
    {
     "data": {
      "image/png": "[encoded data removed]",
      "text/latex": [
       "$$x + \\frac{7 x^{2}}{2} + \\frac{37 x^{3}}{3} + \\frac{533 x^{4}}{12} + \\frac{1627 x^{5}}{10} + \\frac{18107 x^{6}}{30} + \\frac{237371 x^{7}}{105} + \\mathcal{O}\\left(x^{8}\\right)$$"
      ],
      "text/plain": [
       "       2       3        4         5          6           7        \n",
       "    7⋅x    37⋅x    533⋅x    1627⋅x    18107⋅x    237371⋅x     ⎛ 8⎞\n",
       "x + ──── + ───── + ────── + ─────── + ──────── + ───────── + O⎝x ⎠\n",
       "     2       3       12        10        30         105           "
      ]
     },
     "execution_count": 28,
     "metadata": {},
     "output_type": "execute_result"
    }
   ],
   "source": [
    "series(h13_1(x), x, n = 8)"
   ]
  },
  {
   "cell_type": "markdown",
   "metadata": {
    "deletable": true,
    "editable": true
   },
   "source": [
    "\\begin{equation} \n",
    " \\sum_{n=1}^\\infty\\,C_n(H_{2n} - H_n)\\,x^n =  \\frac{1}{2x}\\left[(1-\\sqrt{1-4x}) + (1 + \\sqrt{1 -4x})\\ln\\left(\\frac{1+\\sqrt{1 -4x}}{2}\\right)\\right]. \\end{equation}"
   ]
  },
  {
   "cell_type": "code",
   "execution_count": 29,
   "metadata": {
    "collapsed": false,
    "deletable": true,
    "editable": true
   },
   "outputs": [
    {
     "data": {
      "image/png": "[encoded data removed]",
      "text/latex": [
       "$$\\left [ \\frac{1}{2}, \\quad \\frac{7}{6}, \\quad \\frac{37}{12}, \\quad \\frac{533}{60}, \\quad \\frac{1627}{60}, \\quad \\frac{18107}{210}, \\quad \\frac{237371}{840}\\right ]$$"
      ],
      "text/plain": [
       "⎡          37  533  1627  18107  237371⎤\n",
       "⎢1/2, 7/6, ──, ───, ────, ─────, ──────⎥\n",
       "⎣          12   60   60    210    840  ⎦"
      ]
     },
     "execution_count": 29,
     "metadata": {},
     "output_type": "execute_result"
    }
   ],
   "source": [
    "h14 = Lambda([n], catalan(n)*(harmonic(2*n) - harmonic(n)))\n",
    "[(h14(i).doit()) for i in range(1, 8)] "
   ]
  },
  {
   "cell_type": "code",
   "execution_count": 30,
   "metadata": {
    "collapsed": false,
    "deletable": true,
    "editable": true
   },
   "outputs": [
    {
     "data": {
      "image/png": "[encoded data removed]",
      "text/latex": [
       "$$\\frac{x}{2} + \\frac{7 x^{2}}{6} + \\frac{37 x^{3}}{12} + \\frac{533 x^{4}}{60} + \\frac{1627 x^{5}}{60} + \\frac{18107 x^{6}}{210} + \\frac{237371 x^{7}}{840} + \\mathcal{O}\\left(x^{8}\\right)$$"
      ],
      "text/plain": [
       "       2       3        4         5          6           7        \n",
       "x   7⋅x    37⋅x    533⋅x    1627⋅x    18107⋅x    237371⋅x     ⎛ 8⎞\n",
       "─ + ──── + ───── + ────── + ─────── + ──────── + ───────── + O⎝x ⎠\n",
       "2    6       12      60        60       210         840           "
      ]
     },
     "execution_count": 30,
     "metadata": {},
     "output_type": "execute_result"
    }
   ],
   "source": [
    "h14_expr = Lambda([x], 1/(2*x) *((1-sqrt(1-4*x)) + (1 + sqrt(1 - 4*x)) * ln((1+sqrt(1-4*x))/2)))\n",
    "series(h14_expr(x).doit(), x, n = 8)"
   ]
  },
  {
   "cell_type": "markdown",
   "metadata": {
    "deletable": true,
    "editable": true
   },
   "source": [
    "Next, dividing both sides by $x$ and then integrating from $0$ to $x$, we find that\n",
    "$$\\sum_{n=1}^\\infty\\,\\binom{2n}{n}\\,\\frac{x^n}{n} = -2 \\ln\\left(\\frac{1+\\sqrt{1- 4x}}{2}\\right) = 2\\ln C(x).$$"
   ]
  },
  {
   "cell_type": "code",
   "execution_count": 31,
   "metadata": {
    "collapsed": false,
    "deletable": true,
    "editable": true
   },
   "outputs": [
    {
     "data": {
      "image/png": "[encoded data removed]",
      "text/latex": [
       "$$\\left [ 2, \\quad 3, \\quad \\frac{20}{3}, \\quad \\frac{35}{2}, \\quad \\frac{252}{5}, \\quad 154, \\quad \\frac{3432}{7}\\right ]$$"
      ],
      "text/plain": [
       "[2, 3, 20/3, 35/2, 252/5, 154, 3432/7]"
      ]
     },
     "execution_count": 31,
     "metadata": {},
     "output_type": "execute_result"
    }
   ],
   "source": [
    "h15 = Lambda([n], binomial(2*n, n)/n)\n",
    "[(h15(i).doit()) for i in range(1, 8)] "
   ]
  },
  {
   "cell_type": "code",
   "execution_count": 32,
   "metadata": {
    "collapsed": false,
    "deletable": true,
    "editable": true
   },
   "outputs": [
    {
     "data": {
      "image/png": "[encoded data removed]",
      "text/latex": [
       "$$2 x + 3 x^{2} + \\frac{20 x^{3}}{3} + \\frac{35 x^{4}}{2} + \\frac{252 x^{5}}{5} + 154 x^{6} + \\frac{3432 x^{7}}{7} + \\mathcal{O}\\left(x^{8}\\right)$$"
      ],
      "text/plain": [
       "                 3       4        5                  7        \n",
       "         2   20⋅x    35⋅x    252⋅x         6   3432⋅x     ⎛ 8⎞\n",
       "2⋅x + 3⋅x  + ───── + ───── + ────── + 154⋅x  + ─────── + O⎝x ⎠\n",
       "               3       2       5                  7           "
      ]
     },
     "execution_count": 32,
     "metadata": {},
     "output_type": "execute_result"
    }
   ],
   "source": [
    "h15_expr = Lambda([x], -2* ln((1+sqrt(1-4*x))/2))\n",
    "series(h15_expr(x).doit(), x, n = 8)"
   ]
  },
  {
   "cell_type": "markdown",
   "metadata": {
    "collapsed": true,
    "deletable": true,
    "editable": true
   },
   "source": [
    "\\begin{equation}\n",
    "\\sum_{n=1}^\\infty\\,\\binom{2n}{n}(H_{2n} - H_n)\\,\\frac{x^n}{n} = - \\int_0^x\\,\\frac{1}{t\\sqrt{1-4t}}\\,\\ln\\left(\\frac{1+\\sqrt{1 -4t}}{2}\\right)\\,dt.\n",
    "\\end{equation}"
   ]
  },
  {
   "cell_type": "code",
   "execution_count": 33,
   "metadata": {
    "collapsed": false,
    "deletable": true,
    "editable": true
   },
   "outputs": [
    {
     "data": {
      "image/png": "[encoded data removed]",
      "text/latex": [
       "$$\\left [ 1, \\quad \\frac{7}{4}, \\quad \\frac{37}{9}, \\quad \\frac{533}{48}, \\quad \\frac{1627}{50}, \\quad \\frac{18107}{180}, \\quad \\frac{237371}{735}\\right ]$$"
      ],
      "text/plain": [
       "⎡              533  1627  18107  237371⎤\n",
       "⎢1, 7/4, 37/9, ───, ────, ─────, ──────⎥\n",
       "⎣               48   50    180    735  ⎦"
      ]
     },
     "execution_count": 33,
     "metadata": {},
     "output_type": "execute_result"
    }
   ],
   "source": [
    "h16 = Lambda([n], binomial(2*n, n)*(harmonic(2*n) - harmonic(n))/n)\n",
    "[(h16(i).doit()) for i in range(1, 8)] "
   ]
  },
  {
   "cell_type": "code",
   "execution_count": 34,
   "metadata": {
    "collapsed": false,
    "deletable": true,
    "editable": true
   },
   "outputs": [
    {
     "data": {
      "image/png": "[encoded data removed]",
      "text/latex": [
       "$$\\left( x \\mapsto - \\int_{0}^{x} \\frac{\\log{\\left (\\frac{1}{2} \\sqrt{- 4 t + 1} + \\frac{1}{2} \\right )}}{t \\sqrt{- 4 t + 1}}\\, dt \\right)$$"
      ],
      "text/plain": [
       "     x                         \n",
       "     ⌠                         \n",
       "     ⎮    ⎛  __________    ⎞   \n",
       "     ⎮    ⎜╲╱ -4⋅t + 1    1⎟   \n",
       "     ⎮ log⎜──────────── + ─⎟   \n",
       "     ⎮    ⎝     2         2⎠   \n",
       "x ↦ -⎮ ───────────────────── dt\n",
       "     ⎮         __________      \n",
       "     ⎮     t⋅╲╱ -4⋅t + 1       \n",
       "     ⌡                         \n",
       "     0                         "
      ]
     },
     "execution_count": 34,
     "metadata": {},
     "output_type": "execute_result"
    }
   ],
   "source": [
    "h16_expr = Lambda([x], -Integral(1/(t*sqrt(1-4*t))*ln((1+ sqrt(1-4*t))/2),(t,0,x)))\n",
    "h16_expr"
   ]
  },
  {
   "cell_type": "markdown",
   "metadata": {
    "deletable": true,
    "editable": true
   },
   "source": [
    "\\begin{equation}     \n",
    "\\sum_{n=1}^\\infty\\,\\binom{2n}{n}(H_{2n-1} - H_n)\\frac{x^{n}}{n} = \\ln^2C(x).\n",
    "\\end{equation}"
   ]
  },
  {
   "cell_type": "code",
   "execution_count": 35,
   "metadata": {
    "collapsed": false,
    "deletable": true,
    "editable": true
   },
   "outputs": [
    {
     "data": {
      "image/png": "[encoded data removed]",
      "text/latex": [
       "$$\\left [ 0, \\quad 1, \\quad 3, \\quad \\frac{107}{12}, \\quad \\frac{55}{2}, \\quad \\frac{15797}{180}, \\quad \\frac{4319}{15}\\right ]$$"
      ],
      "text/plain": [
       "⎡         107        15797  4319⎤\n",
       "⎢0, 1, 3, ───, 55/2, ─────, ────⎥\n",
       "⎣          12         180    15 ⎦"
      ]
     },
     "execution_count": 35,
     "metadata": {},
     "output_type": "execute_result"
    }
   ],
   "source": [
    "h17 = Lambda([n], binomial(2*n, n)*(harmonic(2*n - 1) - harmonic(n))/n)\n",
    "[(h17(i).doit()) for i in range(1, 8)] "
   ]
  },
  {
   "cell_type": "code",
   "execution_count": 36,
   "metadata": {
    "collapsed": false,
    "deletable": true,
    "editable": true
   },
   "outputs": [
    {
     "data": {
      "image/png": "[encoded data removed]",
      "text/latex": [
       "$$x^{2} + 3 x^{3} + \\frac{107 x^{4}}{12} + \\frac{55 x^{5}}{2} + \\frac{15797 x^{6}}{180} + \\frac{4319 x^{7}}{15} + \\mathcal{O}\\left(x^{8}\\right)$$"
      ],
      "text/plain": [
       "                 4       5          6         7        \n",
       " 2      3   107⋅x    55⋅x    15797⋅x    4319⋅x     ⎛ 8⎞\n",
       "x  + 3⋅x  + ────── + ───── + ──────── + ─────── + O⎝x ⎠\n",
       "              12       2       180         15          "
      ]
     },
     "execution_count": 36,
     "metadata": {},
     "output_type": "execute_result"
    }
   ],
   "source": [
    "h17_expr = Lambda([n], ln((1-sqrt(1-4*x))/(2*x))**2)\n",
    "series(h17_expr(x).doit(), x, n = 8)"
   ]
  },
  {
   "cell_type": "markdown",
   "metadata": {
    "deletable": true,
    "editable": true
   },
   "source": [
    "\\begin{equation}  \n",
    "\\sum_{n=1}^\\infty\\,\\binom{2n}{n}H_{2n}\\,x^n =  \\frac{1}{\\sqrt{1-4x}}\\left[\\ln\\left(\\frac{1+\\sqrt{1 -4x}}{2}\\right) -2\\ln\\sqrt{1-4x}\\right].\n",
    "\\end{equation}"
   ]
  },
  {
   "cell_type": "code",
   "execution_count": 37,
   "metadata": {
    "collapsed": false,
    "deletable": true,
    "editable": true
   },
   "outputs": [
    {
     "data": {
      "image/png": "[encoded data removed]",
      "text/latex": [
       "$$\\left [ 3, \\quad \\frac{25}{2}, \\quad 49, \\quad \\frac{761}{4}, \\quad \\frac{7381}{10}, \\quad \\frac{86021}{30}, \\quad \\frac{1171733}{105}\\right ]$$"
      ],
      "text/plain": [
       "⎡                    7381  86021  1171733⎤\n",
       "⎢3, 25/2, 49, 761/4, ────, ─────, ───────⎥\n",
       "⎣                     10     30     105  ⎦"
      ]
     },
     "execution_count": 37,
     "metadata": {},
     "output_type": "execute_result"
    }
   ],
   "source": [
    "h18 = Lambda([n], binomial(2*n, n)*harmonic(2*n))\n",
    "[(h18(i).doit()) for i in range(1, 8)] "
   ]
  },
  {
   "cell_type": "code",
   "execution_count": 38,
   "metadata": {
    "collapsed": false,
    "deletable": true,
    "editable": true
   },
   "outputs": [
    {
     "data": {
      "image/png": "[encoded data removed]",
      "text/latex": [
       "$$3 x + \\frac{25 x^{2}}{2} + 49 x^{3} + \\frac{761 x^{4}}{4} + \\frac{7381 x^{5}}{10} + \\frac{86021 x^{6}}{30} + \\frac{1171733 x^{7}}{105} + \\mathcal{O}\\left(x^{8}\\right)$$"
      ],
      "text/plain": [
       "          2                4         5          6            7        \n",
       "      25⋅x        3   761⋅x    7381⋅x    86021⋅x    1171733⋅x     ⎛ 8⎞\n",
       "3⋅x + ───── + 49⋅x  + ────── + ─────── + ──────── + ────────── + O⎝x ⎠\n",
       "        2               4         10        30         105            "
      ]
     },
     "execution_count": 38,
     "metadata": {},
     "output_type": "execute_result"
    }
   ],
   "source": [
    "h18_expr = Lambda([n], 1/(sqrt(1-4*x))*(ln((1+sqrt(1-4*x))/2) - 2*ln(sqrt(1-4*x))))\n",
    "series(h18_expr(x).doit(), x, n = 8)"
   ]
  },
  {
   "cell_type": "markdown",
   "metadata": {
    "deletable": true,
    "editable": true
   },
   "source": [
    "\\begin{equation}  \n",
    "\\sum_{n=1}^\\infty\\,C_nH_{2n}\\,x^n =  \\frac{1}{2x}\\left[(1-\\sqrt{1-4x}) - (1 + \\sqrt{1 -4x})\\ln(1+\\sqrt{1 -4x}) + \\ln 2 + \\sqrt{1-4x}\\ln(2-8x)\\right]. \n",
    "\\end{equation}"
   ]
  },
  {
   "cell_type": "code",
   "execution_count": 39,
   "metadata": {
    "collapsed": false,
    "deletable": true,
    "editable": true
   },
   "outputs": [
    {
     "data": {
      "image/png": "[encoded data removed]",
      "text/latex": [
       "$$\\left [ \\frac{3}{2}, \\quad \\frac{25}{6}, \\quad \\frac{49}{4}, \\quad \\frac{761}{20}, \\quad \\frac{7381}{60}, \\quad \\frac{86021}{210}, \\quad \\frac{1171733}{840}\\right ]$$"
      ],
      "text/plain": [
       "⎡                 761  7381  86021  1171733⎤\n",
       "⎢3/2, 25/6, 49/4, ───, ────, ─────, ───────⎥\n",
       "⎣                  20   60    210     840  ⎦"
      ]
     },
     "execution_count": 39,
     "metadata": {},
     "output_type": "execute_result"
    }
   ],
   "source": [
    "h19 = Lambda([n], catalan(n)*harmonic(2*n))\n",
    "[(h19(i).doit()) for i in range(1, 8)] "
   ]
  },
  {
   "cell_type": "code",
   "execution_count": 40,
   "metadata": {
    "collapsed": false,
    "deletable": true,
    "editable": true
   },
   "outputs": [
    {
     "data": {
      "image/png": "[encoded data removed]",
      "text/latex": [
       "$$\\frac{3 x}{2} + \\frac{25 x^{2}}{6} + \\frac{49 x^{3}}{4} + \\frac{761 x^{4}}{20} + \\frac{7381 x^{5}}{60} + \\frac{86021 x^{6}}{210} + \\frac{1171733 x^{7}}{840} + \\mathcal{O}\\left(x^{8}\\right)$$"
      ],
      "text/plain": [
       "          2       3        4         5          6            7        \n",
       "3⋅x   25⋅x    49⋅x    761⋅x    7381⋅x    86021⋅x    1171733⋅x     ⎛ 8⎞\n",
       "─── + ───── + ───── + ────── + ─────── + ──────── + ────────── + O⎝x ⎠\n",
       " 2      6       4       20        60       210         840            "
      ]
     },
     "execution_count": 40,
     "metadata": {},
     "output_type": "execute_result"
    }
   ],
   "source": [
    "h19_expr = Lambda([n], 1/(2*x)*((1-sqrt(1-4*x))-(1+sqrt(1-4*x))*ln(1+sqrt(1-4*x))+ln(2)+sqrt(1-4*x)*ln(2-8*x)))\n",
    "series(h19_expr(x).doit(), x, n = 8)"
   ]
  },
  {
   "cell_type": "markdown",
   "metadata": {
    "deletable": true,
    "editable": true
   },
   "source": [
    "\\begin{equation}  \n",
    "\\sum_{n=1}^\\infty\\,\\binom{2n}{n}h_n\\,x^n =  -\\,\\frac{1}{\\sqrt{1-4x}}\\ln\\sqrt{1-4x}. \n",
    "\\end{equation}"
   ]
  },
  {
   "cell_type": "code",
   "execution_count": 41,
   "metadata": {
    "collapsed": false,
    "deletable": true,
    "editable": true
   },
   "outputs": [
    {
     "data": {
      "image/png": "[encoded data removed]",
      "text/latex": [
       "$$\\left [ 2, \\quad 8, \\quad \\frac{92}{3}, \\quad \\frac{352}{3}, \\quad \\frac{2252}{5}, \\quad \\frac{26032}{15}, \\quad \\frac{704552}{105}\\right ]$$"
      ],
      "text/plain": [
       "⎡                           26032  704552⎤\n",
       "⎢2, 8, 92/3, 352/3, 2252/5, ─────, ──────⎥\n",
       "⎣                             15    105  ⎦"
      ]
     },
     "execution_count": 41,
     "metadata": {},
     "output_type": "execute_result"
    }
   ],
   "source": [
    "h20 = Lambda([n], binomial(2*n, n)*h_n(n))\n",
    "[(h20(i).doit()) for i in range(1, 8)] "
   ]
  },
  {
   "cell_type": "code",
   "execution_count": 42,
   "metadata": {
    "collapsed": false,
    "deletable": true,
    "editable": true
   },
   "outputs": [
    {
     "data": {
      "image/png": "[encoded data removed]",
      "text/latex": [
       "$$2 x + 8 x^{2} + \\frac{92 x^{3}}{3} + \\frac{352 x^{4}}{3} + \\frac{2252 x^{5}}{5} + \\frac{26032 x^{6}}{15} + \\frac{704552 x^{7}}{105} + \\mathcal{O}\\left(x^{8}\\right)$$"
      ],
      "text/plain": [
       "                 3        4         5          6           7        \n",
       "         2   92⋅x    352⋅x    2252⋅x    26032⋅x    704552⋅x     ⎛ 8⎞\n",
       "2⋅x + 8⋅x  + ───── + ────── + ─────── + ──────── + ───────── + O⎝x ⎠\n",
       "               3       3         5         15         105           "
      ]
     },
     "execution_count": 42,
     "metadata": {},
     "output_type": "execute_result"
    }
   ],
   "source": [
    "h20_expr = Lambda([n], -1/(sqrt(1-4*x))*ln(sqrt(1-4*x)))\n",
    "series(h20_expr(x).doit(), x, n = 8)"
   ]
  },
  {
   "cell_type": "markdown",
   "metadata": {
    "deletable": true,
    "editable": true
   },
   "source": [
    "\\begin{equation} \n",
    "\\sum_{n=1}^\\infty\\,C_nh_{n}\\,x^n =  \\frac{1}{2x}\\left(1-\\sqrt{1-4x} + \\sqrt{1-4x}\\ln\\sqrt{1-4x}\\right).\n",
    "\\end{equation}"
   ]
  },
  {
   "cell_type": "code",
   "execution_count": 43,
   "metadata": {
    "collapsed": false,
    "deletable": true,
    "editable": true
   },
   "outputs": [
    {
     "data": {
      "image/png": "[encoded data removed]",
      "text/latex": [
       "$$\\left [ 1, \\quad \\frac{8}{3}, \\quad \\frac{23}{3}, \\quad \\frac{352}{15}, \\quad \\frac{1126}{15}, \\quad \\frac{26032}{105}, \\quad \\frac{88069}{105}\\right ]$$"
      ],
      "text/plain": [
       "⎡              352  1126  26032  88069⎤\n",
       "⎢1, 8/3, 23/3, ───, ────, ─────, ─────⎥\n",
       "⎣               15   15    105    105 ⎦"
      ]
     },
     "execution_count": 43,
     "metadata": {},
     "output_type": "execute_result"
    }
   ],
   "source": [
    "h21 = Lambda([n], catalan(n)*h_n(n))\n",
    "[(h21(i).doit()) for i in range(1, 8)] "
   ]
  },
  {
   "cell_type": "code",
   "execution_count": 44,
   "metadata": {
    "collapsed": false,
    "deletable": true,
    "editable": true
   },
   "outputs": [
    {
     "data": {
      "image/png": "[encoded data removed]",
      "text/latex": [
       "$$x + \\frac{8 x^{2}}{3} + \\frac{23 x^{3}}{3} + \\frac{352 x^{4}}{15} + \\frac{1126 x^{5}}{15} + \\frac{26032 x^{6}}{105} + \\frac{88069 x^{7}}{105} + \\mathcal{O}\\left(x^{8}\\right)$$"
      ],
      "text/plain": [
       "       2       3        4         5          6          7        \n",
       "    8⋅x    23⋅x    352⋅x    1126⋅x    26032⋅x    88069⋅x     ⎛ 8⎞\n",
       "x + ──── + ───── + ────── + ─────── + ──────── + ──────── + O⎝x ⎠\n",
       "     3       3       15        15       105        105           "
      ]
     },
     "execution_count": 44,
     "metadata": {},
     "output_type": "execute_result"
    }
   ],
   "source": [
    "h21_expr = Lambda([n], 1/(2*x)*(1-sqrt(1-4*x)+sqrt(1-4*x)*ln(sqrt(1-4*x))))\n",
    "series(h21_expr(x).doit(), x, n = 8)"
   ]
  },
  {
   "cell_type": "markdown",
   "metadata": {
    "deletable": true,
    "editable": true
   },
   "source": [
    "# Interesting series\n",
    "\n",
    "\\begin{eqnarray*}\n",
    "\\sum_{n=1}^\\infty\\,\\frac{(-1)^n}{4^n}\\,\\binom{2n}{n}H_n& = & \\sqrt{2}\\ln\\left(\\frac{2 + \\sqrt{2}}{4}\\right)\n",
    "\\end{eqnarray*}\n",
    "\n",
    "Converge molto lentamente"
   ]
  },
  {
   "cell_type": "code",
   "execution_count": 74,
   "metadata": {
    "collapsed": false,
    "deletable": true,
    "editable": true
   },
   "outputs": [
    {
     "data": {
      "image/png": "[encoded data removed]",
      "text/plain": [
       "<matplotlib.figure.Figure at 0x11dffd8d0>"
      ]
     },
     "metadata": {},
     "output_type": "display_data"
    }
   ],
   "source": [
    "%matplotlib inline\n",
    "N = symbols('N', integer = True)\n",
    "s1 = Lambda([n, N], Sum((-1)**n/4**n*binomial(2*n,n)*harmonic(n), (n, 1, N)))\n",
    "s1_expr = sqrt(2)*ln((2+sqrt(2))/4)\n",
    "plt.plot([s1_expr.evalf()]*105, 'g')\n",
    "plt.plot([s1(n, N) for N in range(1, 105)])\n",
    "plt.draw()"
   ]
  },
  {
   "cell_type": "markdown",
   "metadata": {
    "deletable": true,
    "editable": true
   },
   "source": [
    "\\begin{eqnarray*}\n",
    "\\sum_{n=1}^\\infty\\,\\frac{1}{8^n}\\,\\binom{2n}{n}H_n & = & 2\\sqrt{2}\\ln\\left(\\frac{1 + \\sqrt{2}}{2}\\right),\\\\\n",
    "\\end{eqnarray*}"
   ]
  },
  {
   "cell_type": "code",
   "execution_count": 75,
   "metadata": {
    "collapsed": false,
    "deletable": true,
    "editable": true
   },
   "outputs": [
    {
     "data": {
      "image/png": "[encoded data removed]",
      "text/plain": [
       "<matplotlib.figure.Figure at 0x11e32fd90>"
      ]
     },
     "metadata": {},
     "output_type": "display_data"
    }
   ],
   "source": [
    "%matplotlib inline\n",
    "N = symbols('N', integer = True)\n",
    "s2 = Lambda([n, N], Sum( 1/8**n*binomial(2*n,n)*harmonic(n), (n, 1, N)))\n",
    "s2_expr = 2*sqrt(2)*ln((1+sqrt(2))/2)\n",
    "plt.plot([s2_expr.evalf()]*24, 'g')\n",
    "plt.plot([s2(n, N) for N in range(0, 24)])\n",
    "plt.show()"
   ]
  },
  {
   "cell_type": "markdown",
   "metadata": {
    "deletable": true,
    "editable": true
   },
   "source": [
    "$$\n",
    "\\sum_{n=1}^\\infty\\,\\frac{1}{4^n(n+1)}\\,\\binom{2n}{n}H_n = \\sum_{n=1}^\\infty\\,\\frac{1}{4^n}\\,C_nH_n = 4\\ln 2,\n",
    "$$"
   ]
  },
  {
   "cell_type": "code",
   "execution_count": 76,
   "metadata": {
    "collapsed": false,
    "deletable": true,
    "editable": true
   },
   "outputs": [
    {
     "data": {
      "image/png": "[encoded data removed]",
      "text/plain": [
       "<matplotlib.figure.Figure at 0x11e057110>"
      ]
     },
     "metadata": {},
     "output_type": "display_data"
    }
   ],
   "source": [
    "%matplotlib inline\n",
    "N = symbols('N', integer = True)\n",
    "s3 = Lambda([n, N], Sum( 1/4**n*catalan(n)*harmonic(n), (n, 1, N)))\n",
    "s3_expr = 4*ln(2)\n",
    "plt.plot([s3_expr.evalf()]*105, 'g')\n",
    "plt.plot([s3(n, N) for N in range(1, 105)])\n",
    "plt.show()"
   ]
  },
  {
   "cell_type": "markdown",
   "metadata": {
    "deletable": true,
    "editable": true
   },
   "source": [
    "$$\n",
    "\\sum_{n=1}^\\infty\\,\\frac{(-1)^{n+1}}{4^n(n+1)}\\,\\binom{2n}{n}H_n = \\sum_{n=1}^\\infty\\,\\frac{(-1)^{n+1}}{4^n}\\,C_nH_n = (4+6\\sqrt{2})\\ln 2  - 4(1+\\sqrt{2})\\ln(1 + \\sqrt{2}). \n",
    "$$"
   ]
  },
  {
   "cell_type": "code",
   "execution_count": 84,
   "metadata": {
    "collapsed": false,
    "deletable": true,
    "editable": true
   },
   "outputs": [
    {
     "data": {
      "image/png": "[encoded data removed]",
      "text/plain": [
       "<matplotlib.figure.Figure at 0x11ed88a10>"
      ]
     },
     "metadata": {},
     "output_type": "display_data"
    }
   ],
   "source": [
    "%matplotlib inline\n",
    "N = symbols('N', integer = True)\n",
    "s4 = Lambda([n, N], Sum( (-1)**(n+1)/4**n*catalan(n)*harmonic(n), (n, 1, N)))\n",
    "s4_expr = (4+6*sqrt(2))*ln(2)- 4*(1+sqrt(2))*ln(1+sqrt(2))\n",
    "plt.plot([s4_expr.evalf()]*105, 'g')\n",
    "plt.plot([s4(n, N) for N in range(1, 105)])\n",
    "plt.show()"
   ]
  },
  {
   "cell_type": "markdown",
   "metadata": {
    "deletable": true,
    "editable": true
   },
   "source": [
    "\\begin{eqnarray*}\n",
    "\\sum_{n=1}^\\infty\\,\\frac{1}{8^n}\\,\\binom{2n}{n}(H_{2n} - H_n) & = & \\sqrt{2}\\ln(4 - 2\\sqrt{2})\n",
    "\\end{eqnarray*}"
   ]
  },
  {
   "cell_type": "code",
   "execution_count": 85,
   "metadata": {
    "collapsed": false,
    "deletable": true,
    "editable": true
   },
   "outputs": [
    {
     "data": {
      "image/png": "[encoded data removed]",
      "text/plain": [
       "<matplotlib.figure.Figure at 0x11eac1d90>"
      ]
     },
     "metadata": {},
     "output_type": "display_data"
    }
   ],
   "source": [
    "%matplotlib inline\n",
    "N = symbols('N', integer = True)\n",
    "s5 = Lambda([n, N], Sum( 1/8**n*binomial(2*n, n)*(harmonic(2*n) - harmonic(n)), (n, 1, N)))\n",
    "s5_expr = sqrt(2) * ln(4-2*sqrt(2))\n",
    "plt.plot([s5_expr.evalf()]*23, 'g')\n",
    "plt.plot([s5(n, N) for N in range(1, 24)])\n",
    "plt.show()"
   ]
  },
  {
   "cell_type": "markdown",
   "metadata": {
    "deletable": true,
    "editable": true
   },
   "source": [
    "\\begin{eqnarray*}\n",
    "\\sum_{n=1}^\\infty\\,\\frac{1}{4^n}\\,C_nh_{n} & = & 2\n",
    "\\end{eqnarray*}"
   ]
  },
  {
   "cell_type": "code",
   "execution_count": 86,
   "metadata": {
    "collapsed": false,
    "deletable": true,
    "editable": true
   },
   "outputs": [
    {
     "data": {
      "image/png": "[encoded data removed]",
      "text/plain": [
       "<matplotlib.figure.Figure at 0x11e7d0bd0>"
      ]
     },
     "metadata": {},
     "output_type": "display_data"
    }
   ],
   "source": [
    "%matplotlib inline\n",
    "N = symbols('N', integer = True)\n",
    "s6 = Lambda([n, N], Sum( 1/8**n * binomial(2*n, n)*harmonic(2*n), (n, 1, N)))\n",
    "s6_expr = sqrt(2)/2 * ln((3+2*sqrt(2))/2)\n",
    "plt.plot([s6_expr.evalf()]*23, 'g')\n",
    "plt.plot([s6(n, N) for N in range(1, 24)])\n",
    "plt.show()"
   ]
  },
  {
   "cell_type": "markdown",
   "metadata": {
    "deletable": true,
    "editable": true
   },
   "source": [
    "In particular, letting $x = (1+ \\sqrt{5})/16$ and $ x = (1-\\sqrt{5})/16$ , respectively, in view of the fact that\n",
    "$$\\sqrt{3 \\pm\\sqrt{5}} = \\frac{\\sqrt{2}}{2}\\,(\\sqrt{5} \\pm 1)$$\n",
    "and Binet's formula\n",
    "$$F_n = \\frac{1}{\\sqrt{5}}\\left[\\left(\\frac{1+\\sqrt{5}}{2}\\right)^n - \\left(\\frac{1-\\sqrt{5}}{2}\\right)^n\\right],$$\n",
    "we find that\n",
    "$$\\sum_{n=1}^\\infty\\,\\frac{1}{8^n}\\binom{2n}{n}h_nF_n = \\frac{1}{\\sqrt{10}}\\,\\ln 2 + \\frac{1}{\\sqrt{2}}\\ln\\left(\\frac{3 + \\sqrt{5}}{2}\\right),$$"
   ]
  },
  {
   "cell_type": "code",
   "execution_count": 88,
   "metadata": {
    "collapsed": false,
    "deletable": true,
    "editable": true
   },
   "outputs": [
    {
     "data": {
      "image/png": "[encoded data removed]",
      "text/plain": [
       "<matplotlib.figure.Figure at 0x11e50ad10>"
      ]
     },
     "metadata": {},
     "output_type": "display_data"
    }
   ],
   "source": [
    "%matplotlib inline\n",
    "N = symbols('N', integer = True)\n",
    "FN = Lambda([n], 1/sqrt(5)*(((1+sqrt(5))/2)**n - ((1-sqrt(5))/2)**n))\n",
    "s7 = Lambda([n, N], Sum( 1/8**n * binomial(2*n, n)*h_n(n)*FN(n), (n, 1, N)))\n",
    "s7_expr = 1/sqrt(10) * ln(2) + 1/sqrt(2)*ln((3+sqrt(5))/2)\n",
    "plt.plot([s7_expr.evalf()]*30, 'g')\n",
    "plt.plot([s7(n, N) for N in range(1, 31)])\n",
    "plt.show()"
   ]
  },
  {
   "cell_type": "markdown",
   "metadata": {
    "deletable": true,
    "editable": true
   },
   "source": [
    "$$\\sum_{n=1}^\\infty\\,n{2n \\choose n}h_nx^n = \\frac{2x}{(1-4x)^{3/2}} - \\frac{x\\ln(1-4x)}{(1-4x)^{3/2}}.$$"
   ]
  },
  {
   "cell_type": "code",
   "execution_count": 122,
   "metadata": {
    "collapsed": false,
    "deletable": true,
    "editable": true
   },
   "outputs": [
    {
     "data": {
      "image/png": "[encoded data removed]",
      "text/latex": [
       "$$\\sum_{n=1}^{10} n x^{n} {\\binom{2 n}{n}} \\sum_{k=1}^{n} \\frac{1}{2 k - 1} = \\frac{248303008 x^{10}}{63} + \\frac{6373076 x^{9}}{7} + \\frac{1457152 x^{8}}{7} + \\frac{704552 x^{7}}{15} + \\frac{52064 x^{6}}{5} + 2252 x^{5} + \\frac{1408 x^{4}}{3} + 92 x^{3} + 16 x^{2} + 2 x$$"
      ],
      "text/plain": [
       "   10                                                                         \n",
       "_______                                                                       \n",
       "╲                                                                             \n",
       " ╲                   n                                                        \n",
       "  ╲                 ____                                                      \n",
       "   ╲                ╲                                                         \n",
       "    ╲                ╲      1                 10            9            8    \n",
       "     ╲     n ⎛2⋅n⎞    ╲  ───────   248303008⋅x     6373076⋅x    1457152⋅x    7\n",
       "     ╱  n⋅x ⋅⎜   ⎟⋅   ╱  2⋅k - 1 = ───────────── + ────────── + ────────── + ─\n",
       "    ╱        ⎝ n ⎠   ╱                   63            7            7         \n",
       "   ╱                ╱                                                         \n",
       "  ╱                 ‾‾‾‾                                                      \n",
       " ╱                 k = 1                                                      \n",
       "╱                                                                             \n",
       "‾‾‾‾‾‾‾                                                                       \n",
       " n = 1                                                                        \n",
       "\n",
       "                                                             \n",
       "                                                             \n",
       "                                                             \n",
       "                                                             \n",
       "                                                             \n",
       "                                                             \n",
       "       7          6                   4                      \n",
       "04552⋅x    52064⋅x          5   1408⋅x        3       2      \n",
       "──────── + ──────── + 2252⋅x  + ─────── + 92⋅x  + 16⋅x  + 2⋅x\n",
       "   15         5                    3                         \n",
       "                                                             \n",
       "                                                             \n",
       "                                                             \n",
       "                                                             \n",
       "                                                             \n",
       "                                                             "
      ]
     },
     "execution_count": 122,
     "metadata": {},
     "output_type": "execute_result"
    }
   ],
   "source": [
    "s8 = Sum(n*binomial(2*n,n)*h_n(n)*x**n, (n, 1, k))\n",
    "s8_expr = Lambda([n], 2*x/(1-4*x)**(3./2) - x*ln(1-4*x)/(1-4*x)**(3./2))\n",
    "expanded = s8.subs({k:10})\n",
    "Eq(expanded, expanded.doit())"
   ]
  },
  {
   "cell_type": "code",
   "execution_count": 120,
   "metadata": {
    "collapsed": false,
    "deletable": true,
    "editable": true
   },
   "outputs": [
    {
     "data": {
      "image/png": "[encoded data removed]",
      "text/latex": [
       "$$2 x + 16.0 x^{2} + 92.0 x^{3} + 469.333333333333 x^{4} + 2252.0 x^{5} + 10412.8 x^{6} + 46970.1333333333 x^{7} + 208164.571428571 x^{8} + 910439.428571429 x^{9} + \\mathcal{O}\\left(x^{10}\\right)$$"
      ],
      "text/plain": [
       "            2         3                     4           5            6        \n",
       "2⋅x + 16.0⋅x  + 92.0⋅x  + 469.333333333333⋅x  + 2252.0⋅x  + 10412.8⋅x  + 46970\n",
       "\n",
       "             7                     8                     9    ⎛ 10⎞\n",
       ".1333333333⋅x  + 208164.571428571⋅x  + 910439.428571429⋅x  + O⎝x  ⎠"
      ]
     },
     "execution_count": 120,
     "metadata": {},
     "output_type": "execute_result"
    }
   ],
   "source": [
    "series(s8_expr(x), x, n=10)"
   ]
  },
  {
   "cell_type": "markdown",
   "metadata": {
    "deletable": true,
    "editable": true
   },
   "source": [
    "If we set $x = 1/8$, we get\n",
    "$$\\sum_{n=1}^\\infty\\,\\frac{n}{8^n}{2n \\choose n}h_n = \\frac{1}{2}\\sqrt{2} +\\frac{1}{4}\\sqrt{2} \\ln 2.$$"
   ]
  },
  {
   "cell_type": "code",
   "execution_count": 133,
   "metadata": {
    "collapsed": false,
    "deletable": true,
    "editable": true
   },
   "outputs": [
    {
     "data": {
      "image/png": "[encoded data removed]",
      "text/plain": [
       "<matplotlib.figure.Figure at 0x11e870210>"
      ]
     },
     "metadata": {},
     "output_type": "display_data"
    }
   ],
   "source": [
    "%matplotlib inline\n",
    "N = symbols('N', integer = True)\n",
    "s9 = Lambda([n, N], Sum( n/8**n*binomial(2*n,n)*h_n(n), (n, 1, N)))\n",
    "s9_expr = 1./2* sqrt(2) + 1./4*sqrt(2)*ln(2)\n",
    "plt.plot([s9_expr.evalf()]*23, 'g')\n",
    "plt.plot([s9(n, N) for N in range(1, 24)])\n",
    "plt.show()"
   ]
  },
  {
   "cell_type": "markdown",
   "metadata": {
    "collapsed": false,
    "deletable": true,
    "editable": true
   },
   "source": [
    "\\begin{equation}\n",
    "\\sum_{n=1}^\\infty\\,\\frac{1}{4^n}\\,\\binom{2n}{n}H_n\\sin^{2n}t = \\frac{2}{\\cos t}\\,\\ln\\left(\\frac{1 + \\cos t}{2\\cos t}\\right),\n",
    "\\end{equation}\n",
    "\n",
    "# Non torna"
   ]
  },
  {
   "cell_type": "code",
   "execution_count": 144,
   "metadata": {
    "collapsed": false,
    "deletable": true,
    "editable": true
   },
   "outputs": [
    {
     "data": {
      "image/png": "[encoded data removed]",
      "text/latex": [
       "$$\\sum_{n=1}^{10} 4^{- n} \\sin^{2 n}{\\left (t \\right )} {\\binom{2 n}{n}} \\operatorname{harmonic}{\\left (n \\right )} = \\frac{340921009}{660602880} \\sin^{20}{\\left (t \\right )} + \\frac{17330599}{33030144} \\sin^{18}{\\left (t \\right )} + \\frac{979407}{1835008} \\sin^{16}{\\left (t \\right )} + \\frac{155727}{286720} \\sin^{14}{\\left (t \\right )} + \\frac{11319}{20480} \\sin^{12}{\\left (t \\right )} + \\frac{2877}{5120} \\sin^{10}{\\left (t \\right )} + \\frac{875}{1536} \\sin^{8}{\\left (t \\right )} + \\frac{55}{96} \\sin^{6}{\\left (t \\right )} + \\frac{9}{16} \\sin^{4}{\\left (t \\right )} + \\frac{1}{2} \\sin^{2}{\\left (t \\right )}$$"
      ],
      "text/plain": [
       "  10                                                                          \n",
       " ____                                                                         \n",
       " ╲                                                                            \n",
       "  ╲    -n    2⋅n    ⎛2⋅n⎞                            20                  18   \n",
       "   ╲  4  ⋅sin   (t)⋅⎜   ⎟⋅harmonic(n)   340921009⋅sin  (t)   17330599⋅sin  (t)\n",
       "   ╱                ⎝ n ⎠             = ────────────────── + ─────────────────\n",
       "  ╱                                         660602880             33030144    \n",
       " ╱                                                                            \n",
       " ‾‾‾‾                                                                         \n",
       "n = 1                                                                         \n",
       "\n",
       "                                                                              \n",
       "                                                                              \n",
       "                                                                              \n",
       "             16                14               12              10            \n",
       "   979407⋅sin  (t)   155727⋅sin  (t)   11319⋅sin  (t)   2877⋅sin  (t)   875⋅si\n",
       " + ─────────────── + ─────────────── + ────────────── + ───────────── + ──────\n",
       "       1835008            286720           20480             5120           15\n",
       "                                                                              \n",
       "                                                                              \n",
       "                                                                              \n",
       "\n",
       "                                        \n",
       "                                        \n",
       "                                        \n",
       " 8            6           4         2   \n",
       "n (t)   55⋅sin (t)   9⋅sin (t)   sin (t)\n",
       "───── + ────────── + ───────── + ───────\n",
       "36          96           16         2   \n",
       "                                        \n",
       "                                        \n",
       "                                        "
      ]
     },
     "execution_count": 144,
     "metadata": {},
     "output_type": "execute_result"
    }
   ],
   "source": [
    "s10 = Sum(1/4**n*binomial(2*n,n)*harmonic(n)*sin(t)**(2*n),(n,1,k))\n",
    "s10_expr = Lambda([t], 2/cos(t)*ln((1+cos(t))/(2*cos(t))))\n",
    "# [(s10(i)) for i in range(1, 8)] \n",
    "expanded = s10.subs({k:10})\n",
    "Eq(expanded, expanded.doit())"
   ]
  },
  {
   "cell_type": "code",
   "execution_count": 149,
   "metadata": {
    "collapsed": false
   },
   "outputs": [
    {
     "data": {
      "image/png": "[encoded data removed]",
      "text/latex": [
       "$$\\frac{t^{2}}{2} + \\frac{19 t^{4}}{48} + \\frac{317 t^{6}}{1440} + \\frac{17363 t^{8}}{161280} + \\mathcal{O}\\left(t^{10}\\right)$$"
      ],
      "text/plain": [
       " 2       4        6          8         \n",
       "t    19⋅t    317⋅t    17363⋅t     ⎛ 10⎞\n",
       "── + ───── + ────── + ──────── + O⎝t  ⎠\n",
       "2      48     1440     161280          "
      ]
     },
     "execution_count": 149,
     "metadata": {},
     "output_type": "execute_result"
    }
   ],
   "source": [
    "series(s10_expr(t), t, n=10)"
   ]
  },
  {
   "cell_type": "markdown",
   "metadata": {},
   "source": [
    "\\begin{equation}\n",
    "\\sum_{n=1}^\\infty\\,\\frac{1}{4^{n+1}}\\,C_{n}H_n\\sin^{2(n+1)}t =\\ln 2 + \\cos t\\ln(2\\cos t) - (1 + \\cos t)\\ln(1 + \\cos t),\n",
    "\\end{equation}"
   ]
  },
  {
   "cell_type": "code",
   "execution_count": 151,
   "metadata": {
    "collapsed": false
   },
   "outputs": [
    {
     "data": {
      "image/png": "[encoded data removed]",
      "text/latex": [
       "$$\\sum_{n=1}^{10} 4^{- n - 1} \\sin^{2 n + 2}{\\left (t \\right )} C_{n} \\operatorname{harmonic}{\\left (n \\right )} = \\frac{30992819}{2642411520} \\sin^{22}{\\left (t \\right )} + \\frac{17330599}{1321205760} \\sin^{20}{\\left (t \\right )} + \\frac{108823}{7340032} \\sin^{18}{\\left (t \\right )} + \\frac{155727}{9175040} \\sin^{16}{\\left (t \\right )} + \\frac{1617}{81920} \\sin^{14}{\\left (t \\right )} + \\frac{959}{40960} \\sin^{12}{\\left (t \\right )} + \\frac{175}{6144} \\sin^{10}{\\left (t \\right )} + \\frac{55}{1536} \\sin^{8}{\\left (t \\right )} + \\frac{3}{64} \\sin^{6}{\\left (t \\right )} + \\frac{1}{16} \\sin^{4}{\\left (t \\right )}$$"
      ],
      "text/plain": [
       "  10                                                                          \n",
       " ____                                                                         \n",
       " ╲                                                                            \n",
       "  ╲    -n - 1    2⋅n + 2                                 22                  2\n",
       "   ╲  4      ⋅sin       (t)⋅C ⋅harmonic(n)   30992819⋅sin  (t)   17330599⋅sin \n",
       "   ╱                         n             = ───────────────── + ─────────────\n",
       "  ╱                                              2642411520          132120576\n",
       " ╱                                                                            \n",
       " ‾‾‾‾                                                                         \n",
       "n = 1                                                                         \n",
       "\n",
       "                                                                              \n",
       "                                                                              \n",
       "                                                                              \n",
       "0                18                16              14             12          \n",
       " (t)   108823⋅sin  (t)   155727⋅sin  (t)   1617⋅sin  (t)   959⋅sin  (t)   175⋅\n",
       "──── + ─────────────── + ─────────────── + ───────────── + ──────────── + ────\n",
       "0          7340032           9175040           81920          40960           \n",
       "                                                                              \n",
       "                                                                              \n",
       "                                                                              \n",
       "\n",
       "                                           \n",
       "                                           \n",
       "                                           \n",
       "   10            8           6         4   \n",
       "sin  (t)   55⋅sin (t)   3⋅sin (t)   sin (t)\n",
       "──────── + ────────── + ───────── + ───────\n",
       "6144          1536          64         16  \n",
       "                                           \n",
       "                                           \n",
       "                                           "
      ]
     },
     "execution_count": 151,
     "metadata": {},
     "output_type": "execute_result"
    }
   ],
   "source": [
    "s11 = Sum(1/4**(n+1)*catalan(n)*harmonic(n)*sin(t)**(2*(n+1)),(n,1,k))\n",
    "s11_expr = Lambda([t], ln(2)+cos(t)*ln(2*cos(t))-(1+cos(t))*ln(1+cos(t)))\n",
    "# [(s10(i)) for i in range(1, 8)] \n",
    "expanded = s11.subs({k:10})\n",
    "Eq(expanded, expanded.doit())"
   ]
  },
  {
   "cell_type": "code",
   "execution_count": 152,
   "metadata": {
    "collapsed": false
   },
   "outputs": [
    {
     "data": {
      "image/png": "[encoded data removed]",
      "text/latex": [
       "$$\\frac{t^{4}}{16} + \\frac{t^{6}}{192} + \\frac{11 t^{8}}{7680} + \\mathcal{O}\\left(t^{10}\\right)$$"
      ],
      "text/plain": [
       " 4     6       8         \n",
       "t     t    11⋅t     ⎛ 10⎞\n",
       "── + ─── + ───── + O⎝t  ⎠\n",
       "16   192    7680         "
      ]
     },
     "execution_count": 152,
     "metadata": {},
     "output_type": "execute_result"
    }
   ],
   "source": [
    "series(s11_expr(t), t, n=10)"
   ]
  },
  {
   "cell_type": "markdown",
   "metadata": {},
   "source": [
    "\\begin{equation}\n",
    "\\sum_{n=1}^\\infty\\,\\frac{1}{4^n(2n+1)}\\,\\binom{2n}{n}H_n = 4G - \\pi\\ln 2,\n",
    "\\end{equation}\n",
    "where $G$ is Catalan's constant, which is defined by\n",
    "$$G := \\sum_{k=0}^\\infty\\,\\frac{(-1)^k}{(2k+1)^2}.$$"
   ]
  },
  {
   "cell_type": "code",
   "execution_count": 174,
   "metadata": {
    "collapsed": false
   },
   "outputs": [
    {
     "data": {
      "image/png": "[encoded data removed]",
      "text/plain": [
       "<matplotlib.figure.Figure at 0x11e4a4cd0>"
      ]
     },
     "metadata": {},
     "output_type": "display_data"
    }
   ],
   "source": [
    "%matplotlib inline\n",
    "G = Sum((-1)**k/(2*k+1)**2,(k,0,oo))\n",
    "N = symbols('N', integer = True)\n",
    "s12 = Lambda([n, N], Sum( 1/(4**n*(2*n+1))*binomial(2*n,n)*harmonic(n), (n, 1, N)))\n",
    "s12_expr = 4*G.evalf()- pi*ln(2)\n",
    "plt.plot([s12_expr.evalf()]*100, 'g')\n",
    "plt.plot([s12(n, N) for N in range(1, 100)])\n",
    "plt.show()"
   ]
  },
  {
   "cell_type": "code",
   "execution_count": null,
   "metadata": {
    "collapsed": true
   },
   "outputs": [],
   "source": []
  }
 ],
 "metadata": {
  "celltoolbar": "Raw Cell Format",
  "kernelspec": {
   "display_name": "Python 2",
   "language": "python",
   "name": "python2"
  },
  "language_info": {
   "codemirror_mode": {
    "name": "ipython",
    "version": 2
   },
   "file_extension": ".py",
   "mimetype": "text/x-python",
   "name": "python",
   "nbconvert_exporter": "python",
   "pygments_lexer": "ipython2",
   "version": "2.7.13"
  }
 },
 "nbformat": 4,
 "nbformat_minor": 2
}
