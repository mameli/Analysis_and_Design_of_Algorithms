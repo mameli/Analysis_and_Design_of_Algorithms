{
 "cells": [
  {
   "cell_type": "markdown",
   "metadata": {
    "deletable": true,
    "editable": true
   },
   "source": [
    "<p>\n",
    "<img src=\"http://www.cerm.unifi.it/chianti/images/logo%20unifi_positivo.jpg\" \n",
    "        alt=\"UniFI logo\" style=\"float: left; width: 20%; height: 20%;\">\n",
    "<div align=\"right\">\n",
    "Massimo Nocentini<br>\n",
    "<small>\n",
    "<br>November 29, 2016: class\n",
    "</small>\n",
    "</div>\n",
    "</p>\n",
    "<br>\n",
    "<br>\n",
    "<div align=\"center\">\n",
    "<b>Abstract</b><br>\n",
    "Lecture notes of today (November 29, 2016) class in Python about frequences, ChiSquared distribution and statistical tests.\n",
    "</div>"
   ]
  },
  {
   "cell_type": "code",
   "execution_count": 1,
   "metadata": {
    "collapsed": false,
    "deletable": true,
    "editable": true
   },
   "outputs": [],
   "source": [
    "from sympy import *\n",
    "from sympy import stats\n",
    "\n",
    "import sys\n",
    "\n",
    "from random import randint, randrange, normalvariate, shuffle\n",
    "from collections import Counter, defaultdict\n",
    "\n",
    "from itertools import permutations\n",
    "from statistics import mean\n",
    "\n",
    "sys.setrecursionlimit(10000000)\n",
    "init_printing()\n",
    "\n",
    "import matplotlib.pyplot as plt\n",
    "%matplotlib inline\n",
    "plt.rcParams['figure.figsize'] = (10.0, 10.0)"
   ]
  },
  {
   "cell_type": "markdown",
   "metadata": {
    "collapsed": false,
    "deletable": true,
    "editable": true
   },
   "source": [
    "t, m, i, k, n, z = symbols('t m i k n z')\n",
    "a, b = IndexedBase('a'), IndexedBase('b')"
   ]
  },
  {
   "cell_type": "code",
   "execution_count": 2,
   "metadata": {
    "collapsed": false,
    "deletable": true,
    "editable": true
   },
   "outputs": [],
   "source": [
    "def draw_frequencies_histogram(seq, bins, normed=None, pdf=None):\n",
    "    \n",
    "    if callable(pdf):\n",
    "        normed=True\n",
    "        domain, theo_fn = pdf(seq)\n",
    "        plt.plot(domain, [theo_fn(i) for i in domain], 'b')\n",
    "    \n",
    "    n, bins, patches = plt.hist(list(seq), bins, normed=normed, facecolor='green', alpha=0.5)\n",
    "    \n",
    "    plt.grid(True)\n",
    "    plt.show()"
   ]
  },
  {
   "cell_type": "code",
   "execution_count": 3,
   "metadata": {
    "collapsed": false,
    "deletable": true,
    "editable": true
   },
   "outputs": [
    {
     "ename": "SyntaxError",
     "evalue": "invalid syntax (<ipython-input-3-584e4f12cd9c>, line 8)",
     "output_type": "error",
     "traceback": [
      "\u001b[0;36m  File \u001b[0;32m\"<ipython-input-3-584e4f12cd9c>\"\u001b[0;36m, line \u001b[0;32m8\u001b[0m\n\u001b[0;31m    def C(samples, *args, repetitions=1, **kwds):\u001b[0m\n\u001b[0m                                    ^\u001b[0m\n\u001b[0;31mSyntaxError\u001b[0m\u001b[0;31m:\u001b[0m invalid syntax\n"
     ]
    }
   ],
   "source": [
    "class stats_test:\n",
    "    \n",
    "    def __init__(self, observed):\n",
    "        self.observed = observed\n",
    "    \n",
    "    def __call__(self, f):\n",
    "        \n",
    "        def C(samples, *args, repetitions=1, **kwds):\n",
    "            obs = []\n",
    "            for r in range(repetitions):\n",
    "                freqs = Counter(f(*args, **kwds) for _ in range(samples))\n",
    "                o = self.observed(freqs)\n",
    "                obs.append(float(o))\n",
    "\n",
    "            return obs if repetitions-1 else {'freqs': freqs, 'observed': o}\n",
    "\n",
    "        return C"
   ]
  },
  {
   "cell_type": "markdown",
   "metadata": {
    "deletable": true,
    "editable": true
   },
   "source": [
    "# $\\chi^{2}$ pdf\n",
    "- https://en.wikipedia.org/wiki/Chi-squared_distribution\n",
    "- http://docs.sympy.org/dev/modules/stats.html#sympy.stats.ChiSquared"
   ]
  },
  {
   "cell_type": "code",
   "execution_count": null,
   "metadata": {
    "collapsed": false,
    "deletable": true,
    "editable": true
   },
   "outputs": [],
   "source": [
    "def ChiSquared_distribution(z, freedom_degrees):\n",
    "    X_Chi_rv = stats.ChiSquared(symbols('x'), freedom_degrees)\n",
    "    pdf = stats.density(X_Chi_rv)\n",
    "    return Lambda([z], pdf(z))"
   ]
  },
  {
   "cell_type": "code",
   "execution_count": null,
   "metadata": {
    "collapsed": false,
    "deletable": true,
    "editable": true
   },
   "outputs": [],
   "source": [
    "ChiSquared_fn = ChiSquared_distribution(z, freedom_degrees=9)\n",
    "ChiSquared_fn"
   ]
  },
  {
   "cell_type": "code",
   "execution_count": null,
   "metadata": {
    "collapsed": false,
    "deletable": true,
    "editable": true
   },
   "outputs": [],
   "source": [
    "from numpy import linspace\n",
    "\n",
    "domain = linspace(0, 35, 1e3)\n",
    "plt.plot(domain, [ChiSquared_fn(i) for i in domain], 'b')\n",
    "plt.grid(True)\n",
    "None"
   ]
  },
  {
   "cell_type": "code",
   "execution_count": null,
   "metadata": {
    "collapsed": true,
    "deletable": true,
    "editable": true
   },
   "outputs": [],
   "source": [
    "def Chi_square_observed(freqs):\n",
    "    f = sum(freqs.values())/Integer(len(freqs))\n",
    "    return sum((f-v)**2 for v in freqs.values())/f"
   ]
  },
  {
   "cell_type": "markdown",
   "metadata": {
    "deletable": true,
    "editable": true
   },
   "source": [
    "# Frequencies"
   ]
  },
  {
   "cell_type": "code",
   "execution_count": null,
   "metadata": {
    "collapsed": false,
    "deletable": true,
    "editable": true
   },
   "outputs": [],
   "source": [
    "[randint(1, 10) for i in range(5)]"
   ]
  },
  {
   "cell_type": "markdown",
   "metadata": {
    "deletable": true,
    "editable": true
   },
   "source": [
    "Function `test_randint` will use function `random.randint` to sample `N` times a number in $\\{1,\\ldots,n\\}$, producing a `Counter` object:"
   ]
  },
  {
   "cell_type": "markdown",
   "metadata": {
    "collapsed": false,
    "deletable": true,
    "editable": true
   },
   "source": [
    "@stats_test(Chi_square_observed)\n",
    "def test_randint(n):\n",
    "    return randint(1, n)"
   ]
  },
  {
   "cell_type": "code",
   "execution_count": null,
   "metadata": {
    "collapsed": false,
    "deletable": true,
    "editable": true
   },
   "outputs": [],
   "source": [
    "experiment = test_randint(n=10, samples=500)\n",
    "experiment['freqs']"
   ]
  },
  {
   "cell_type": "code",
   "execution_count": null,
   "metadata": {
    "collapsed": false,
    "deletable": true,
    "editable": true
   },
   "outputs": [],
   "source": [
    "experiment['observed']"
   ]
  },
  {
   "cell_type": "code",
   "execution_count": null,
   "metadata": {
    "collapsed": false,
    "deletable": true,
    "editable": true
   },
   "outputs": [],
   "source": [
    "draw_frequencies_histogram(experiment['freqs'].elements(), bins=len(experiment['freqs']))"
   ]
  },
  {
   "cell_type": "code",
   "execution_count": null,
   "metadata": {
    "collapsed": false,
    "deletable": true,
    "editable": true
   },
   "outputs": [],
   "source": [
    "n = 10\n",
    "experiment = test_randint(n=n, samples=2000, repetitions=1000)"
   ]
  },
  {
   "cell_type": "code",
   "execution_count": null,
   "metadata": {
    "collapsed": false,
    "deletable": true,
    "editable": true
   },
   "outputs": [],
   "source": [
    "draw_frequencies_histogram(experiment, bins=80, \n",
    "                           pdf=lambda seq: (linspace(0, max(seq), 1e3), \n",
    "                                            ChiSquared_distribution(z, freedom_degrees=n-1)))"
   ]
  },
  {
   "cell_type": "markdown",
   "metadata": {
    "deletable": true,
    "editable": true
   },
   "source": [
    "# $\\mathcal{N}$ pdf\n",
    "\n",
    "- http://docs.sympy.org/dev/modules/stats.html#sympy.stats.Normal"
   ]
  },
  {
   "cell_type": "code",
   "execution_count": null,
   "metadata": {
    "collapsed": false,
    "deletable": true,
    "editable": true
   },
   "outputs": [],
   "source": [
    "def Normal_distribution(z, mean, std):\n",
    "    Normal_rv = stats.Normal(symbols('x'), mean, std)\n",
    "    pdf = stats.density(Normal_rv)\n",
    "    return Lambda([z], pdf(z))"
   ]
  },
  {
   "cell_type": "code",
   "execution_count": null,
   "metadata": {
    "collapsed": false,
    "deletable": true,
    "editable": true
   },
   "outputs": [],
   "source": [
    "Normal_fn = Normal_distribution(z, 0, 1)\n",
    "Normal_fn"
   ]
  },
  {
   "cell_type": "code",
   "execution_count": null,
   "metadata": {
    "collapsed": false,
    "deletable": true,
    "editable": true
   },
   "outputs": [],
   "source": [
    "N = 1000\n",
    "draw_frequencies_histogram([normalvariate(0, 1) for _ in range(N)], 80, \n",
    "                           pdf=lambda seq: (linspace(-4, 4, 1e3), Normal_fn))"
   ]
  },
  {
   "cell_type": "markdown",
   "metadata": {
    "deletable": true,
    "editable": true
   },
   "source": [
    "# Permutations"
   ]
  },
  {
   "cell_type": "code",
   "execution_count": null,
   "metadata": {
    "collapsed": true,
    "deletable": true,
    "editable": true
   },
   "outputs": [],
   "source": [
    "@stats_test(Chi_square_observed)\n",
    "def rand_perm(seq):\n",
    "    shuffle(seq)\n",
    "    return tuple(seq)"
   ]
  },
  {
   "cell_type": "code",
   "execution_count": null,
   "metadata": {
    "collapsed": false,
    "deletable": true,
    "editable": true
   },
   "outputs": [],
   "source": [
    "a = IndexedBase('a')\n",
    "experiment = rand_perm(seq=[a[i] for i in range(5)], samples=10**4)"
   ]
  },
  {
   "cell_type": "code",
   "execution_count": null,
   "metadata": {
    "collapsed": false,
    "deletable": true,
    "editable": true
   },
   "outputs": [],
   "source": [
    "experiment['freqs']"
   ]
  },
  {
   "cell_type": "code",
   "execution_count": null,
   "metadata": {
    "collapsed": false,
    "deletable": true,
    "editable": true
   },
   "outputs": [],
   "source": [
    "experiment['observed']"
   ]
  },
  {
   "cell_type": "code",
   "execution_count": null,
   "metadata": {
    "collapsed": false,
    "deletable": true,
    "editable": true
   },
   "outputs": [],
   "source": [
    "#draw_frequencies_histogram(experiment['freqs'].elements(), bins=len(experiment['freqs']))"
   ]
  },
  {
   "cell_type": "code",
   "execution_count": null,
   "metadata": {
    "collapsed": false,
    "deletable": true,
    "editable": true
   },
   "outputs": [],
   "source": [
    "n = 5\n",
    "experiment = rand_perm(seq=[a[i] for i in range(n)], samples=10**4, repetitions=10**3)\n",
    "draw_frequencies_histogram(experiment, bins=80, \n",
    "                           pdf=lambda seq: (linspace(0, max(seq), 1e3), \n",
    "                                            ChiSquared_distribution(z, freedom_degrees=factorial(n)-1)))"
   ]
  },
  {
   "cell_type": "markdown",
   "metadata": {
    "deletable": true,
    "editable": true
   },
   "source": [
    "# ---\n",
    "<a rel=\"license\" href=\"http://creativecommons.org/licenses/by-nc-sa/4.0/\"><img alt=\"Creative Commons License\" style=\"border-width:0\" src=\"https://i.creativecommons.org/l/by-nc-sa/4.0/88x31.png\" /></a><br />This work is licensed under a <a rel=\"license\" href=\"http://creativecommons.org/licenses/by-nc-sa/4.0/\">Creative Commons Attribution-NonCommercial-ShareAlike 4.0 International License</a>."
   ]
  },
  {
   "cell_type": "code",
   "execution_count": null,
   "metadata": {
    "collapsed": true,
    "deletable": true,
    "editable": true
   },
   "outputs": [],
   "source": []
  }
 ],
 "metadata": {
  "kernelspec": {
   "display_name": "Python 2",
   "language": "python",
   "name": "python2"
  },
  "language_info": {
   "codemirror_mode": {
    "name": "ipython",
    "version": 2
   },
   "file_extension": ".py",
   "mimetype": "text/x-python",
   "name": "python",
   "nbconvert_exporter": "python",
   "pygments_lexer": "ipython2",
   "version": "2.7.13"
  }
 },
 "nbformat": 4,
 "nbformat_minor": 1
}
